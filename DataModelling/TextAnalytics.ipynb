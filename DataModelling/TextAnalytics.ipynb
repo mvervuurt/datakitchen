{
 "cells": [
  {
   "cell_type": "markdown",
   "metadata": {},
   "source": [
    "# Text Analytics\n",
    "* normalize text / remove punctuation\n",
    "* set words to lower case\n",
    "* remove stop words\n",
    "* stem words\n",
    "* hash features\n",
    "* scoare and select features with respect to label (i.e. chisquare text)\n",
    "* model and evaluate (i.e. sentiment analysis)"
   ]
  },
  {
   "cell_type": "markdown",
   "metadata": {},
   "source": [
    "## Text Normalization"
   ]
  },
  {
   "cell_type": "code",
   "execution_count": 11,
   "metadata": {},
   "outputs": [],
   "source": [
    "import pandas as pd\n",
    "import numpy as np\n",
    "import nltk\n",
    "import string\n",
    "from nltk.stem.porter import PorterStemmer"
   ]
  },
  {
   "cell_type": "code",
   "execution_count": 12,
   "metadata": {},
   "outputs": [
    {
     "data": {
      "text/plain": [
       "'!\"#$%&\\'()*+,-./:;<=>?@[\\\\]^_`{|}~'"
      ]
     },
     "execution_count": 12,
     "metadata": {},
     "output_type": "execute_result"
    }
   ],
   "source": [
    "sp = string.punctuation\n",
    "sp"
   ]
  },
  {
   "cell_type": "code",
   "execution_count": 13,
   "metadata": {},
   "outputs": [],
   "source": [
    "#nltk.regexp_tokenize(...)\n",
    "# nltk.FreqDist(...)\n",
    "# NLTK expects unicode!"
   ]
  },
  {
   "cell_type": "code",
   "execution_count": 14,
   "metadata": {},
   "outputs": [],
   "source": [
    "def to_TF(tweets):\n",
    "    import pandas as pd\n",
    "    import nltk\n",
    "    tweets = list(map(lambda t: nltk.regexp_tokenize(t, r'\\S+'), tweets))\n",
    "    tweets = [w for l in tweets for w in l]\n",
    "\n",
    "    ## Compute the frequency distribution of the words as a dictionary\n",
    "    fdist = nltk.FreqDist(tweets) \n",
    "    ## Convert the dictionary to a dataframe contaning the words and\n",
    "    ## counts indexed by the words, and then take the transpose.\n",
    "    count_frame = pd.DataFrame(fdist, index =[0]).T\n",
    "    count_frame.columns = ['Count']\n",
    "    return(count_frame.sort_values('Count', ascending = False))"
   ]
  },
  {
   "cell_type": "code",
   "execution_count": 15,
   "metadata": {},
   "outputs": [],
   "source": [
    "def wf_bar(wf):\n",
    "    import matplotlib.pyplot as plt\n",
    "    ## Barplot of the most fequent words.   \n",
    "    fig = plt.figure(figsize=(12, 9))\n",
    "    ax = fig.gca()    \n",
    "    wf['Count'][:60].plot(kind = 'bar', ax = ax)\n",
    "    ax.set_title('Frequency of the most common words')\n",
    "    ax.set_ylabel('Frequency of word')\n",
    "    ax.set_xlabel('Word')\n",
    "    plt.show()\n",
    "    return 'Done'"
   ]
  },
  {
   "cell_type": "code",
   "execution_count": null,
   "metadata": {},
   "outputs": [],
   "source": []
  }
 ],
 "metadata": {
  "kernelspec": {
   "display_name": "Python 3",
   "language": "python",
   "name": "python3"
  },
  "language_info": {
   "codemirror_mode": {
    "name": "ipython",
    "version": 3
   },
   "file_extension": ".py",
   "mimetype": "text/x-python",
   "name": "python",
   "nbconvert_exporter": "python",
   "pygments_lexer": "ipython3",
   "version": "3.6.3"
  }
 },
 "nbformat": 4,
 "nbformat_minor": 2
}
