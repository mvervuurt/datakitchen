{
 "cells": [
  {
   "cell_type": "markdown",
   "metadata": {},
   "source": [
    "# Model Evaluation\n",
    "```python \n",
    "# Returns an array of predictions:\n",
    ">>> predictions = my_model.predict(data_test) \n",
    ">>> predictions\n",
    "[0, 0, 0, 1, 0]\n",
    "\n",
    "# The actual answers:\n",
    ">>> label_test\n",
    "[1, 1, 0, 0, 0]\n",
    "\n",
    ">>> accuracy_score(label_test, predictions)\n",
    "0.4000000000000000\n",
    "\n",
    ">>> accuracy_score(label_test, predictions, normalize=False)\n",
    "2\n",
    "```"
   ]
  },
  {
   "cell_type": "code",
   "execution_count": null,
   "metadata": {},
   "outputs": [],
   "source": []
  }
 ],
 "metadata": {
  "kernelspec": {
   "display_name": "Python 3",
   "language": "python",
   "name": "python3"
  },
  "language_info": {
   "codemirror_mode": {
    "name": "ipython",
    "version": 3
   },
   "file_extension": ".py",
   "mimetype": "text/x-python",
   "name": "python",
   "nbconvert_exporter": "python",
   "pygments_lexer": "ipython3",
   "version": "3.6.2"
  }
 },
 "nbformat": 4,
 "nbformat_minor": 2
}
