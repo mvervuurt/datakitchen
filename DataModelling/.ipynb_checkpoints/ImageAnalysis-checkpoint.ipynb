{
 "cells": [
  {
   "attachments": {},
   "cell_type": "markdown",
   "metadata": {},
   "source": [
    "# Image Analysis\n",
    "* Frequency distributions with 256 bins (RGB colors / uint8)\n",
    "* Cumulative distribution of the histogram\n",
    "* Histogram equalization to improve contrast\n",
    "* Edge Detection / Corner Detection (Sobel Edge or Harris Corner)\n",
    "  * Segmentation\n",
    "  * to clean up segments apply erosion\n",
    "  * to clean up segments apply dilation\n",
    "  * apply opening or closing to clean up image"
   ]
  },
  {
   "cell_type": "code",
   "execution_count": 20,
   "metadata": {},
   "outputs": [],
   "source": [
    "import os\n",
    "from scipy import misc as mc\n",
    "from scipy.ndimage import interpolation\n",
    "import glob\n",
    "\n",
    "from PIL import Image\n",
    "import requests\n",
    "import numpy as np\n",
    "from io import BytesIO\n",
    "import skimage.color as sc\n",
    "from skimage import exposure\n",
    "from scipy.ndimage.filters import gaussian_filter as gf\n",
    "from scipy.ndimage.filters import median_filter as mf\n",
    "from skimage.feature import corner_harris, corner_peaks\n",
    "from skimage import morphology"
   ]
  },
  {
   "cell_type": "code",
   "execution_count": 22,
   "metadata": {},
   "outputs": [],
   "source": [
    "#mode == 'L' read in a grayscale image\n",
    "#misc.imread(filepath, mode = 'L')\n",
    "#mc.resize(im, size)\n",
    "#interpolation.rotate(im, angle)\n",
    "#gf(im, sigma = sigma) #sigma the amount of stdev pixels or width of the gaussian convulation\n",
    "#mf(im, size = size) #size number of pixels\n",
    "#morphology.binary_erosion(a, np.ones((2,2))).astype(np.uint8) #\"binary erosion with diamond operator\"\n",
    "#morphology.binary_dilation(a, np.ones((2,2))).astype(np.uint8)\n",
    "#morphology.binary_opening(a, np.ones((2,2))).astype(np.uint8)\n",
    "#morphology.binary_closing(a, np.ones((2,2))).astype(np.uint8)"
   ]
  },
  {
   "cell_type": "code",
   "execution_count": 15,
   "metadata": {},
   "outputs": [],
   "source": [
    "#exposure.equalize_adapthist(im)"
   ]
  },
  {
   "cell_type": "code",
   "execution_count": 16,
   "metadata": {},
   "outputs": [],
   "source": [
    "def edge_sobel(im_list):\n",
    "    from scipy import ndimage\n",
    "    import skimage.color as sc\n",
    "    import numpy as np\n",
    "    out = []\n",
    "    for image in im_list:\n",
    "        image = sc.rgb2gray(image) # Convert color image to gray scale\n",
    "        dx = ndimage.sobel(image, 1)  # horizontal derivative\n",
    "        dy = ndimage.sobel(image, 0)  # vertical derivative\n",
    "        mag = np.hypot(dx, dy)  # magnitude\n",
    "        mag *= 255.0 / np.amax(mag)  # normalize (Q&D)\n",
    "        mag = mag.astype(np.uint8)\n",
    "        out.append(mag)\n",
    "    return out"
   ]
  },
  {
   "cell_type": "code",
   "execution_count": 17,
   "metadata": {},
   "outputs": [],
   "source": [
    "def plot_harris(im, harris, markersize = 20, color = 'red'):\n",
    "    import matplotlib.pyplot as plt\n",
    "    import numpy as np\n",
    "    fig = plt.figure(figsize=(8, 6))\n",
    "    fig.clf()\n",
    "    ax = fig.gca()    \n",
    "    ax.imshow(np.array(im).astype(float))\n",
    "    ax.plot(harris[:, 1], harris[:, 0], 'r+', color = color, markersize=markersize)\n",
    "    return 'Done'  "
   ]
  },
  {
   "cell_type": "code",
   "execution_count": 18,
   "metadata": {},
   "outputs": [],
   "source": [
    "def corner_harr(im, min_distance = 4):\n",
    "    from skimage.feature import corner_harris, corner_peaks\n",
    "    mag = corner_harris(im)\n",
    "    return corner_peaks(mag, min_distance = min_distance)"
   ]
  },
  {
   "cell_type": "code",
   "execution_count": null,
   "metadata": {},
   "outputs": [],
   "source": []
  },
  {
   "cell_type": "code",
   "execution_count": null,
   "metadata": {},
   "outputs": [],
   "source": []
  }
 ],
 "metadata": {
  "kernelspec": {
   "display_name": "Python 3",
   "language": "python",
   "name": "python3"
  },
  "language_info": {
   "codemirror_mode": {
    "name": "ipython",
    "version": 3
   },
   "file_extension": ".py",
   "mimetype": "text/x-python",
   "name": "python",
   "nbconvert_exporter": "python",
   "pygments_lexer": "ipython3",
   "version": "3.6.2"
  }
 },
 "nbformat": 4,
 "nbformat_minor": 2
}
