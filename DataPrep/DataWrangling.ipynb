{
 "cells": [
  {
   "cell_type": "markdown",
   "metadata": {},
   "source": [
    "# Data Wrangling"
   ]
  },
  {
   "cell_type": "markdown",
   "metadata": {},
   "source": [
    "## Some Pandas Basics\n",
    "A Dataframe can be best seen as a collection of Series."
   ]
  },
  {
   "cell_type": "code",
   "execution_count": 190,
   "metadata": {},
   "outputs": [],
   "source": [
    "import pandas as pd\n",
    "import numpy as np\n",
    "from sklearn.feature_extraction.text import CountVectorizer\n",
    "from scipy import misc\n",
    "import scipy.io.wavfile as wavfile"
   ]
  },
  {
   "cell_type": "markdown",
   "metadata": {},
   "source": [
    "```python\n",
    "#create DF from a file\n",
    "from sqlalchemy import create_engine\n",
    "engine = create_engine('sqlite:///:memory:')\n",
    "\n",
    "#read data from a SQL Database\n",
    "sql_df   = pd.read_sql_table('my_table', engine, columns=['ColA', 'ColB'])\n",
    "\n",
    "xls_df   = pd.read_excel('my_dataset.xlsx', 'Sheet1', na_values=['NA', '?'])\n",
    "json_df  = pd.read_json('my_dataset.json', orient='columns')\n",
    "csv_df   = pd.read_csv('my_dataset.csv', sep=',')\n",
    "\n",
    "#loads all HTML tables into a list of DataFrames\n",
    "html_df = pd.read_html('http://page.com/with/table.html')[0]\n",
    "\n",
    "#writing dataframe back to disk\n",
    "sql_df.to_sql('table', engine)\n",
    "xls_df.to_excel('dataset.xlsx')\n",
    "json_df.to_json('dataset.json')\n",
    "csv_df.to_csv('dataset.csv')\n",
    "```"
   ]
  },
  {
   "cell_type": "code",
   "execution_count": 92,
   "metadata": {},
   "outputs": [
    {
     "data": {
      "text/html": [
       "<div>\n",
       "<style>\n",
       "    .dataframe thead tr:only-child th {\n",
       "        text-align: right;\n",
       "    }\n",
       "\n",
       "    .dataframe thead th {\n",
       "        text-align: left;\n",
       "    }\n",
       "\n",
       "    .dataframe tbody tr th {\n",
       "        vertical-align: top;\n",
       "    }\n",
       "</style>\n",
       "<table border=\"1\" class=\"dataframe\">\n",
       "  <thead>\n",
       "    <tr style=\"text-align: right;\">\n",
       "      <th></th>\n",
       "      <th>A</th>\n",
       "      <th>B</th>\n",
       "      <th>C</th>\n",
       "      <th>D</th>\n",
       "      <th>E</th>\n",
       "      <th>F</th>\n",
       "    </tr>\n",
       "  </thead>\n",
       "  <tbody>\n",
       "    <tr>\n",
       "      <th>0</th>\n",
       "      <td>1.0</td>\n",
       "      <td>2013-01-02</td>\n",
       "      <td>1.0</td>\n",
       "      <td>3</td>\n",
       "      <td>test</td>\n",
       "      <td>foo</td>\n",
       "    </tr>\n",
       "    <tr>\n",
       "      <th>1</th>\n",
       "      <td>1.0</td>\n",
       "      <td>2013-01-02</td>\n",
       "      <td>1.0</td>\n",
       "      <td>3</td>\n",
       "      <td>train</td>\n",
       "      <td>foo</td>\n",
       "    </tr>\n",
       "    <tr>\n",
       "      <th>2</th>\n",
       "      <td>1.0</td>\n",
       "      <td>2013-01-02</td>\n",
       "      <td>1.0</td>\n",
       "      <td>3</td>\n",
       "      <td>test</td>\n",
       "      <td>foo</td>\n",
       "    </tr>\n",
       "    <tr>\n",
       "      <th>3</th>\n",
       "      <td>1.0</td>\n",
       "      <td>2013-01-02</td>\n",
       "      <td>1.0</td>\n",
       "      <td>3</td>\n",
       "      <td>train</td>\n",
       "      <td>foo</td>\n",
       "    </tr>\n",
       "  </tbody>\n",
       "</table>\n",
       "</div>"
      ],
      "text/plain": [
       "     A          B    C  D      E    F\n",
       "0  1.0 2013-01-02  1.0  3   test  foo\n",
       "1  1.0 2013-01-02  1.0  3  train  foo\n",
       "2  1.0 2013-01-02  1.0  3   test  foo\n",
       "3  1.0 2013-01-02  1.0  3  train  foo"
      ]
     },
     "execution_count": 92,
     "metadata": {},
     "output_type": "execute_result"
    }
   ],
   "source": [
    "#create df from dicts\n",
    "df2 = pd.DataFrame({ 'A' : 1.,\n",
    "                    'B' : pd.Timestamp('20130102'),\n",
    "                    'C' : pd.Series(1,index=list(range(4)),dtype='float32'),\n",
    "                    'D' : np.array([3] * 4,dtype='int32'),\n",
    "                    'E' : pd.Categorical([\"test\",\"train\",\"test\",\"train\"]),\n",
    "                    'F' : 'foo' })\n",
    "df2"
   ]
  },
  {
   "cell_type": "code",
   "execution_count": 93,
   "metadata": {},
   "outputs": [
    {
     "data": {
      "text/html": [
       "<div>\n",
       "<style>\n",
       "    .dataframe thead tr:only-child th {\n",
       "        text-align: right;\n",
       "    }\n",
       "\n",
       "    .dataframe thead th {\n",
       "        text-align: left;\n",
       "    }\n",
       "\n",
       "    .dataframe tbody tr th {\n",
       "        vertical-align: top;\n",
       "    }\n",
       "</style>\n",
       "<table border=\"1\" class=\"dataframe\">\n",
       "  <thead>\n",
       "    <tr style=\"text-align: right;\">\n",
       "      <th></th>\n",
       "      <th>0</th>\n",
       "      <th>1</th>\n",
       "      <th>2</th>\n",
       "      <th>3</th>\n",
       "    </tr>\n",
       "  </thead>\n",
       "  <tbody>\n",
       "    <tr>\n",
       "      <th>0</th>\n",
       "      <td>-1.353916</td>\n",
       "      <td>-0.956077</td>\n",
       "      <td>1.918780</td>\n",
       "      <td>0.318696</td>\n",
       "    </tr>\n",
       "    <tr>\n",
       "      <th>1</th>\n",
       "      <td>0.946857</td>\n",
       "      <td>-1.589318</td>\n",
       "      <td>1.863635</td>\n",
       "      <td>1.136637</td>\n",
       "    </tr>\n",
       "    <tr>\n",
       "      <th>2</th>\n",
       "      <td>-0.156633</td>\n",
       "      <td>-2.278528</td>\n",
       "      <td>0.430331</td>\n",
       "      <td>1.109732</td>\n",
       "    </tr>\n",
       "    <tr>\n",
       "      <th>3</th>\n",
       "      <td>0.796430</td>\n",
       "      <td>-0.751505</td>\n",
       "      <td>-0.068205</td>\n",
       "      <td>0.549385</td>\n",
       "    </tr>\n",
       "    <tr>\n",
       "      <th>4</th>\n",
       "      <td>0.610282</td>\n",
       "      <td>-0.160709</td>\n",
       "      <td>0.352771</td>\n",
       "      <td>1.405675</td>\n",
       "    </tr>\n",
       "    <tr>\n",
       "      <th>5</th>\n",
       "      <td>-0.244197</td>\n",
       "      <td>1.042836</td>\n",
       "      <td>-1.829334</td>\n",
       "      <td>0.322587</td>\n",
       "    </tr>\n",
       "    <tr>\n",
       "      <th>6</th>\n",
       "      <td>0.485236</td>\n",
       "      <td>0.601111</td>\n",
       "      <td>1.497022</td>\n",
       "      <td>-0.133032</td>\n",
       "    </tr>\n",
       "    <tr>\n",
       "      <th>7</th>\n",
       "      <td>0.074969</td>\n",
       "      <td>0.106060</td>\n",
       "      <td>0.193874</td>\n",
       "      <td>0.529798</td>\n",
       "    </tr>\n",
       "    <tr>\n",
       "      <th>8</th>\n",
       "      <td>0.996205</td>\n",
       "      <td>-2.159927</td>\n",
       "      <td>0.110629</td>\n",
       "      <td>0.415107</td>\n",
       "    </tr>\n",
       "    <tr>\n",
       "      <th>9</th>\n",
       "      <td>-1.328051</td>\n",
       "      <td>-0.044505</td>\n",
       "      <td>-1.018048</td>\n",
       "      <td>-0.379998</td>\n",
       "    </tr>\n",
       "  </tbody>\n",
       "</table>\n",
       "</div>"
      ],
      "text/plain": [
       "          0         1         2         3\n",
       "0 -1.353916 -0.956077  1.918780  0.318696\n",
       "1  0.946857 -1.589318  1.863635  1.136637\n",
       "2 -0.156633 -2.278528  0.430331  1.109732\n",
       "3  0.796430 -0.751505 -0.068205  0.549385\n",
       "4  0.610282 -0.160709  0.352771  1.405675\n",
       "5 -0.244197  1.042836 -1.829334  0.322587\n",
       "6  0.485236  0.601111  1.497022 -0.133032\n",
       "7  0.074969  0.106060  0.193874  0.529798\n",
       "8  0.996205 -2.159927  0.110629  0.415107\n",
       "9 -1.328051 -0.044505 -1.018048 -0.379998"
      ]
     },
     "execution_count": 93,
     "metadata": {},
     "output_type": "execute_result"
    }
   ],
   "source": [
    "#create DF from Random data\n",
    "my_df = pd.DataFrame(np.random.randn(10,4))\n",
    "my_df"
   ]
  },
  {
   "cell_type": "code",
   "execution_count": 94,
   "metadata": {},
   "outputs": [
    {
     "data": {
      "text/plain": [
       "RangeIndex(start=0, stop=4, step=1)"
      ]
     },
     "execution_count": 94,
     "metadata": {},
     "output_type": "execute_result"
    }
   ],
   "source": [
    "#View columns\n",
    "my_df.columns"
   ]
  },
  {
   "cell_type": "code",
   "execution_count": 95,
   "metadata": {},
   "outputs": [
    {
     "data": {
      "text/plain": [
       "Index(['c1', 'c2', 'c3', 'c4'], dtype='object')"
      ]
     },
     "execution_count": 95,
     "metadata": {},
     "output_type": "execute_result"
    }
   ],
   "source": [
    "#rename columns\n",
    "my_df.columns = ['c1', 'c2', 'c3', 'c4']\n",
    "my_df.columns"
   ]
  },
  {
   "cell_type": "code",
   "execution_count": 96,
   "metadata": {},
   "outputs": [
    {
     "data": {
      "text/html": [
       "<div>\n",
       "<style>\n",
       "    .dataframe thead tr:only-child th {\n",
       "        text-align: right;\n",
       "    }\n",
       "\n",
       "    .dataframe thead th {\n",
       "        text-align: left;\n",
       "    }\n",
       "\n",
       "    .dataframe tbody tr th {\n",
       "        vertical-align: top;\n",
       "    }\n",
       "</style>\n",
       "<table border=\"1\" class=\"dataframe\">\n",
       "  <thead>\n",
       "    <tr style=\"text-align: right;\">\n",
       "      <th></th>\n",
       "      <th>c1</th>\n",
       "      <th>c2</th>\n",
       "      <th>c3</th>\n",
       "      <th>c4</th>\n",
       "    </tr>\n",
       "  </thead>\n",
       "  <tbody>\n",
       "    <tr>\n",
       "      <th>0</th>\n",
       "      <td>-1.353916</td>\n",
       "      <td>-0.956077</td>\n",
       "      <td>1.918780</td>\n",
       "      <td>0.318696</td>\n",
       "    </tr>\n",
       "    <tr>\n",
       "      <th>1</th>\n",
       "      <td>0.946857</td>\n",
       "      <td>-1.589318</td>\n",
       "      <td>1.863635</td>\n",
       "      <td>1.136637</td>\n",
       "    </tr>\n",
       "    <tr>\n",
       "      <th>2</th>\n",
       "      <td>-0.156633</td>\n",
       "      <td>-2.278528</td>\n",
       "      <td>0.430331</td>\n",
       "      <td>1.109732</td>\n",
       "    </tr>\n",
       "  </tbody>\n",
       "</table>\n",
       "</div>"
      ],
      "text/plain": [
       "         c1        c2        c3        c4\n",
       "0 -1.353916 -0.956077  1.918780  0.318696\n",
       "1  0.946857 -1.589318  1.863635  1.136637\n",
       "2 -0.156633 -2.278528  0.430331  1.109732"
      ]
     },
     "execution_count": 96,
     "metadata": {},
     "output_type": "execute_result"
    }
   ],
   "source": [
    "#head of data\n",
    "my_df.head(3)"
   ]
  },
  {
   "cell_type": "code",
   "execution_count": 97,
   "metadata": {},
   "outputs": [
    {
     "data": {
      "text/html": [
       "<div>\n",
       "<style>\n",
       "    .dataframe thead tr:only-child th {\n",
       "        text-align: right;\n",
       "    }\n",
       "\n",
       "    .dataframe thead th {\n",
       "        text-align: left;\n",
       "    }\n",
       "\n",
       "    .dataframe tbody tr th {\n",
       "        vertical-align: top;\n",
       "    }\n",
       "</style>\n",
       "<table border=\"1\" class=\"dataframe\">\n",
       "  <thead>\n",
       "    <tr style=\"text-align: right;\">\n",
       "      <th></th>\n",
       "      <th>c1</th>\n",
       "      <th>c2</th>\n",
       "      <th>c3</th>\n",
       "      <th>c4</th>\n",
       "    </tr>\n",
       "  </thead>\n",
       "  <tbody>\n",
       "    <tr>\n",
       "      <th>7</th>\n",
       "      <td>0.074969</td>\n",
       "      <td>0.106060</td>\n",
       "      <td>0.193874</td>\n",
       "      <td>0.529798</td>\n",
       "    </tr>\n",
       "    <tr>\n",
       "      <th>8</th>\n",
       "      <td>0.996205</td>\n",
       "      <td>-2.159927</td>\n",
       "      <td>0.110629</td>\n",
       "      <td>0.415107</td>\n",
       "    </tr>\n",
       "    <tr>\n",
       "      <th>9</th>\n",
       "      <td>-1.328051</td>\n",
       "      <td>-0.044505</td>\n",
       "      <td>-1.018048</td>\n",
       "      <td>-0.379998</td>\n",
       "    </tr>\n",
       "  </tbody>\n",
       "</table>\n",
       "</div>"
      ],
      "text/plain": [
       "         c1        c2        c3        c4\n",
       "7  0.074969  0.106060  0.193874  0.529798\n",
       "8  0.996205 -2.159927  0.110629  0.415107\n",
       "9 -1.328051 -0.044505 -1.018048 -0.379998"
      ]
     },
     "execution_count": 97,
     "metadata": {},
     "output_type": "execute_result"
    }
   ],
   "source": [
    "#tail of data\n",
    "my_df.tail(3)"
   ]
  },
  {
   "cell_type": "code",
   "execution_count": 98,
   "metadata": {},
   "outputs": [
    {
     "data": {
      "text/html": [
       "<div>\n",
       "<style>\n",
       "    .dataframe thead tr:only-child th {\n",
       "        text-align: right;\n",
       "    }\n",
       "\n",
       "    .dataframe thead th {\n",
       "        text-align: left;\n",
       "    }\n",
       "\n",
       "    .dataframe tbody tr th {\n",
       "        vertical-align: top;\n",
       "    }\n",
       "</style>\n",
       "<table border=\"1\" class=\"dataframe\">\n",
       "  <thead>\n",
       "    <tr style=\"text-align: right;\">\n",
       "      <th></th>\n",
       "      <th>c1</th>\n",
       "      <th>c2</th>\n",
       "      <th>c3</th>\n",
       "      <th>c4</th>\n",
       "    </tr>\n",
       "  </thead>\n",
       "  <tbody>\n",
       "    <tr>\n",
       "      <th>count</th>\n",
       "      <td>10.000000</td>\n",
       "      <td>10.000000</td>\n",
       "      <td>10.000000</td>\n",
       "      <td>10.000000</td>\n",
       "    </tr>\n",
       "    <tr>\n",
       "      <th>mean</th>\n",
       "      <td>0.082718</td>\n",
       "      <td>-0.619056</td>\n",
       "      <td>0.345146</td>\n",
       "      <td>0.527459</td>\n",
       "    </tr>\n",
       "    <tr>\n",
       "      <th>std</th>\n",
       "      <td>0.865982</td>\n",
       "      <td>1.131240</td>\n",
       "      <td>1.199614</td>\n",
       "      <td>0.561723</td>\n",
       "    </tr>\n",
       "    <tr>\n",
       "      <th>min</th>\n",
       "      <td>-1.353916</td>\n",
       "      <td>-2.278528</td>\n",
       "      <td>-1.829334</td>\n",
       "      <td>-0.379998</td>\n",
       "    </tr>\n",
       "    <tr>\n",
       "      <th>25%</th>\n",
       "      <td>-0.222306</td>\n",
       "      <td>-1.431007</td>\n",
       "      <td>-0.023496</td>\n",
       "      <td>0.319669</td>\n",
       "    </tr>\n",
       "    <tr>\n",
       "      <th>50%</th>\n",
       "      <td>0.280102</td>\n",
       "      <td>-0.456107</td>\n",
       "      <td>0.273322</td>\n",
       "      <td>0.472453</td>\n",
       "    </tr>\n",
       "    <tr>\n",
       "      <th>75%</th>\n",
       "      <td>0.749893</td>\n",
       "      <td>0.068419</td>\n",
       "      <td>1.230349</td>\n",
       "      <td>0.969645</td>\n",
       "    </tr>\n",
       "    <tr>\n",
       "      <th>max</th>\n",
       "      <td>0.996205</td>\n",
       "      <td>1.042836</td>\n",
       "      <td>1.918780</td>\n",
       "      <td>1.405675</td>\n",
       "    </tr>\n",
       "  </tbody>\n",
       "</table>\n",
       "</div>"
      ],
      "text/plain": [
       "              c1         c2         c3         c4\n",
       "count  10.000000  10.000000  10.000000  10.000000\n",
       "mean    0.082718  -0.619056   0.345146   0.527459\n",
       "std     0.865982   1.131240   1.199614   0.561723\n",
       "min    -1.353916  -2.278528  -1.829334  -0.379998\n",
       "25%    -0.222306  -1.431007  -0.023496   0.319669\n",
       "50%     0.280102  -0.456107   0.273322   0.472453\n",
       "75%     0.749893   0.068419   1.230349   0.969645\n",
       "max     0.996205   1.042836   1.918780   1.405675"
      ]
     },
     "execution_count": 98,
     "metadata": {},
     "output_type": "execute_result"
    }
   ],
   "source": [
    "#summary statistics\n",
    "my_df.describe()"
   ]
  },
  {
   "cell_type": "code",
   "execution_count": 99,
   "metadata": {},
   "outputs": [
    {
     "data": {
      "text/plain": [
       "RangeIndex(start=0, stop=10, step=1)"
      ]
     },
     "execution_count": 99,
     "metadata": {},
     "output_type": "execute_result"
    }
   ],
   "source": [
    "#view indices\n",
    "my_df.index"
   ]
  },
  {
   "cell_type": "code",
   "execution_count": 100,
   "metadata": {},
   "outputs": [
    {
     "data": {
      "text/plain": [
       "c1    float64\n",
       "c2    float64\n",
       "c3    float64\n",
       "c4    float64\n",
       "dtype: object"
      ]
     },
     "execution_count": 100,
     "metadata": {},
     "output_type": "execute_result"
    }
   ],
   "source": [
    "#view df types\n",
    "#objects are strings\n",
    "my_df.dtypes"
   ]
  },
  {
   "cell_type": "code",
   "execution_count": 101,
   "metadata": {},
   "outputs": [
    {
     "data": {
      "text/html": [
       "<div>\n",
       "<style>\n",
       "    .dataframe thead tr:only-child th {\n",
       "        text-align: right;\n",
       "    }\n",
       "\n",
       "    .dataframe thead th {\n",
       "        text-align: left;\n",
       "    }\n",
       "\n",
       "    .dataframe tbody tr th {\n",
       "        vertical-align: top;\n",
       "    }\n",
       "</style>\n",
       "<table border=\"1\" class=\"dataframe\">\n",
       "  <thead>\n",
       "    <tr style=\"text-align: right;\">\n",
       "      <th></th>\n",
       "      <th>0</th>\n",
       "      <th>1</th>\n",
       "      <th>2</th>\n",
       "      <th>3</th>\n",
       "      <th>4</th>\n",
       "      <th>5</th>\n",
       "      <th>6</th>\n",
       "      <th>7</th>\n",
       "      <th>8</th>\n",
       "      <th>9</th>\n",
       "    </tr>\n",
       "  </thead>\n",
       "  <tbody>\n",
       "    <tr>\n",
       "      <th>c1</th>\n",
       "      <td>-1.353916</td>\n",
       "      <td>0.946857</td>\n",
       "      <td>-0.156633</td>\n",
       "      <td>0.796430</td>\n",
       "      <td>0.610282</td>\n",
       "      <td>-0.244197</td>\n",
       "      <td>0.485236</td>\n",
       "      <td>0.074969</td>\n",
       "      <td>0.996205</td>\n",
       "      <td>-1.328051</td>\n",
       "    </tr>\n",
       "    <tr>\n",
       "      <th>c2</th>\n",
       "      <td>-0.956077</td>\n",
       "      <td>-1.589318</td>\n",
       "      <td>-2.278528</td>\n",
       "      <td>-0.751505</td>\n",
       "      <td>-0.160709</td>\n",
       "      <td>1.042836</td>\n",
       "      <td>0.601111</td>\n",
       "      <td>0.106060</td>\n",
       "      <td>-2.159927</td>\n",
       "      <td>-0.044505</td>\n",
       "    </tr>\n",
       "    <tr>\n",
       "      <th>c3</th>\n",
       "      <td>1.918780</td>\n",
       "      <td>1.863635</td>\n",
       "      <td>0.430331</td>\n",
       "      <td>-0.068205</td>\n",
       "      <td>0.352771</td>\n",
       "      <td>-1.829334</td>\n",
       "      <td>1.497022</td>\n",
       "      <td>0.193874</td>\n",
       "      <td>0.110629</td>\n",
       "      <td>-1.018048</td>\n",
       "    </tr>\n",
       "    <tr>\n",
       "      <th>c4</th>\n",
       "      <td>0.318696</td>\n",
       "      <td>1.136637</td>\n",
       "      <td>1.109732</td>\n",
       "      <td>0.549385</td>\n",
       "      <td>1.405675</td>\n",
       "      <td>0.322587</td>\n",
       "      <td>-0.133032</td>\n",
       "      <td>0.529798</td>\n",
       "      <td>0.415107</td>\n",
       "      <td>-0.379998</td>\n",
       "    </tr>\n",
       "  </tbody>\n",
       "</table>\n",
       "</div>"
      ],
      "text/plain": [
       "           0         1         2         3         4         5         6  \\\n",
       "c1 -1.353916  0.946857 -0.156633  0.796430  0.610282 -0.244197  0.485236   \n",
       "c2 -0.956077 -1.589318 -2.278528 -0.751505 -0.160709  1.042836  0.601111   \n",
       "c3  1.918780  1.863635  0.430331 -0.068205  0.352771 -1.829334  1.497022   \n",
       "c4  0.318696  1.136637  1.109732  0.549385  1.405675  0.322587 -0.133032   \n",
       "\n",
       "           7         8         9  \n",
       "c1  0.074969  0.996205 -1.328051  \n",
       "c2  0.106060 -2.159927 -0.044505  \n",
       "c3  0.193874  0.110629 -1.018048  \n",
       "c4  0.529798  0.415107 -0.379998  "
      ]
     },
     "execution_count": 101,
     "metadata": {},
     "output_type": "execute_result"
    }
   ],
   "source": [
    "#transpose dataframe\n",
    "my_df.T"
   ]
  },
  {
   "cell_type": "code",
   "execution_count": 102,
   "metadata": {},
   "outputs": [
    {
     "data": {
      "text/html": [
       "<div>\n",
       "<style>\n",
       "    .dataframe thead tr:only-child th {\n",
       "        text-align: right;\n",
       "    }\n",
       "\n",
       "    .dataframe thead th {\n",
       "        text-align: left;\n",
       "    }\n",
       "\n",
       "    .dataframe tbody tr th {\n",
       "        vertical-align: top;\n",
       "    }\n",
       "</style>\n",
       "<table border=\"1\" class=\"dataframe\">\n",
       "  <thead>\n",
       "    <tr style=\"text-align: right;\">\n",
       "      <th></th>\n",
       "      <th>c1</th>\n",
       "      <th>c2</th>\n",
       "      <th>c3</th>\n",
       "      <th>c4</th>\n",
       "    </tr>\n",
       "  </thead>\n",
       "  <tbody>\n",
       "    <tr>\n",
       "      <th>0</th>\n",
       "      <td>-1.353916</td>\n",
       "      <td>-0.956077</td>\n",
       "      <td>1.918780</td>\n",
       "      <td>0.318696</td>\n",
       "    </tr>\n",
       "    <tr>\n",
       "      <th>9</th>\n",
       "      <td>-1.328051</td>\n",
       "      <td>-0.044505</td>\n",
       "      <td>-1.018048</td>\n",
       "      <td>-0.379998</td>\n",
       "    </tr>\n",
       "    <tr>\n",
       "      <th>5</th>\n",
       "      <td>-0.244197</td>\n",
       "      <td>1.042836</td>\n",
       "      <td>-1.829334</td>\n",
       "      <td>0.322587</td>\n",
       "    </tr>\n",
       "    <tr>\n",
       "      <th>2</th>\n",
       "      <td>-0.156633</td>\n",
       "      <td>-2.278528</td>\n",
       "      <td>0.430331</td>\n",
       "      <td>1.109732</td>\n",
       "    </tr>\n",
       "    <tr>\n",
       "      <th>7</th>\n",
       "      <td>0.074969</td>\n",
       "      <td>0.106060</td>\n",
       "      <td>0.193874</td>\n",
       "      <td>0.529798</td>\n",
       "    </tr>\n",
       "    <tr>\n",
       "      <th>6</th>\n",
       "      <td>0.485236</td>\n",
       "      <td>0.601111</td>\n",
       "      <td>1.497022</td>\n",
       "      <td>-0.133032</td>\n",
       "    </tr>\n",
       "    <tr>\n",
       "      <th>4</th>\n",
       "      <td>0.610282</td>\n",
       "      <td>-0.160709</td>\n",
       "      <td>0.352771</td>\n",
       "      <td>1.405675</td>\n",
       "    </tr>\n",
       "    <tr>\n",
       "      <th>3</th>\n",
       "      <td>0.796430</td>\n",
       "      <td>-0.751505</td>\n",
       "      <td>-0.068205</td>\n",
       "      <td>0.549385</td>\n",
       "    </tr>\n",
       "    <tr>\n",
       "      <th>1</th>\n",
       "      <td>0.946857</td>\n",
       "      <td>-1.589318</td>\n",
       "      <td>1.863635</td>\n",
       "      <td>1.136637</td>\n",
       "    </tr>\n",
       "    <tr>\n",
       "      <th>8</th>\n",
       "      <td>0.996205</td>\n",
       "      <td>-2.159927</td>\n",
       "      <td>0.110629</td>\n",
       "      <td>0.415107</td>\n",
       "    </tr>\n",
       "  </tbody>\n",
       "</table>\n",
       "</div>"
      ],
      "text/plain": [
       "         c1        c2        c3        c4\n",
       "0 -1.353916 -0.956077  1.918780  0.318696\n",
       "9 -1.328051 -0.044505 -1.018048 -0.379998\n",
       "5 -0.244197  1.042836 -1.829334  0.322587\n",
       "2 -0.156633 -2.278528  0.430331  1.109732\n",
       "7  0.074969  0.106060  0.193874  0.529798\n",
       "6  0.485236  0.601111  1.497022 -0.133032\n",
       "4  0.610282 -0.160709  0.352771  1.405675\n",
       "3  0.796430 -0.751505 -0.068205  0.549385\n",
       "1  0.946857 -1.589318  1.863635  1.136637\n",
       "8  0.996205 -2.159927  0.110629  0.415107"
      ]
     },
     "execution_count": 102,
     "metadata": {},
     "output_type": "execute_result"
    }
   ],
   "source": [
    "my_df.sort_values(by='c1')"
   ]
  },
  {
   "cell_type": "code",
   "execution_count": 103,
   "metadata": {},
   "outputs": [
    {
     "name": "stdout",
     "output_type": "stream",
     "text": [
      "<class 'pandas.core.series.Series'>\n",
      "<class 'pandas.core.series.Series'>\n",
      "<class 'pandas.core.frame.DataFrame'>\n",
      "<class 'pandas.core.series.Series'>\n",
      "<class 'pandas.core.frame.DataFrame'>\n",
      "<class 'pandas.core.series.Series'>\n",
      "<class 'pandas.core.frame.DataFrame'>\n"
     ]
    }
   ],
   "source": [
    "#slicing and dicing\n",
    "\n",
    "#returns series\n",
    "my_df.c1\n",
    "#returns series\n",
    "my_df['c1']\n",
    "\n",
    "#returns dataframe\n",
    "my_df[['c1']]\n",
    "\n",
    "#loc is inclusive of end value range\n",
    "#returns series\n",
    "my_df.loc[:, 'c1']\n",
    "#returns dataframe\n",
    "my_df.loc[:, ['c1']]\n",
    "\n",
    "#iloc is exclusive of end value range\n",
    "#returns series\n",
    "my_df.iloc[:, 0]\n",
    "#returns dataframe\n",
    "my_df.iloc[:, [0]]\n",
    "\n",
    "my_df[0:2]\n",
    "my_df.iloc[0:2, :]\n",
    "\n",
    "print(type(my_df.c1))\n",
    "print(type(my_df['c1']))\n",
    "print(type(my_df[['c1']]))\n",
    "print(type(my_df.loc[:, 'c1']))\n",
    "print(type(my_df.loc[:, ['c1']]))\n",
    "print(type(my_df.iloc[:, 0]))\n",
    "print(type(my_df.iloc[:, [0]]))"
   ]
  },
  {
   "cell_type": "code",
   "execution_count": 104,
   "metadata": {},
   "outputs": [
    {
     "data": {
      "text/html": [
       "<div>\n",
       "<style>\n",
       "    .dataframe thead tr:only-child th {\n",
       "        text-align: right;\n",
       "    }\n",
       "\n",
       "    .dataframe thead th {\n",
       "        text-align: left;\n",
       "    }\n",
       "\n",
       "    .dataframe tbody tr th {\n",
       "        vertical-align: top;\n",
       "    }\n",
       "</style>\n",
       "<table border=\"1\" class=\"dataframe\">\n",
       "  <thead>\n",
       "    <tr style=\"text-align: right;\">\n",
       "      <th></th>\n",
       "      <th>c1</th>\n",
       "      <th>c2</th>\n",
       "      <th>c3</th>\n",
       "      <th>c4</th>\n",
       "    </tr>\n",
       "  </thead>\n",
       "  <tbody>\n",
       "  </tbody>\n",
       "</table>\n",
       "</div>"
      ],
      "text/plain": [
       "Empty DataFrame\n",
       "Columns: [c1, c2, c3, c4]\n",
       "Index: []"
      ]
     },
     "execution_count": 104,
     "metadata": {},
     "output_type": "execute_result"
    }
   ],
   "source": [
    "#Boolean indexing\n",
    "#Can be further combined using bitwise operators\n",
    "bool_df = my_df[(my_df.c1 > 1) & (my_df.c2 < 1)]\n",
    "bool_df"
   ]
  },
  {
   "cell_type": "code",
   "execution_count": 105,
   "metadata": {},
   "outputs": [
    {
     "data": {
      "text/html": [
       "<div>\n",
       "<style>\n",
       "    .dataframe thead tr:only-child th {\n",
       "        text-align: right;\n",
       "    }\n",
       "\n",
       "    .dataframe thead th {\n",
       "        text-align: left;\n",
       "    }\n",
       "\n",
       "    .dataframe tbody tr th {\n",
       "        vertical-align: top;\n",
       "    }\n",
       "</style>\n",
       "<table border=\"1\" class=\"dataframe\">\n",
       "  <thead>\n",
       "    <tr style=\"text-align: right;\">\n",
       "      <th></th>\n",
       "      <th>c1</th>\n",
       "      <th>c2</th>\n",
       "      <th>c3</th>\n",
       "      <th>c4</th>\n",
       "    </tr>\n",
       "  </thead>\n",
       "  <tbody>\n",
       "    <tr>\n",
       "      <th>0</th>\n",
       "      <td>-1.353916</td>\n",
       "      <td>-0.956077</td>\n",
       "      <td>1.918780</td>\n",
       "      <td>1.0</td>\n",
       "    </tr>\n",
       "    <tr>\n",
       "      <th>1</th>\n",
       "      <td>0.946857</td>\n",
       "      <td>-1.589318</td>\n",
       "      <td>1.863635</td>\n",
       "      <td>1.0</td>\n",
       "    </tr>\n",
       "    <tr>\n",
       "      <th>2</th>\n",
       "      <td>-0.156633</td>\n",
       "      <td>-2.278528</td>\n",
       "      <td>0.430331</td>\n",
       "      <td>1.0</td>\n",
       "    </tr>\n",
       "    <tr>\n",
       "      <th>3</th>\n",
       "      <td>0.796430</td>\n",
       "      <td>-0.751505</td>\n",
       "      <td>-0.068205</td>\n",
       "      <td>1.0</td>\n",
       "    </tr>\n",
       "    <tr>\n",
       "      <th>4</th>\n",
       "      <td>0.610282</td>\n",
       "      <td>-0.160709</td>\n",
       "      <td>0.352771</td>\n",
       "      <td>1.0</td>\n",
       "    </tr>\n",
       "    <tr>\n",
       "      <th>5</th>\n",
       "      <td>-0.244197</td>\n",
       "      <td>1.042836</td>\n",
       "      <td>-1.829334</td>\n",
       "      <td>1.0</td>\n",
       "    </tr>\n",
       "    <tr>\n",
       "      <th>6</th>\n",
       "      <td>0.485236</td>\n",
       "      <td>0.601111</td>\n",
       "      <td>1.497022</td>\n",
       "      <td>1.0</td>\n",
       "    </tr>\n",
       "    <tr>\n",
       "      <th>7</th>\n",
       "      <td>0.074969</td>\n",
       "      <td>0.106060</td>\n",
       "      <td>0.193874</td>\n",
       "      <td>1.0</td>\n",
       "    </tr>\n",
       "    <tr>\n",
       "      <th>8</th>\n",
       "      <td>0.996205</td>\n",
       "      <td>-2.159927</td>\n",
       "      <td>0.110629</td>\n",
       "      <td>1.0</td>\n",
       "    </tr>\n",
       "    <tr>\n",
       "      <th>9</th>\n",
       "      <td>-1.328051</td>\n",
       "      <td>-0.044505</td>\n",
       "      <td>-1.018048</td>\n",
       "      <td>1.0</td>\n",
       "    </tr>\n",
       "  </tbody>\n",
       "</table>\n",
       "</div>"
      ],
      "text/plain": [
       "         c1        c2        c3   c4\n",
       "0 -1.353916 -0.956077  1.918780  1.0\n",
       "1  0.946857 -1.589318  1.863635  1.0\n",
       "2 -0.156633 -2.278528  0.430331  1.0\n",
       "3  0.796430 -0.751505 -0.068205  1.0\n",
       "4  0.610282 -0.160709  0.352771  1.0\n",
       "5 -0.244197  1.042836 -1.829334  1.0\n",
       "6  0.485236  0.601111  1.497022  1.0\n",
       "7  0.074969  0.106060  0.193874  1.0\n",
       "8  0.996205 -2.159927  0.110629  1.0\n",
       "9 -1.328051 -0.044505 -1.018048  1.0"
      ]
     },
     "execution_count": 105,
     "metadata": {},
     "output_type": "execute_result"
    }
   ],
   "source": [
    "#writing to a slice\n",
    "#be sure to write data on a per column basis because of homogeneous column datatypes\n",
    "my_df.loc[my_df.c1 < 1, ['c4']] = 1\n",
    "my_df"
   ]
  },
  {
   "cell_type": "code",
   "execution_count": 106,
   "metadata": {},
   "outputs": [
    {
     "data": {
      "text/html": [
       "<div>\n",
       "<style>\n",
       "    .dataframe thead tr:only-child th {\n",
       "        text-align: right;\n",
       "    }\n",
       "\n",
       "    .dataframe thead th {\n",
       "        text-align: left;\n",
       "    }\n",
       "\n",
       "    .dataframe tbody tr th {\n",
       "        vertical-align: top;\n",
       "    }\n",
       "</style>\n",
       "<table border=\"1\" class=\"dataframe\">\n",
       "  <thead>\n",
       "    <tr style=\"text-align: right;\">\n",
       "      <th></th>\n",
       "      <th>c1</th>\n",
       "      <th>c2</th>\n",
       "      <th>c3</th>\n",
       "      <th>c4</th>\n",
       "      <th>E</th>\n",
       "    </tr>\n",
       "  </thead>\n",
       "  <tbody>\n",
       "    <tr>\n",
       "      <th>0</th>\n",
       "      <td>-1.353916</td>\n",
       "      <td>-0.956077</td>\n",
       "      <td>1.918780</td>\n",
       "      <td>1.0</td>\n",
       "      <td>one</td>\n",
       "    </tr>\n",
       "    <tr>\n",
       "      <th>1</th>\n",
       "      <td>0.946857</td>\n",
       "      <td>-1.589318</td>\n",
       "      <td>1.863635</td>\n",
       "      <td>1.0</td>\n",
       "      <td>one</td>\n",
       "    </tr>\n",
       "    <tr>\n",
       "      <th>2</th>\n",
       "      <td>NaN</td>\n",
       "      <td>NaN</td>\n",
       "      <td>NaN</td>\n",
       "      <td>NaN</td>\n",
       "      <td>NaN</td>\n",
       "    </tr>\n",
       "    <tr>\n",
       "      <th>3</th>\n",
       "      <td>0.796430</td>\n",
       "      <td>-0.751505</td>\n",
       "      <td>-0.068205</td>\n",
       "      <td>1.0</td>\n",
       "      <td>three</td>\n",
       "    </tr>\n",
       "    <tr>\n",
       "      <th>4</th>\n",
       "      <td>NaN</td>\n",
       "      <td>NaN</td>\n",
       "      <td>NaN</td>\n",
       "      <td>NaN</td>\n",
       "      <td>NaN</td>\n",
       "    </tr>\n",
       "    <tr>\n",
       "      <th>5</th>\n",
       "      <td>-0.244197</td>\n",
       "      <td>1.042836</td>\n",
       "      <td>-1.829334</td>\n",
       "      <td>1.0</td>\n",
       "      <td>three</td>\n",
       "    </tr>\n",
       "    <tr>\n",
       "      <th>6</th>\n",
       "      <td>0.485236</td>\n",
       "      <td>0.601111</td>\n",
       "      <td>1.497022</td>\n",
       "      <td>1.0</td>\n",
       "      <td>five</td>\n",
       "    </tr>\n",
       "    <tr>\n",
       "      <th>7</th>\n",
       "      <td>0.074969</td>\n",
       "      <td>0.106060</td>\n",
       "      <td>0.193874</td>\n",
       "      <td>1.0</td>\n",
       "      <td>six</td>\n",
       "    </tr>\n",
       "    <tr>\n",
       "      <th>8</th>\n",
       "      <td>0.996205</td>\n",
       "      <td>-2.159927</td>\n",
       "      <td>0.110629</td>\n",
       "      <td>1.0</td>\n",
       "      <td>seven</td>\n",
       "    </tr>\n",
       "    <tr>\n",
       "      <th>9</th>\n",
       "      <td>-1.328051</td>\n",
       "      <td>-0.044505</td>\n",
       "      <td>-1.018048</td>\n",
       "      <td>1.0</td>\n",
       "      <td>eight</td>\n",
       "    </tr>\n",
       "  </tbody>\n",
       "</table>\n",
       "</div>"
      ],
      "text/plain": [
       "         c1        c2        c3   c4      E\n",
       "0 -1.353916 -0.956077  1.918780  1.0    one\n",
       "1  0.946857 -1.589318  1.863635  1.0    one\n",
       "2       NaN       NaN       NaN  NaN    NaN\n",
       "3  0.796430 -0.751505 -0.068205  1.0  three\n",
       "4       NaN       NaN       NaN  NaN    NaN\n",
       "5 -0.244197  1.042836 -1.829334  1.0  three\n",
       "6  0.485236  0.601111  1.497022  1.0   five\n",
       "7  0.074969  0.106060  0.193874  1.0    six\n",
       "8  0.996205 -2.159927  0.110629  1.0  seven\n",
       "9 -1.328051 -0.044505 -1.018048  1.0  eight"
      ]
     },
     "execution_count": 106,
     "metadata": {},
     "output_type": "execute_result"
    }
   ],
   "source": [
    "#using isin method for filtering\n",
    "my_df2 = my_df.copy()\n",
    "my_df2['E'] = ['one', 'one','two','three','four','three','five','six','seven','eight']\n",
    "my_df2[my_df2['E'].isin(['two','four'])] = np.nan\n",
    "my_df2"
   ]
  },
  {
   "cell_type": "code",
   "execution_count": 107,
   "metadata": {},
   "outputs": [
    {
     "data": {
      "text/html": [
       "<div>\n",
       "<style>\n",
       "    .dataframe thead tr:only-child th {\n",
       "        text-align: right;\n",
       "    }\n",
       "\n",
       "    .dataframe thead th {\n",
       "        text-align: left;\n",
       "    }\n",
       "\n",
       "    .dataframe tbody tr th {\n",
       "        vertical-align: top;\n",
       "    }\n",
       "</style>\n",
       "<table border=\"1\" class=\"dataframe\">\n",
       "  <thead>\n",
       "    <tr style=\"text-align: right;\">\n",
       "      <th></th>\n",
       "      <th>0</th>\n",
       "      <th>1</th>\n",
       "      <th>2</th>\n",
       "      <th>3</th>\n",
       "    </tr>\n",
       "  </thead>\n",
       "  <tbody>\n",
       "    <tr>\n",
       "      <th>0</th>\n",
       "      <td>-0.374462</td>\n",
       "      <td>-0.363370</td>\n",
       "      <td>-0.194131</td>\n",
       "      <td>0.211513</td>\n",
       "    </tr>\n",
       "    <tr>\n",
       "      <th>1</th>\n",
       "      <td>0.194068</td>\n",
       "      <td>1.163646</td>\n",
       "      <td>1.104300</td>\n",
       "      <td>0.886834</td>\n",
       "    </tr>\n",
       "    <tr>\n",
       "      <th>2</th>\n",
       "      <td>-1.161996</td>\n",
       "      <td>-1.170085</td>\n",
       "      <td>0.954889</td>\n",
       "      <td>1.667097</td>\n",
       "    </tr>\n",
       "    <tr>\n",
       "      <th>3</th>\n",
       "      <td>1.099197</td>\n",
       "      <td>0.340988</td>\n",
       "      <td>0.707699</td>\n",
       "      <td>-0.199392</td>\n",
       "    </tr>\n",
       "    <tr>\n",
       "      <th>4</th>\n",
       "      <td>-0.222015</td>\n",
       "      <td>-0.382282</td>\n",
       "      <td>2.113857</td>\n",
       "      <td>0.889638</td>\n",
       "    </tr>\n",
       "    <tr>\n",
       "      <th>5</th>\n",
       "      <td>-0.230541</td>\n",
       "      <td>-0.085252</td>\n",
       "      <td>1.320642</td>\n",
       "      <td>0.441078</td>\n",
       "    </tr>\n",
       "    <tr>\n",
       "      <th>6</th>\n",
       "      <td>-0.684889</td>\n",
       "      <td>1.834033</td>\n",
       "      <td>0.259828</td>\n",
       "      <td>-0.430723</td>\n",
       "    </tr>\n",
       "    <tr>\n",
       "      <th>7</th>\n",
       "      <td>0.002770</td>\n",
       "      <td>-1.774921</td>\n",
       "      <td>0.536611</td>\n",
       "      <td>0.604318</td>\n",
       "    </tr>\n",
       "    <tr>\n",
       "      <th>8</th>\n",
       "      <td>0.246562</td>\n",
       "      <td>0.287036</td>\n",
       "      <td>0.286153</td>\n",
       "      <td>1.261558</td>\n",
       "    </tr>\n",
       "    <tr>\n",
       "      <th>9</th>\n",
       "      <td>-1.020751</td>\n",
       "      <td>-2.004812</td>\n",
       "      <td>0.422095</td>\n",
       "      <td>-1.044094</td>\n",
       "    </tr>\n",
       "  </tbody>\n",
       "</table>\n",
       "</div>"
      ],
      "text/plain": [
       "          0         1         2         3\n",
       "0 -0.374462 -0.363370 -0.194131  0.211513\n",
       "1  0.194068  1.163646  1.104300  0.886834\n",
       "2 -1.161996 -1.170085  0.954889  1.667097\n",
       "3  1.099197  0.340988  0.707699 -0.199392\n",
       "4 -0.222015 -0.382282  2.113857  0.889638\n",
       "5 -0.230541 -0.085252  1.320642  0.441078\n",
       "6 -0.684889  1.834033  0.259828 -0.430723\n",
       "7  0.002770 -1.774921  0.536611  0.604318\n",
       "8  0.246562  0.287036  0.286153  1.261558\n",
       "9 -1.020751 -2.004812  0.422095 -1.044094"
      ]
     },
     "execution_count": 107,
     "metadata": {},
     "output_type": "execute_result"
    }
   ],
   "source": [
    "#concat dataframes\n",
    "df3 = pd.DataFrame(np.random.randn(10, 4))\n",
    "pieces = [df3[:3], df3[3:7], df3[7:]]\n",
    "#you can also concat on axis=1 which is columns instead of rows\n",
    "pd.concat(pieces, ignore_index=False)"
   ]
  },
  {
   "cell_type": "code",
   "execution_count": 108,
   "metadata": {},
   "outputs": [
    {
     "data": {
      "text/html": [
       "<div>\n",
       "<style>\n",
       "    .dataframe thead tr:only-child th {\n",
       "        text-align: right;\n",
       "    }\n",
       "\n",
       "    .dataframe thead th {\n",
       "        text-align: left;\n",
       "    }\n",
       "\n",
       "    .dataframe tbody tr th {\n",
       "        vertical-align: top;\n",
       "    }\n",
       "</style>\n",
       "<table border=\"1\" class=\"dataframe\">\n",
       "  <thead>\n",
       "    <tr style=\"text-align: right;\">\n",
       "      <th></th>\n",
       "      <th>A</th>\n",
       "      <th>B</th>\n",
       "      <th>C</th>\n",
       "      <th>D</th>\n",
       "    </tr>\n",
       "  </thead>\n",
       "  <tbody>\n",
       "    <tr>\n",
       "      <th>0</th>\n",
       "      <td>-0.243195</td>\n",
       "      <td>-0.278707</td>\n",
       "      <td>-1.130894</td>\n",
       "      <td>-1.738669</td>\n",
       "    </tr>\n",
       "    <tr>\n",
       "      <th>1</th>\n",
       "      <td>-0.458775</td>\n",
       "      <td>-0.487703</td>\n",
       "      <td>0.315612</td>\n",
       "      <td>0.442408</td>\n",
       "    </tr>\n",
       "    <tr>\n",
       "      <th>2</th>\n",
       "      <td>2.047365</td>\n",
       "      <td>-0.714572</td>\n",
       "      <td>-0.637538</td>\n",
       "      <td>-1.764341</td>\n",
       "    </tr>\n",
       "    <tr>\n",
       "      <th>3</th>\n",
       "      <td>1.015748</td>\n",
       "      <td>-0.097178</td>\n",
       "      <td>0.263644</td>\n",
       "      <td>0.441960</td>\n",
       "    </tr>\n",
       "    <tr>\n",
       "      <th>4</th>\n",
       "      <td>-1.652050</td>\n",
       "      <td>0.344966</td>\n",
       "      <td>0.121240</td>\n",
       "      <td>0.488373</td>\n",
       "    </tr>\n",
       "    <tr>\n",
       "      <th>5</th>\n",
       "      <td>0.649349</td>\n",
       "      <td>-0.530617</td>\n",
       "      <td>0.514445</td>\n",
       "      <td>-0.790895</td>\n",
       "    </tr>\n",
       "    <tr>\n",
       "      <th>6</th>\n",
       "      <td>0.229526</td>\n",
       "      <td>1.397136</td>\n",
       "      <td>0.767916</td>\n",
       "      <td>-1.304029</td>\n",
       "    </tr>\n",
       "    <tr>\n",
       "      <th>7</th>\n",
       "      <td>0.212990</td>\n",
       "      <td>0.028431</td>\n",
       "      <td>1.043233</td>\n",
       "      <td>-0.011836</td>\n",
       "    </tr>\n",
       "    <tr>\n",
       "      <th>3</th>\n",
       "      <td>1.015748</td>\n",
       "      <td>-0.097178</td>\n",
       "      <td>0.263644</td>\n",
       "      <td>0.441960</td>\n",
       "    </tr>\n",
       "  </tbody>\n",
       "</table>\n",
       "</div>"
      ],
      "text/plain": [
       "          A         B         C         D\n",
       "0 -0.243195 -0.278707 -1.130894 -1.738669\n",
       "1 -0.458775 -0.487703  0.315612  0.442408\n",
       "2  2.047365 -0.714572 -0.637538 -1.764341\n",
       "3  1.015748 -0.097178  0.263644  0.441960\n",
       "4 -1.652050  0.344966  0.121240  0.488373\n",
       "5  0.649349 -0.530617  0.514445 -0.790895\n",
       "6  0.229526  1.397136  0.767916 -1.304029\n",
       "7  0.212990  0.028431  1.043233 -0.011836\n",
       "3  1.015748 -0.097178  0.263644  0.441960"
      ]
     },
     "execution_count": 108,
     "metadata": {},
     "output_type": "execute_result"
    }
   ],
   "source": [
    "#Append rows\n",
    "df4 = pd.DataFrame(np.random.randn(8, 4), columns=['A','B','C','D'])\n",
    "s4 = df4.iloc[3]\n",
    "df4.append(s4, ignore_index=False)\n",
    "#you can also append dataframe to conconcat them on rows"
   ]
  },
  {
   "cell_type": "code",
   "execution_count": 109,
   "metadata": {},
   "outputs": [
    {
     "data": {
      "text/html": [
       "<div>\n",
       "<style>\n",
       "    .dataframe thead tr:only-child th {\n",
       "        text-align: right;\n",
       "    }\n",
       "\n",
       "    .dataframe thead th {\n",
       "        text-align: left;\n",
       "    }\n",
       "\n",
       "    .dataframe tbody tr th {\n",
       "        vertical-align: top;\n",
       "    }\n",
       "</style>\n",
       "<table border=\"1\" class=\"dataframe\">\n",
       "  <thead>\n",
       "    <tr style=\"text-align: right;\">\n",
       "      <th></th>\n",
       "      <th>key</th>\n",
       "      <th>lval</th>\n",
       "      <th>rval</th>\n",
       "    </tr>\n",
       "  </thead>\n",
       "  <tbody>\n",
       "    <tr>\n",
       "      <th>0</th>\n",
       "      <td>foo</td>\n",
       "      <td>1</td>\n",
       "      <td>4</td>\n",
       "    </tr>\n",
       "    <tr>\n",
       "      <th>1</th>\n",
       "      <td>bar</td>\n",
       "      <td>2</td>\n",
       "      <td>5</td>\n",
       "    </tr>\n",
       "  </tbody>\n",
       "</table>\n",
       "</div>"
      ],
      "text/plain": [
       "   key  lval  rval\n",
       "0  foo     1     4\n",
       "1  bar     2     5"
      ]
     },
     "execution_count": 109,
     "metadata": {},
     "output_type": "execute_result"
    }
   ],
   "source": [
    "#joining\n",
    "left = pd.DataFrame({'key': ['foo', 'bar'], 'lval': [1, 2]})\n",
    "right = pd.DataFrame({'key': ['foo', 'bar'], 'rval': [4, 5]})\n",
    "pd.merge(left, right, on='key')"
   ]
  },
  {
   "cell_type": "markdown",
   "metadata": {},
   "source": [
    "## Drop duplicates"
   ]
  },
  {
   "cell_type": "code",
   "execution_count": 110,
   "metadata": {},
   "outputs": [
    {
     "data": {
      "text/html": [
       "<div>\n",
       "<style>\n",
       "    .dataframe thead tr:only-child th {\n",
       "        text-align: right;\n",
       "    }\n",
       "\n",
       "    .dataframe thead th {\n",
       "        text-align: left;\n",
       "    }\n",
       "\n",
       "    .dataframe tbody tr th {\n",
       "        vertical-align: top;\n",
       "    }\n",
       "</style>\n",
       "<table border=\"1\" class=\"dataframe\">\n",
       "  <thead>\n",
       "    <tr style=\"text-align: right;\">\n",
       "      <th></th>\n",
       "      <th>c1</th>\n",
       "      <th>c2</th>\n",
       "      <th>c3</th>\n",
       "      <th>c4</th>\n",
       "      <th>E</th>\n",
       "    </tr>\n",
       "  </thead>\n",
       "  <tbody>\n",
       "    <tr>\n",
       "      <th>0</th>\n",
       "      <td>-1.353916</td>\n",
       "      <td>-0.956077</td>\n",
       "      <td>1.918780</td>\n",
       "      <td>1.0</td>\n",
       "      <td>one</td>\n",
       "    </tr>\n",
       "    <tr>\n",
       "      <th>1</th>\n",
       "      <td>0.946857</td>\n",
       "      <td>-1.589318</td>\n",
       "      <td>1.863635</td>\n",
       "      <td>1.0</td>\n",
       "      <td>one</td>\n",
       "    </tr>\n",
       "    <tr>\n",
       "      <th>2</th>\n",
       "      <td>NaN</td>\n",
       "      <td>NaN</td>\n",
       "      <td>NaN</td>\n",
       "      <td>NaN</td>\n",
       "      <td>NaN</td>\n",
       "    </tr>\n",
       "    <tr>\n",
       "      <th>3</th>\n",
       "      <td>0.796430</td>\n",
       "      <td>-0.751505</td>\n",
       "      <td>-0.068205</td>\n",
       "      <td>1.0</td>\n",
       "      <td>three</td>\n",
       "    </tr>\n",
       "    <tr>\n",
       "      <th>5</th>\n",
       "      <td>-0.244197</td>\n",
       "      <td>1.042836</td>\n",
       "      <td>-1.829334</td>\n",
       "      <td>1.0</td>\n",
       "      <td>three</td>\n",
       "    </tr>\n",
       "    <tr>\n",
       "      <th>6</th>\n",
       "      <td>0.485236</td>\n",
       "      <td>0.601111</td>\n",
       "      <td>1.497022</td>\n",
       "      <td>1.0</td>\n",
       "      <td>five</td>\n",
       "    </tr>\n",
       "    <tr>\n",
       "      <th>7</th>\n",
       "      <td>0.074969</td>\n",
       "      <td>0.106060</td>\n",
       "      <td>0.193874</td>\n",
       "      <td>1.0</td>\n",
       "      <td>six</td>\n",
       "    </tr>\n",
       "    <tr>\n",
       "      <th>8</th>\n",
       "      <td>0.996205</td>\n",
       "      <td>-2.159927</td>\n",
       "      <td>0.110629</td>\n",
       "      <td>1.0</td>\n",
       "      <td>seven</td>\n",
       "    </tr>\n",
       "    <tr>\n",
       "      <th>9</th>\n",
       "      <td>-1.328051</td>\n",
       "      <td>-0.044505</td>\n",
       "      <td>-1.018048</td>\n",
       "      <td>1.0</td>\n",
       "      <td>eight</td>\n",
       "    </tr>\n",
       "  </tbody>\n",
       "</table>\n",
       "</div>"
      ],
      "text/plain": [
       "         c1        c2        c3   c4      E\n",
       "0 -1.353916 -0.956077  1.918780  1.0    one\n",
       "1  0.946857 -1.589318  1.863635  1.0    one\n",
       "2       NaN       NaN       NaN  NaN    NaN\n",
       "3  0.796430 -0.751505 -0.068205  1.0  three\n",
       "5 -0.244197  1.042836 -1.829334  1.0  three\n",
       "6  0.485236  0.601111  1.497022  1.0   five\n",
       "7  0.074969  0.106060  0.193874  1.0    six\n",
       "8  0.996205 -2.159927  0.110629  1.0  seven\n",
       "9 -1.328051 -0.044505 -1.018048  1.0  eight"
      ]
     },
     "execution_count": 110,
     "metadata": {},
     "output_type": "execute_result"
    }
   ],
   "source": [
    "my_df2.drop_duplicates()"
   ]
  },
  {
   "cell_type": "markdown",
   "metadata": {},
   "source": [
    "## Detecting and replacing missing values "
   ]
  },
  {
   "cell_type": "code",
   "execution_count": 111,
   "metadata": {},
   "outputs": [
    {
     "data": {
      "text/html": [
       "<div>\n",
       "<style>\n",
       "    .dataframe thead tr:only-child th {\n",
       "        text-align: right;\n",
       "    }\n",
       "\n",
       "    .dataframe thead th {\n",
       "        text-align: left;\n",
       "    }\n",
       "\n",
       "    .dataframe tbody tr th {\n",
       "        vertical-align: top;\n",
       "    }\n",
       "</style>\n",
       "<table border=\"1\" class=\"dataframe\">\n",
       "  <thead>\n",
       "    <tr style=\"text-align: right;\">\n",
       "      <th></th>\n",
       "      <th>c1</th>\n",
       "      <th>c2</th>\n",
       "      <th>c3</th>\n",
       "      <th>c4</th>\n",
       "      <th>E</th>\n",
       "    </tr>\n",
       "  </thead>\n",
       "  <tbody>\n",
       "    <tr>\n",
       "      <th>0</th>\n",
       "      <td>False</td>\n",
       "      <td>False</td>\n",
       "      <td>False</td>\n",
       "      <td>False</td>\n",
       "      <td>False</td>\n",
       "    </tr>\n",
       "    <tr>\n",
       "      <th>1</th>\n",
       "      <td>False</td>\n",
       "      <td>False</td>\n",
       "      <td>False</td>\n",
       "      <td>False</td>\n",
       "      <td>False</td>\n",
       "    </tr>\n",
       "    <tr>\n",
       "      <th>2</th>\n",
       "      <td>True</td>\n",
       "      <td>True</td>\n",
       "      <td>True</td>\n",
       "      <td>True</td>\n",
       "      <td>True</td>\n",
       "    </tr>\n",
       "    <tr>\n",
       "      <th>3</th>\n",
       "      <td>False</td>\n",
       "      <td>False</td>\n",
       "      <td>False</td>\n",
       "      <td>False</td>\n",
       "      <td>False</td>\n",
       "    </tr>\n",
       "    <tr>\n",
       "      <th>4</th>\n",
       "      <td>True</td>\n",
       "      <td>True</td>\n",
       "      <td>True</td>\n",
       "      <td>True</td>\n",
       "      <td>True</td>\n",
       "    </tr>\n",
       "    <tr>\n",
       "      <th>5</th>\n",
       "      <td>False</td>\n",
       "      <td>False</td>\n",
       "      <td>False</td>\n",
       "      <td>False</td>\n",
       "      <td>False</td>\n",
       "    </tr>\n",
       "    <tr>\n",
       "      <th>6</th>\n",
       "      <td>False</td>\n",
       "      <td>False</td>\n",
       "      <td>False</td>\n",
       "      <td>False</td>\n",
       "      <td>False</td>\n",
       "    </tr>\n",
       "    <tr>\n",
       "      <th>7</th>\n",
       "      <td>False</td>\n",
       "      <td>False</td>\n",
       "      <td>False</td>\n",
       "      <td>False</td>\n",
       "      <td>False</td>\n",
       "    </tr>\n",
       "    <tr>\n",
       "      <th>8</th>\n",
       "      <td>False</td>\n",
       "      <td>False</td>\n",
       "      <td>False</td>\n",
       "      <td>False</td>\n",
       "      <td>False</td>\n",
       "    </tr>\n",
       "    <tr>\n",
       "      <th>9</th>\n",
       "      <td>False</td>\n",
       "      <td>False</td>\n",
       "      <td>False</td>\n",
       "      <td>False</td>\n",
       "      <td>False</td>\n",
       "    </tr>\n",
       "  </tbody>\n",
       "</table>\n",
       "</div>"
      ],
      "text/plain": [
       "      c1     c2     c3     c4      E\n",
       "0  False  False  False  False  False\n",
       "1  False  False  False  False  False\n",
       "2   True   True   True   True   True\n",
       "3  False  False  False  False  False\n",
       "4   True   True   True   True   True\n",
       "5  False  False  False  False  False\n",
       "6  False  False  False  False  False\n",
       "7  False  False  False  False  False\n",
       "8  False  False  False  False  False\n",
       "9  False  False  False  False  False"
      ]
     },
     "execution_count": 111,
     "metadata": {},
     "output_type": "execute_result"
    }
   ],
   "source": [
    "#get boolean values where dataframe is null\n",
    "my_df2.isnull()"
   ]
  },
  {
   "cell_type": "code",
   "execution_count": 112,
   "metadata": {},
   "outputs": [
    {
     "data": {
      "text/html": [
       "<div>\n",
       "<style>\n",
       "    .dataframe thead tr:only-child th {\n",
       "        text-align: right;\n",
       "    }\n",
       "\n",
       "    .dataframe thead th {\n",
       "        text-align: left;\n",
       "    }\n",
       "\n",
       "    .dataframe tbody tr th {\n",
       "        vertical-align: top;\n",
       "    }\n",
       "</style>\n",
       "<table border=\"1\" class=\"dataframe\">\n",
       "  <thead>\n",
       "    <tr style=\"text-align: right;\">\n",
       "      <th></th>\n",
       "      <th>c1</th>\n",
       "      <th>c2</th>\n",
       "      <th>c3</th>\n",
       "      <th>c4</th>\n",
       "      <th>E</th>\n",
       "    </tr>\n",
       "  </thead>\n",
       "  <tbody>\n",
       "    <tr>\n",
       "      <th>0</th>\n",
       "      <td>-1.353916</td>\n",
       "      <td>-0.956077</td>\n",
       "      <td>1.918780</td>\n",
       "      <td>1.0</td>\n",
       "      <td>one</td>\n",
       "    </tr>\n",
       "    <tr>\n",
       "      <th>1</th>\n",
       "      <td>0.946857</td>\n",
       "      <td>-1.589318</td>\n",
       "      <td>1.863635</td>\n",
       "      <td>1.0</td>\n",
       "      <td>one</td>\n",
       "    </tr>\n",
       "    <tr>\n",
       "      <th>3</th>\n",
       "      <td>0.796430</td>\n",
       "      <td>-0.751505</td>\n",
       "      <td>-0.068205</td>\n",
       "      <td>1.0</td>\n",
       "      <td>three</td>\n",
       "    </tr>\n",
       "    <tr>\n",
       "      <th>5</th>\n",
       "      <td>-0.244197</td>\n",
       "      <td>1.042836</td>\n",
       "      <td>-1.829334</td>\n",
       "      <td>1.0</td>\n",
       "      <td>three</td>\n",
       "    </tr>\n",
       "    <tr>\n",
       "      <th>6</th>\n",
       "      <td>0.485236</td>\n",
       "      <td>0.601111</td>\n",
       "      <td>1.497022</td>\n",
       "      <td>1.0</td>\n",
       "      <td>five</td>\n",
       "    </tr>\n",
       "    <tr>\n",
       "      <th>7</th>\n",
       "      <td>0.074969</td>\n",
       "      <td>0.106060</td>\n",
       "      <td>0.193874</td>\n",
       "      <td>1.0</td>\n",
       "      <td>six</td>\n",
       "    </tr>\n",
       "    <tr>\n",
       "      <th>8</th>\n",
       "      <td>0.996205</td>\n",
       "      <td>-2.159927</td>\n",
       "      <td>0.110629</td>\n",
       "      <td>1.0</td>\n",
       "      <td>seven</td>\n",
       "    </tr>\n",
       "    <tr>\n",
       "      <th>9</th>\n",
       "      <td>-1.328051</td>\n",
       "      <td>-0.044505</td>\n",
       "      <td>-1.018048</td>\n",
       "      <td>1.0</td>\n",
       "      <td>eight</td>\n",
       "    </tr>\n",
       "  </tbody>\n",
       "</table>\n",
       "</div>"
      ],
      "text/plain": [
       "         c1        c2        c3   c4      E\n",
       "0 -1.353916 -0.956077  1.918780  1.0    one\n",
       "1  0.946857 -1.589318  1.863635  1.0    one\n",
       "3  0.796430 -0.751505 -0.068205  1.0  three\n",
       "5 -0.244197  1.042836 -1.829334  1.0  three\n",
       "6  0.485236  0.601111  1.497022  1.0   five\n",
       "7  0.074969  0.106060  0.193874  1.0    six\n",
       "8  0.996205 -2.159927  0.110629  1.0  seven\n",
       "9 -1.328051 -0.044505 -1.018048  1.0  eight"
      ]
     },
     "execution_count": 112,
     "metadata": {},
     "output_type": "execute_result"
    }
   ],
   "source": [
    "#drop missing data\n",
    "my_df2.dropna()"
   ]
  },
  {
   "cell_type": "code",
   "execution_count": 113,
   "metadata": {},
   "outputs": [
    {
     "data": {
      "text/html": [
       "<div>\n",
       "<style>\n",
       "    .dataframe thead tr:only-child th {\n",
       "        text-align: right;\n",
       "    }\n",
       "\n",
       "    .dataframe thead th {\n",
       "        text-align: left;\n",
       "    }\n",
       "\n",
       "    .dataframe tbody tr th {\n",
       "        vertical-align: top;\n",
       "    }\n",
       "</style>\n",
       "<table border=\"1\" class=\"dataframe\">\n",
       "  <thead>\n",
       "    <tr style=\"text-align: right;\">\n",
       "      <th></th>\n",
       "      <th>c1</th>\n",
       "      <th>c2</th>\n",
       "      <th>c3</th>\n",
       "      <th>c4</th>\n",
       "      <th>E</th>\n",
       "    </tr>\n",
       "  </thead>\n",
       "  <tbody>\n",
       "    <tr>\n",
       "      <th>0</th>\n",
       "      <td>-1.353916</td>\n",
       "      <td>-0.956077</td>\n",
       "      <td>1.918780</td>\n",
       "      <td>1.0</td>\n",
       "      <td>one</td>\n",
       "    </tr>\n",
       "    <tr>\n",
       "      <th>1</th>\n",
       "      <td>0.946857</td>\n",
       "      <td>-1.589318</td>\n",
       "      <td>1.863635</td>\n",
       "      <td>1.0</td>\n",
       "      <td>one</td>\n",
       "    </tr>\n",
       "    <tr>\n",
       "      <th>2</th>\n",
       "      <td>3.000000</td>\n",
       "      <td>3.000000</td>\n",
       "      <td>3.000000</td>\n",
       "      <td>3.0</td>\n",
       "      <td>3</td>\n",
       "    </tr>\n",
       "    <tr>\n",
       "      <th>3</th>\n",
       "      <td>0.796430</td>\n",
       "      <td>-0.751505</td>\n",
       "      <td>-0.068205</td>\n",
       "      <td>1.0</td>\n",
       "      <td>three</td>\n",
       "    </tr>\n",
       "    <tr>\n",
       "      <th>4</th>\n",
       "      <td>3.000000</td>\n",
       "      <td>3.000000</td>\n",
       "      <td>3.000000</td>\n",
       "      <td>3.0</td>\n",
       "      <td>3</td>\n",
       "    </tr>\n",
       "    <tr>\n",
       "      <th>5</th>\n",
       "      <td>-0.244197</td>\n",
       "      <td>1.042836</td>\n",
       "      <td>-1.829334</td>\n",
       "      <td>1.0</td>\n",
       "      <td>three</td>\n",
       "    </tr>\n",
       "    <tr>\n",
       "      <th>6</th>\n",
       "      <td>0.485236</td>\n",
       "      <td>0.601111</td>\n",
       "      <td>1.497022</td>\n",
       "      <td>1.0</td>\n",
       "      <td>five</td>\n",
       "    </tr>\n",
       "    <tr>\n",
       "      <th>7</th>\n",
       "      <td>0.074969</td>\n",
       "      <td>0.106060</td>\n",
       "      <td>0.193874</td>\n",
       "      <td>1.0</td>\n",
       "      <td>six</td>\n",
       "    </tr>\n",
       "    <tr>\n",
       "      <th>8</th>\n",
       "      <td>0.996205</td>\n",
       "      <td>-2.159927</td>\n",
       "      <td>0.110629</td>\n",
       "      <td>1.0</td>\n",
       "      <td>seven</td>\n",
       "    </tr>\n",
       "    <tr>\n",
       "      <th>9</th>\n",
       "      <td>-1.328051</td>\n",
       "      <td>-0.044505</td>\n",
       "      <td>-1.018048</td>\n",
       "      <td>1.0</td>\n",
       "      <td>eight</td>\n",
       "    </tr>\n",
       "  </tbody>\n",
       "</table>\n",
       "</div>"
      ],
      "text/plain": [
       "         c1        c2        c3   c4      E\n",
       "0 -1.353916 -0.956077  1.918780  1.0    one\n",
       "1  0.946857 -1.589318  1.863635  1.0    one\n",
       "2  3.000000  3.000000  3.000000  3.0      3\n",
       "3  0.796430 -0.751505 -0.068205  1.0  three\n",
       "4  3.000000  3.000000  3.000000  3.0      3\n",
       "5 -0.244197  1.042836 -1.829334  1.0  three\n",
       "6  0.485236  0.601111  1.497022  1.0   five\n",
       "7  0.074969  0.106060  0.193874  1.0    six\n",
       "8  0.996205 -2.159927  0.110629  1.0  seven\n",
       "9 -1.328051 -0.044505 -1.018048  1.0  eight"
      ]
     },
     "execution_count": 113,
     "metadata": {},
     "output_type": "execute_result"
    }
   ],
   "source": [
    "#filling missing datab\n",
    "my_df2.fillna(value=3)"
   ]
  },
  {
   "cell_type": "code",
   "execution_count": 114,
   "metadata": {},
   "outputs": [
    {
     "data": {
      "text/html": [
       "<div>\n",
       "<style>\n",
       "    .dataframe thead tr:only-child th {\n",
       "        text-align: right;\n",
       "    }\n",
       "\n",
       "    .dataframe thead th {\n",
       "        text-align: left;\n",
       "    }\n",
       "\n",
       "    .dataframe tbody tr th {\n",
       "        vertical-align: top;\n",
       "    }\n",
       "</style>\n",
       "<table border=\"1\" class=\"dataframe\">\n",
       "  <thead>\n",
       "    <tr style=\"text-align: right;\">\n",
       "      <th></th>\n",
       "      <th>c1</th>\n",
       "      <th>c2</th>\n",
       "      <th>c3</th>\n",
       "      <th>c4</th>\n",
       "      <th>E</th>\n",
       "    </tr>\n",
       "  </thead>\n",
       "  <tbody>\n",
       "    <tr>\n",
       "      <th>0</th>\n",
       "      <td>-1.353916</td>\n",
       "      <td>-0.956077</td>\n",
       "      <td>1.918780</td>\n",
       "      <td>1.0</td>\n",
       "      <td>one</td>\n",
       "    </tr>\n",
       "    <tr>\n",
       "      <th>1</th>\n",
       "      <td>0.946857</td>\n",
       "      <td>-1.589318</td>\n",
       "      <td>1.863635</td>\n",
       "      <td>1.0</td>\n",
       "      <td>one</td>\n",
       "    </tr>\n",
       "    <tr>\n",
       "      <th>2</th>\n",
       "      <td>0.946857</td>\n",
       "      <td>-1.589318</td>\n",
       "      <td>1.863635</td>\n",
       "      <td>1.0</td>\n",
       "      <td>one</td>\n",
       "    </tr>\n",
       "    <tr>\n",
       "      <th>3</th>\n",
       "      <td>0.796430</td>\n",
       "      <td>-0.751505</td>\n",
       "      <td>-0.068205</td>\n",
       "      <td>1.0</td>\n",
       "      <td>three</td>\n",
       "    </tr>\n",
       "    <tr>\n",
       "      <th>4</th>\n",
       "      <td>0.796430</td>\n",
       "      <td>-0.751505</td>\n",
       "      <td>-0.068205</td>\n",
       "      <td>1.0</td>\n",
       "      <td>three</td>\n",
       "    </tr>\n",
       "    <tr>\n",
       "      <th>5</th>\n",
       "      <td>-0.244197</td>\n",
       "      <td>1.042836</td>\n",
       "      <td>-1.829334</td>\n",
       "      <td>1.0</td>\n",
       "      <td>three</td>\n",
       "    </tr>\n",
       "    <tr>\n",
       "      <th>6</th>\n",
       "      <td>0.485236</td>\n",
       "      <td>0.601111</td>\n",
       "      <td>1.497022</td>\n",
       "      <td>1.0</td>\n",
       "      <td>five</td>\n",
       "    </tr>\n",
       "    <tr>\n",
       "      <th>7</th>\n",
       "      <td>0.074969</td>\n",
       "      <td>0.106060</td>\n",
       "      <td>0.193874</td>\n",
       "      <td>1.0</td>\n",
       "      <td>six</td>\n",
       "    </tr>\n",
       "    <tr>\n",
       "      <th>8</th>\n",
       "      <td>0.996205</td>\n",
       "      <td>-2.159927</td>\n",
       "      <td>0.110629</td>\n",
       "      <td>1.0</td>\n",
       "      <td>seven</td>\n",
       "    </tr>\n",
       "    <tr>\n",
       "      <th>9</th>\n",
       "      <td>-1.328051</td>\n",
       "      <td>-0.044505</td>\n",
       "      <td>-1.018048</td>\n",
       "      <td>1.0</td>\n",
       "      <td>eight</td>\n",
       "    </tr>\n",
       "  </tbody>\n",
       "</table>\n",
       "</div>"
      ],
      "text/plain": [
       "         c1        c2        c3   c4      E\n",
       "0 -1.353916 -0.956077  1.918780  1.0    one\n",
       "1  0.946857 -1.589318  1.863635  1.0    one\n",
       "2  0.946857 -1.589318  1.863635  1.0    one\n",
       "3  0.796430 -0.751505 -0.068205  1.0  three\n",
       "4  0.796430 -0.751505 -0.068205  1.0  three\n",
       "5 -0.244197  1.042836 -1.829334  1.0  three\n",
       "6  0.485236  0.601111  1.497022  1.0   five\n",
       "7  0.074969  0.106060  0.193874  1.0    six\n",
       "8  0.996205 -2.159927  0.110629  1.0  seven\n",
       "9 -1.328051 -0.044505 -1.018048  1.0  eight"
      ]
     },
     "execution_count": 114,
     "metadata": {},
     "output_type": "execute_result"
    }
   ],
   "source": [
    "#forward fill\n",
    "my_df2.ffill()"
   ]
  },
  {
   "cell_type": "code",
   "execution_count": 115,
   "metadata": {},
   "outputs": [
    {
     "data": {
      "text/html": [
       "<div>\n",
       "<style>\n",
       "    .dataframe thead tr:only-child th {\n",
       "        text-align: right;\n",
       "    }\n",
       "\n",
       "    .dataframe thead th {\n",
       "        text-align: left;\n",
       "    }\n",
       "\n",
       "    .dataframe tbody tr th {\n",
       "        vertical-align: top;\n",
       "    }\n",
       "</style>\n",
       "<table border=\"1\" class=\"dataframe\">\n",
       "  <thead>\n",
       "    <tr style=\"text-align: right;\">\n",
       "      <th></th>\n",
       "      <th>c1</th>\n",
       "      <th>c2</th>\n",
       "      <th>c3</th>\n",
       "      <th>c4</th>\n",
       "      <th>E</th>\n",
       "    </tr>\n",
       "  </thead>\n",
       "  <tbody>\n",
       "    <tr>\n",
       "      <th>0</th>\n",
       "      <td>-1.353916</td>\n",
       "      <td>-0.956077</td>\n",
       "      <td>1.918780</td>\n",
       "      <td>1.0</td>\n",
       "      <td>one</td>\n",
       "    </tr>\n",
       "    <tr>\n",
       "      <th>1</th>\n",
       "      <td>0.946857</td>\n",
       "      <td>-1.589318</td>\n",
       "      <td>1.863635</td>\n",
       "      <td>1.0</td>\n",
       "      <td>one</td>\n",
       "    </tr>\n",
       "    <tr>\n",
       "      <th>2</th>\n",
       "      <td>0.796430</td>\n",
       "      <td>-0.751505</td>\n",
       "      <td>-0.068205</td>\n",
       "      <td>1.0</td>\n",
       "      <td>three</td>\n",
       "    </tr>\n",
       "    <tr>\n",
       "      <th>3</th>\n",
       "      <td>0.796430</td>\n",
       "      <td>-0.751505</td>\n",
       "      <td>-0.068205</td>\n",
       "      <td>1.0</td>\n",
       "      <td>three</td>\n",
       "    </tr>\n",
       "    <tr>\n",
       "      <th>4</th>\n",
       "      <td>-0.244197</td>\n",
       "      <td>1.042836</td>\n",
       "      <td>-1.829334</td>\n",
       "      <td>1.0</td>\n",
       "      <td>three</td>\n",
       "    </tr>\n",
       "    <tr>\n",
       "      <th>5</th>\n",
       "      <td>-0.244197</td>\n",
       "      <td>1.042836</td>\n",
       "      <td>-1.829334</td>\n",
       "      <td>1.0</td>\n",
       "      <td>three</td>\n",
       "    </tr>\n",
       "    <tr>\n",
       "      <th>6</th>\n",
       "      <td>0.485236</td>\n",
       "      <td>0.601111</td>\n",
       "      <td>1.497022</td>\n",
       "      <td>1.0</td>\n",
       "      <td>five</td>\n",
       "    </tr>\n",
       "    <tr>\n",
       "      <th>7</th>\n",
       "      <td>0.074969</td>\n",
       "      <td>0.106060</td>\n",
       "      <td>0.193874</td>\n",
       "      <td>1.0</td>\n",
       "      <td>six</td>\n",
       "    </tr>\n",
       "    <tr>\n",
       "      <th>8</th>\n",
       "      <td>0.996205</td>\n",
       "      <td>-2.159927</td>\n",
       "      <td>0.110629</td>\n",
       "      <td>1.0</td>\n",
       "      <td>seven</td>\n",
       "    </tr>\n",
       "    <tr>\n",
       "      <th>9</th>\n",
       "      <td>-1.328051</td>\n",
       "      <td>-0.044505</td>\n",
       "      <td>-1.018048</td>\n",
       "      <td>1.0</td>\n",
       "      <td>eight</td>\n",
       "    </tr>\n",
       "  </tbody>\n",
       "</table>\n",
       "</div>"
      ],
      "text/plain": [
       "         c1        c2        c3   c4      E\n",
       "0 -1.353916 -0.956077  1.918780  1.0    one\n",
       "1  0.946857 -1.589318  1.863635  1.0    one\n",
       "2  0.796430 -0.751505 -0.068205  1.0  three\n",
       "3  0.796430 -0.751505 -0.068205  1.0  three\n",
       "4 -0.244197  1.042836 -1.829334  1.0  three\n",
       "5 -0.244197  1.042836 -1.829334  1.0  three\n",
       "6  0.485236  0.601111  1.497022  1.0   five\n",
       "7  0.074969  0.106060  0.193874  1.0    six\n",
       "8  0.996205 -2.159927  0.110629  1.0  seven\n",
       "9 -1.328051 -0.044505 -1.018048  1.0  eight"
      ]
     },
     "execution_count": 115,
     "metadata": {},
     "output_type": "execute_result"
    }
   ],
   "source": [
    "#backward fill\n",
    "my_df2.bfill()"
   ]
  },
  {
   "cell_type": "code",
   "execution_count": 116,
   "metadata": {},
   "outputs": [
    {
     "data": {
      "text/html": [
       "<div>\n",
       "<style>\n",
       "    .dataframe thead tr:only-child th {\n",
       "        text-align: right;\n",
       "    }\n",
       "\n",
       "    .dataframe thead th {\n",
       "        text-align: left;\n",
       "    }\n",
       "\n",
       "    .dataframe tbody tr th {\n",
       "        vertical-align: top;\n",
       "    }\n",
       "</style>\n",
       "<table border=\"1\" class=\"dataframe\">\n",
       "  <thead>\n",
       "    <tr style=\"text-align: right;\">\n",
       "      <th></th>\n",
       "      <th>c1</th>\n",
       "      <th>c2</th>\n",
       "      <th>c3</th>\n",
       "      <th>c4</th>\n",
       "      <th>E</th>\n",
       "    </tr>\n",
       "  </thead>\n",
       "  <tbody>\n",
       "    <tr>\n",
       "      <th>0</th>\n",
       "      <td>-1.353916</td>\n",
       "      <td>-0.956077</td>\n",
       "      <td>1.918780</td>\n",
       "      <td>1.0</td>\n",
       "      <td>one</td>\n",
       "    </tr>\n",
       "    <tr>\n",
       "      <th>1</th>\n",
       "      <td>0.946857</td>\n",
       "      <td>-1.589318</td>\n",
       "      <td>1.863635</td>\n",
       "      <td>1.0</td>\n",
       "      <td>one</td>\n",
       "    </tr>\n",
       "    <tr>\n",
       "      <th>2</th>\n",
       "      <td>0.871644</td>\n",
       "      <td>-1.170411</td>\n",
       "      <td>0.897715</td>\n",
       "      <td>1.0</td>\n",
       "      <td>NaN</td>\n",
       "    </tr>\n",
       "    <tr>\n",
       "      <th>3</th>\n",
       "      <td>0.796430</td>\n",
       "      <td>-0.751505</td>\n",
       "      <td>-0.068205</td>\n",
       "      <td>1.0</td>\n",
       "      <td>three</td>\n",
       "    </tr>\n",
       "    <tr>\n",
       "      <th>4</th>\n",
       "      <td>0.276117</td>\n",
       "      <td>0.145665</td>\n",
       "      <td>-0.948769</td>\n",
       "      <td>1.0</td>\n",
       "      <td>NaN</td>\n",
       "    </tr>\n",
       "    <tr>\n",
       "      <th>5</th>\n",
       "      <td>-0.244197</td>\n",
       "      <td>1.042836</td>\n",
       "      <td>-1.829334</td>\n",
       "      <td>1.0</td>\n",
       "      <td>three</td>\n",
       "    </tr>\n",
       "    <tr>\n",
       "      <th>6</th>\n",
       "      <td>0.485236</td>\n",
       "      <td>0.601111</td>\n",
       "      <td>1.497022</td>\n",
       "      <td>1.0</td>\n",
       "      <td>five</td>\n",
       "    </tr>\n",
       "    <tr>\n",
       "      <th>7</th>\n",
       "      <td>0.074969</td>\n",
       "      <td>0.106060</td>\n",
       "      <td>0.193874</td>\n",
       "      <td>1.0</td>\n",
       "      <td>six</td>\n",
       "    </tr>\n",
       "    <tr>\n",
       "      <th>8</th>\n",
       "      <td>0.996205</td>\n",
       "      <td>-2.159927</td>\n",
       "      <td>0.110629</td>\n",
       "      <td>1.0</td>\n",
       "      <td>seven</td>\n",
       "    </tr>\n",
       "    <tr>\n",
       "      <th>9</th>\n",
       "      <td>-1.328051</td>\n",
       "      <td>-0.044505</td>\n",
       "      <td>-1.018048</td>\n",
       "      <td>1.0</td>\n",
       "      <td>eight</td>\n",
       "    </tr>\n",
       "  </tbody>\n",
       "</table>\n",
       "</div>"
      ],
      "text/plain": [
       "         c1        c2        c3   c4      E\n",
       "0 -1.353916 -0.956077  1.918780  1.0    one\n",
       "1  0.946857 -1.589318  1.863635  1.0    one\n",
       "2  0.871644 -1.170411  0.897715  1.0    NaN\n",
       "3  0.796430 -0.751505 -0.068205  1.0  three\n",
       "4  0.276117  0.145665 -0.948769  1.0    NaN\n",
       "5 -0.244197  1.042836 -1.829334  1.0  three\n",
       "6  0.485236  0.601111  1.497022  1.0   five\n",
       "7  0.074969  0.106060  0.193874  1.0    six\n",
       "8  0.996205 -2.159927  0.110629  1.0  seven\n",
       "9 -1.328051 -0.044505 -1.018048  1.0  eight"
      ]
     },
     "execution_count": 116,
     "metadata": {},
     "output_type": "execute_result"
    }
   ],
   "source": [
    "#interpolate\n",
    "my_df2.interpolate()"
   ]
  },
  {
   "cell_type": "markdown",
   "metadata": {},
   "source": [
    "## Detecting outliers"
   ]
  },
  {
   "cell_type": "code",
   "execution_count": 117,
   "metadata": {},
   "outputs": [],
   "source": [
    "#use boolean indexing"
   ]
  },
  {
   "cell_type": "code",
   "execution_count": null,
   "metadata": {},
   "outputs": [],
   "source": []
  },
  {
   "cell_type": "markdown",
   "metadata": {},
   "source": [
    "## Data Conversions"
   ]
  },
  {
   "cell_type": "code",
   "execution_count": 118,
   "metadata": {},
   "outputs": [
    {
     "data": {
      "text/plain": [
       "A           float64\n",
       "B    datetime64[ns]\n",
       "C           float32\n",
       "D             int32\n",
       "E          category\n",
       "F            object\n",
       "dtype: object"
      ]
     },
     "execution_count": 118,
     "metadata": {},
     "output_type": "execute_result"
    }
   ],
   "source": [
    "df2.dtypes"
   ]
  },
  {
   "cell_type": "code",
   "execution_count": 119,
   "metadata": {},
   "outputs": [
    {
     "data": {
      "text/plain": [
       "A           float64\n",
       "B    datetime64[ns]\n",
       "C           float32\n",
       "D            object\n",
       "E          category\n",
       "F            object\n",
       "dtype: object"
      ]
     },
     "execution_count": 119,
     "metadata": {},
     "output_type": "execute_result"
    }
   ],
   "source": [
    "df2['D'] = df2['D'].astype(dtype='object')\n",
    "df2.dtypes"
   ]
  },
  {
   "cell_type": "markdown",
   "metadata": {},
   "source": [
    "## Categoricals"
   ]
  },
  {
   "cell_type": "code",
   "execution_count": 120,
   "metadata": {},
   "outputs": [],
   "source": [
    "df3 = pd.DataFrame({\"id\":[1,2,3,4,5,6], \"raw_grade\":['a', 'b', 'b', 'a', 'a', 'e']})"
   ]
  },
  {
   "cell_type": "code",
   "execution_count": 121,
   "metadata": {},
   "outputs": [
    {
     "data": {
      "text/plain": [
       "0    a\n",
       "1    b\n",
       "2    b\n",
       "3    a\n",
       "4    a\n",
       "5    e\n",
       "Name: grade, dtype: category\n",
       "Categories (3, object): [a, b, e]"
      ]
     },
     "execution_count": 121,
     "metadata": {},
     "output_type": "execute_result"
    }
   ],
   "source": [
    "df3[\"grade\"] = df3[\"raw_grade\"].astype(\"category\")\n",
    "df3[\"grade\"]"
   ]
  },
  {
   "cell_type": "code",
   "execution_count": 122,
   "metadata": {},
   "outputs": [
    {
     "data": {
      "text/plain": [
       "0    very good\n",
       "1         good\n",
       "2         good\n",
       "3    very good\n",
       "4    very good\n",
       "5     very bad\n",
       "Name: grade, dtype: category\n",
       "Categories (3, object): [very good, good, very bad]"
      ]
     },
     "execution_count": 122,
     "metadata": {},
     "output_type": "execute_result"
    }
   ],
   "source": [
    "df3[\"grade\"].cat.categories = [\"very good\", \"good\", \"very bad\"]\n",
    "df3[\"grade\"]"
   ]
  },
  {
   "cell_type": "code",
   "execution_count": 123,
   "metadata": {},
   "outputs": [
    {
     "data": {
      "text/plain": [
       "0    very good\n",
       "1         good\n",
       "2         good\n",
       "3    very good\n",
       "4    very good\n",
       "5     very bad\n",
       "Name: grade, dtype: category\n",
       "Categories (5, object): [very bad, bad, medium, good, very good]"
      ]
     },
     "execution_count": 123,
     "metadata": {},
     "output_type": "execute_result"
    }
   ],
   "source": [
    "df3[\"grade\"] = df3[\"grade\"].cat.set_categories([\"very bad\", \"bad\", \"medium\", \"good\", \"very good\"])\n",
    "df3[\"grade\"]"
   ]
  },
  {
   "cell_type": "code",
   "execution_count": 124,
   "metadata": {},
   "outputs": [
    {
     "data": {
      "text/html": [
       "<div>\n",
       "<style>\n",
       "    .dataframe thead tr:only-child th {\n",
       "        text-align: right;\n",
       "    }\n",
       "\n",
       "    .dataframe thead th {\n",
       "        text-align: left;\n",
       "    }\n",
       "\n",
       "    .dataframe tbody tr th {\n",
       "        vertical-align: top;\n",
       "    }\n",
       "</style>\n",
       "<table border=\"1\" class=\"dataframe\">\n",
       "  <thead>\n",
       "    <tr style=\"text-align: right;\">\n",
       "      <th></th>\n",
       "      <th>id</th>\n",
       "      <th>raw_grade</th>\n",
       "      <th>grade</th>\n",
       "    </tr>\n",
       "  </thead>\n",
       "  <tbody>\n",
       "    <tr>\n",
       "      <th>5</th>\n",
       "      <td>6</td>\n",
       "      <td>e</td>\n",
       "      <td>very bad</td>\n",
       "    </tr>\n",
       "    <tr>\n",
       "      <th>1</th>\n",
       "      <td>2</td>\n",
       "      <td>b</td>\n",
       "      <td>good</td>\n",
       "    </tr>\n",
       "    <tr>\n",
       "      <th>2</th>\n",
       "      <td>3</td>\n",
       "      <td>b</td>\n",
       "      <td>good</td>\n",
       "    </tr>\n",
       "    <tr>\n",
       "      <th>0</th>\n",
       "      <td>1</td>\n",
       "      <td>a</td>\n",
       "      <td>very good</td>\n",
       "    </tr>\n",
       "    <tr>\n",
       "      <th>3</th>\n",
       "      <td>4</td>\n",
       "      <td>a</td>\n",
       "      <td>very good</td>\n",
       "    </tr>\n",
       "    <tr>\n",
       "      <th>4</th>\n",
       "      <td>5</td>\n",
       "      <td>a</td>\n",
       "      <td>very good</td>\n",
       "    </tr>\n",
       "  </tbody>\n",
       "</table>\n",
       "</div>"
      ],
      "text/plain": [
       "   id raw_grade      grade\n",
       "5   6         e   very bad\n",
       "1   2         b       good\n",
       "2   3         b       good\n",
       "0   1         a  very good\n",
       "3   4         a  very good\n",
       "4   5         a  very good"
      ]
     },
     "execution_count": 124,
     "metadata": {},
     "output_type": "execute_result"
    }
   ],
   "source": [
    "df3.sort_values(by='grade')"
   ]
  },
  {
   "cell_type": "code",
   "execution_count": 125,
   "metadata": {},
   "outputs": [
    {
     "data": {
      "text/plain": [
       "grade\n",
       "very bad     1\n",
       "bad          0\n",
       "medium       0\n",
       "good         2\n",
       "very good    3\n",
       "dtype: int64"
      ]
     },
     "execution_count": 125,
     "metadata": {},
     "output_type": "execute_result"
    }
   ],
   "source": [
    "df3.groupby('grade').size()"
   ]
  },
  {
   "cell_type": "markdown",
   "metadata": {},
   "source": [
    "### Ordered categories"
   ]
  },
  {
   "cell_type": "code",
   "execution_count": 126,
   "metadata": {},
   "outputs": [
    {
     "data": {
      "text/html": [
       "<div>\n",
       "<style>\n",
       "    .dataframe thead tr:only-child th {\n",
       "        text-align: right;\n",
       "    }\n",
       "\n",
       "    .dataframe thead th {\n",
       "        text-align: left;\n",
       "    }\n",
       "\n",
       "    .dataframe tbody tr th {\n",
       "        vertical-align: top;\n",
       "    }\n",
       "</style>\n",
       "<table border=\"1\" class=\"dataframe\">\n",
       "  <thead>\n",
       "    <tr style=\"text-align: right;\">\n",
       "      <th></th>\n",
       "      <th>satisfactions</th>\n",
       "      <th>satisfactions2</th>\n",
       "    </tr>\n",
       "  </thead>\n",
       "  <tbody>\n",
       "    <tr>\n",
       "      <th>0</th>\n",
       "      <td>mad</td>\n",
       "      <td>NaN</td>\n",
       "    </tr>\n",
       "    <tr>\n",
       "      <th>1</th>\n",
       "      <td>good</td>\n",
       "      <td>good</td>\n",
       "    </tr>\n",
       "    <tr>\n",
       "      <th>2</th>\n",
       "      <td>neutral</td>\n",
       "      <td>neutral</td>\n",
       "    </tr>\n",
       "    <tr>\n",
       "      <th>3</th>\n",
       "      <td>very good</td>\n",
       "      <td>very good</td>\n",
       "    </tr>\n",
       "    <tr>\n",
       "      <th>4</th>\n",
       "      <td>bad</td>\n",
       "      <td>bad</td>\n",
       "    </tr>\n",
       "  </tbody>\n",
       "</table>\n",
       "</div>"
      ],
      "text/plain": [
       "  satisfactions satisfactions2\n",
       "0           mad            NaN\n",
       "1          good           good\n",
       "2       neutral        neutral\n",
       "3     very good      very good\n",
       "4           bad            bad"
      ]
     },
     "execution_count": 126,
     "metadata": {},
     "output_type": "execute_result"
    }
   ],
   "source": [
    "ordered_satisfaction = ['very bad', 'bad','neutral','good','very good']\n",
    "satis_df = pd.DataFrame({\"satisfactions\":['mad','good','neutral','very good','bad']})\n",
    "satis_df['satisfactions2'] = satis_df['satisfactions'].astype('category', ordered=True, categories=ordered_satisfaction)\n",
    "satis_df"
   ]
  },
  {
   "cell_type": "code",
   "execution_count": 127,
   "metadata": {},
   "outputs": [
    {
     "data": {
      "text/plain": [
       "satisfactions       object\n",
       "satisfactions2    category\n",
       "dtype: object"
      ]
     },
     "execution_count": 127,
     "metadata": {},
     "output_type": "execute_result"
    }
   ],
   "source": [
    "satis_df.dtypes"
   ]
  },
  {
   "cell_type": "markdown",
   "metadata": {},
   "source": [
    "### Category codes"
   ]
  },
  {
   "cell_type": "code",
   "execution_count": 128,
   "metadata": {},
   "outputs": [
    {
     "data": {
      "text/plain": [
       "0   -1\n",
       "1    3\n",
       "2    2\n",
       "3    4\n",
       "4    1\n",
       "dtype: int8"
      ]
     },
     "execution_count": 128,
     "metadata": {},
     "output_type": "execute_result"
    }
   ],
   "source": [
    "satis_df['satisfactions2'].cat.codes"
   ]
  },
  {
   "cell_type": "markdown",
   "metadata": {},
   "source": [
    "### Converting to categorical indicators (one hot encoding)"
   ]
  },
  {
   "cell_type": "code",
   "execution_count": 129,
   "metadata": {},
   "outputs": [
    {
     "data": {
      "text/html": [
       "<div>\n",
       "<style>\n",
       "    .dataframe thead tr:only-child th {\n",
       "        text-align: right;\n",
       "    }\n",
       "\n",
       "    .dataframe thead th {\n",
       "        text-align: left;\n",
       "    }\n",
       "\n",
       "    .dataframe tbody tr th {\n",
       "        vertical-align: top;\n",
       "    }\n",
       "</style>\n",
       "<table border=\"1\" class=\"dataframe\">\n",
       "  <thead>\n",
       "    <tr style=\"text-align: right;\">\n",
       "      <th></th>\n",
       "      <th>bad</th>\n",
       "      <th>good</th>\n",
       "      <th>neutral</th>\n",
       "      <th>very bad</th>\n",
       "      <th>very good</th>\n",
       "    </tr>\n",
       "  </thead>\n",
       "  <tbody>\n",
       "    <tr>\n",
       "      <th>0</th>\n",
       "      <td>0</td>\n",
       "      <td>0</td>\n",
       "      <td>0</td>\n",
       "      <td>1</td>\n",
       "      <td>0</td>\n",
       "    </tr>\n",
       "    <tr>\n",
       "      <th>1</th>\n",
       "      <td>1</td>\n",
       "      <td>0</td>\n",
       "      <td>0</td>\n",
       "      <td>0</td>\n",
       "      <td>0</td>\n",
       "    </tr>\n",
       "    <tr>\n",
       "      <th>2</th>\n",
       "      <td>0</td>\n",
       "      <td>0</td>\n",
       "      <td>1</td>\n",
       "      <td>0</td>\n",
       "      <td>0</td>\n",
       "    </tr>\n",
       "    <tr>\n",
       "      <th>3</th>\n",
       "      <td>0</td>\n",
       "      <td>1</td>\n",
       "      <td>0</td>\n",
       "      <td>0</td>\n",
       "      <td>0</td>\n",
       "    </tr>\n",
       "    <tr>\n",
       "      <th>4</th>\n",
       "      <td>0</td>\n",
       "      <td>0</td>\n",
       "      <td>0</td>\n",
       "      <td>0</td>\n",
       "      <td>1</td>\n",
       "    </tr>\n",
       "  </tbody>\n",
       "</table>\n",
       "</div>"
      ],
      "text/plain": [
       "   bad  good  neutral  very bad  very good\n",
       "0    0     0        0         1          0\n",
       "1    1     0        0         0          0\n",
       "2    0     0        1         0          0\n",
       "3    0     1        0         0          0\n",
       "4    0     0        0         0          1"
      ]
     },
     "execution_count": 129,
     "metadata": {},
     "output_type": "execute_result"
    }
   ],
   "source": [
    "pd.get_dummies(ordered_satisfaction)"
   ]
  },
  {
   "cell_type": "code",
   "execution_count": 130,
   "metadata": {},
   "outputs": [
    {
     "data": {
      "text/html": [
       "<div>\n",
       "<style>\n",
       "    .dataframe thead tr:only-child th {\n",
       "        text-align: right;\n",
       "    }\n",
       "\n",
       "    .dataframe thead th {\n",
       "        text-align: left;\n",
       "    }\n",
       "\n",
       "    .dataframe tbody tr th {\n",
       "        vertical-align: top;\n",
       "    }\n",
       "</style>\n",
       "<table border=\"1\" class=\"dataframe\">\n",
       "  <thead>\n",
       "    <tr style=\"text-align: right;\">\n",
       "      <th></th>\n",
       "      <th>satisfactions2</th>\n",
       "      <th>satisfactions_bad</th>\n",
       "      <th>satisfactions_good</th>\n",
       "      <th>satisfactions_mad</th>\n",
       "      <th>satisfactions_neutral</th>\n",
       "      <th>satisfactions_very good</th>\n",
       "    </tr>\n",
       "  </thead>\n",
       "  <tbody>\n",
       "    <tr>\n",
       "      <th>0</th>\n",
       "      <td>NaN</td>\n",
       "      <td>0</td>\n",
       "      <td>0</td>\n",
       "      <td>1</td>\n",
       "      <td>0</td>\n",
       "      <td>0</td>\n",
       "    </tr>\n",
       "    <tr>\n",
       "      <th>1</th>\n",
       "      <td>good</td>\n",
       "      <td>0</td>\n",
       "      <td>1</td>\n",
       "      <td>0</td>\n",
       "      <td>0</td>\n",
       "      <td>0</td>\n",
       "    </tr>\n",
       "    <tr>\n",
       "      <th>2</th>\n",
       "      <td>neutral</td>\n",
       "      <td>0</td>\n",
       "      <td>0</td>\n",
       "      <td>0</td>\n",
       "      <td>1</td>\n",
       "      <td>0</td>\n",
       "    </tr>\n",
       "    <tr>\n",
       "      <th>3</th>\n",
       "      <td>very good</td>\n",
       "      <td>0</td>\n",
       "      <td>0</td>\n",
       "      <td>0</td>\n",
       "      <td>0</td>\n",
       "      <td>1</td>\n",
       "    </tr>\n",
       "    <tr>\n",
       "      <th>4</th>\n",
       "      <td>bad</td>\n",
       "      <td>1</td>\n",
       "      <td>0</td>\n",
       "      <td>0</td>\n",
       "      <td>0</td>\n",
       "      <td>0</td>\n",
       "    </tr>\n",
       "  </tbody>\n",
       "</table>\n",
       "</div>"
      ],
      "text/plain": [
       "  satisfactions2  satisfactions_bad  satisfactions_good  satisfactions_mad  \\\n",
       "0            NaN                  0                   0                  1   \n",
       "1           good                  0                   1                  0   \n",
       "2        neutral                  0                   0                  0   \n",
       "3      very good                  0                   0                  0   \n",
       "4            bad                  1                   0                  0   \n",
       "\n",
       "   satisfactions_neutral  satisfactions_very good  \n",
       "0                      0                        0  \n",
       "1                      0                        0  \n",
       "2                      1                        0  \n",
       "3                      0                        1  \n",
       "4                      0                        0  "
      ]
     },
     "execution_count": 130,
     "metadata": {},
     "output_type": "execute_result"
    }
   ],
   "source": [
    "satis_dummy_df = pd.get_dummies(satis_df, columns=['satisfactions'])\n",
    "satis_dummy_df"
   ]
  },
  {
   "cell_type": "markdown",
   "metadata": {},
   "source": [
    "## Text to Features\n",
    "### Bag of Words"
   ]
  },
  {
   "cell_type": "code",
   "execution_count": 131,
   "metadata": {},
   "outputs": [],
   "source": [
    "corpus = [\"Think of your machine learning models as if they were children who have absolutely no knowledge\",\n",
    "          \"except what you train them with;\",\n",
    "          \"what information would they need to know to make the right decisions?\"]"
   ]
  },
  {
   "cell_type": "code",
   "execution_count": 132,
   "metadata": {},
   "outputs": [
    {
     "data": {
      "text/plain": [
       "<3x31 sparse matrix of type '<class 'numpy.int64'>'\n",
       "\twith 33 stored elements in Compressed Sparse Row format>"
      ]
     },
     "execution_count": 132,
     "metadata": {},
     "output_type": "execute_result"
    }
   ],
   "source": [
    "bow = CountVectorizer()\n",
    "X = bow.fit_transform(corpus)\n",
    "X"
   ]
  },
  {
   "cell_type": "code",
   "execution_count": 133,
   "metadata": {},
   "outputs": [
    {
     "data": {
      "text/plain": [
       "['absolutely',\n",
       " 'as',\n",
       " 'children',\n",
       " 'decisions',\n",
       " 'except',\n",
       " 'have',\n",
       " 'if',\n",
       " 'information',\n",
       " 'know',\n",
       " 'knowledge',\n",
       " 'learning',\n",
       " 'machine',\n",
       " 'make',\n",
       " 'models',\n",
       " 'need',\n",
       " 'no',\n",
       " 'of',\n",
       " 'right',\n",
       " 'the',\n",
       " 'them',\n",
       " 'they',\n",
       " 'think',\n",
       " 'to',\n",
       " 'train',\n",
       " 'were',\n",
       " 'what',\n",
       " 'who',\n",
       " 'with',\n",
       " 'would',\n",
       " 'you',\n",
       " 'your']"
      ]
     },
     "execution_count": 133,
     "metadata": {},
     "output_type": "execute_result"
    }
   ],
   "source": [
    "bow.vocabulary_\n",
    "bow.get_feature_names()"
   ]
  },
  {
   "cell_type": "code",
   "execution_count": 134,
   "metadata": {},
   "outputs": [],
   "source": [
    "bow.stop_words_\n",
    "bow.get_stop_words()"
   ]
  },
  {
   "cell_type": "code",
   "execution_count": 135,
   "metadata": {},
   "outputs": [
    {
     "data": {
      "text/plain": [
       "matrix([[1, 1, 1, 0, 0, 1, 1, 0, 0, 1, 1, 1, 0, 1, 0, 1, 1, 0, 0, 0, 1, 1,\n",
       "         0, 0, 1, 0, 1, 0, 0, 0, 1],\n",
       "        [0, 0, 0, 0, 1, 0, 0, 0, 0, 0, 0, 0, 0, 0, 0, 0, 0, 0, 0, 1, 0, 0,\n",
       "         0, 1, 0, 1, 0, 1, 0, 1, 0],\n",
       "        [0, 0, 0, 1, 0, 0, 0, 1, 1, 0, 0, 0, 1, 0, 1, 0, 0, 1, 1, 0, 1, 0,\n",
       "         2, 0, 0, 1, 0, 0, 1, 0, 0]], dtype=int64)"
      ]
     },
     "execution_count": 135,
     "metadata": {},
     "output_type": "execute_result"
    }
   ],
   "source": [
    "X.toarray()\n",
    "X.todense()"
   ]
  },
  {
   "cell_type": "code",
   "execution_count": 136,
   "metadata": {},
   "outputs": [
    {
     "data": {
      "text/plain": [
       "[array(['knowledge', 'no', 'absolutely', 'have', 'who', 'children', 'were',\n",
       "        'they', 'if', 'as', 'models', 'learning', 'machine', 'your', 'of',\n",
       "        'think'],\n",
       "       dtype='<U11'), array(['with', 'them', 'train', 'you', 'what', 'except'],\n",
       "       dtype='<U11'), array(['decisions', 'right', 'the', 'make', 'know', 'to', 'need', 'would',\n",
       "        'information', 'what', 'they'],\n",
       "       dtype='<U11')]"
      ]
     },
     "execution_count": 136,
     "metadata": {},
     "output_type": "execute_result"
    }
   ],
   "source": [
    "bow.inverse_transform(X)"
   ]
  },
  {
   "cell_type": "markdown",
   "metadata": {},
   "source": [
    "## Images to Features"
   ]
  },
  {
   "cell_type": "code",
   "execution_count": 158,
   "metadata": {},
   "outputs": [
    {
     "data": {
      "text/plain": [
       "numpy.ndarray"
      ]
     },
     "execution_count": 158,
     "metadata": {},
     "output_type": "execute_result"
    }
   ],
   "source": [
    "img_rgb = misc.imread(name='CapLogo.png',flatten=False,mode='RGB')\n",
    "type(img)"
   ]
  },
  {
   "cell_type": "code",
   "execution_count": 159,
   "metadata": {},
   "outputs": [
    {
     "data": {
      "text/plain": [
       "(115, 300, 3)"
      ]
     },
     "execution_count": 159,
     "metadata": {},
     "output_type": "execute_result"
    }
   ],
   "source": [
    "img_rgb.shape"
   ]
  },
  {
   "cell_type": "code",
   "execution_count": 160,
   "metadata": {},
   "outputs": [
    {
     "data": {
      "text/plain": [
       "dtype('uint8')"
      ]
     },
     "execution_count": 160,
     "metadata": {},
     "output_type": "execute_result"
    }
   ],
   "source": [
    "img_rgb.dtype"
   ]
  },
  {
   "cell_type": "code",
   "execution_count": 198,
   "metadata": {},
   "outputs": [
    {
     "data": {
      "text/plain": [
       "(29, 75, 3)"
      ]
     },
     "execution_count": 198,
     "metadata": {},
     "output_type": "execute_result"
    }
   ],
   "source": [
    "#resample image if it is too big\n",
    "#every 2 pixels close to each other are heavily correlated\n",
    "img_rgb = img_rgb[::2, ::2]\n",
    "img_rgb.shape"
   ]
  },
  {
   "cell_type": "code",
   "execution_count": 181,
   "metadata": {},
   "outputs": [
    {
     "data": {
      "text/plain": [
       "numpy.ndarray"
      ]
     },
     "execution_count": 181,
     "metadata": {},
     "output_type": "execute_result"
    }
   ],
   "source": [
    "img_gray = misc.imread(name='CapLogo.png',flatten=True,mode='RGB')\n",
    "type(img_gray)"
   ]
  },
  {
   "cell_type": "code",
   "execution_count": 182,
   "metadata": {},
   "outputs": [
    {
     "data": {
      "text/plain": [
       "(115, 300)"
      ]
     },
     "execution_count": 182,
     "metadata": {},
     "output_type": "execute_result"
    }
   ],
   "source": [
    "img_gray.shape"
   ]
  },
  {
   "cell_type": "code",
   "execution_count": 183,
   "metadata": {},
   "outputs": [
    {
     "data": {
      "text/plain": [
       "dtype('float32')"
      ]
     },
     "execution_count": 183,
     "metadata": {},
     "output_type": "execute_result"
    }
   ],
   "source": [
    "img_gray.dtype"
   ]
  },
  {
   "cell_type": "code",
   "execution_count": 188,
   "metadata": {},
   "outputs": [
    {
     "data": {
      "text/plain": [
       "array([  6.03086363e-08,   6.03086363e-08,   6.03086363e-08, ...,\n",
       "         6.03086363e-08,   6.03086363e-08,   6.03086363e-08], dtype=float32)"
      ]
     },
     "execution_count": 188,
     "metadata": {},
     "output_type": "execute_result"
    }
   ],
   "source": [
    "#normalize values between 0 and 1\n",
    "img_gray = (img_gray/255.).reshape(-1,)\n",
    "img_gray"
   ]
  },
  {
   "cell_type": "code",
   "execution_count": 189,
   "metadata": {},
   "outputs": [
    {
     "data": {
      "text/plain": [
       "(34500,)"
      ]
     },
     "execution_count": 189,
     "metadata": {},
     "output_type": "execute_result"
    }
   ],
   "source": [
    "img_gray.shape"
   ]
  },
  {
   "cell_type": "markdown",
   "metadata": {},
   "source": [
    "## Audio to Features\n",
    "**Be sure to have _same sample rates_ when comparing wav files!!!**"
   ]
  },
  {
   "cell_type": "code",
   "execution_count": 192,
   "metadata": {},
   "outputs": [
    {
     "data": {
      "text/plain": [
       "44100"
      ]
     },
     "execution_count": 192,
     "metadata": {},
     "output_type": "execute_result"
    }
   ],
   "source": [
    "sample_rate, audio_data = wavfile.read('test.wav')\n",
    "sample_rate"
   ]
  },
  {
   "cell_type": "code",
   "execution_count": 193,
   "metadata": {},
   "outputs": [
    {
     "data": {
      "text/plain": [
       "array([     0,   1221,   2440, ..., -31277, -30892, -30463], dtype=int16)"
      ]
     },
     "execution_count": 193,
     "metadata": {},
     "output_type": "execute_result"
    }
   ],
   "source": [
    "audio_data"
   ]
  },
  {
   "cell_type": "code",
   "execution_count": 195,
   "metadata": {},
   "outputs": [
    {
     "data": {
      "text/plain": [
       "int"
      ]
     },
     "execution_count": 195,
     "metadata": {},
     "output_type": "execute_result"
    }
   ],
   "source": [
    "type(sample_rate)"
   ]
  },
  {
   "cell_type": "code",
   "execution_count": 197,
   "metadata": {},
   "outputs": [
    {
     "data": {
      "text/plain": [
       "(22050,)"
      ]
     },
     "execution_count": 197,
     "metadata": {},
     "output_type": "execute_result"
    }
   ],
   "source": [
    "audio_data.shape"
   ]
  },
  {
   "cell_type": "markdown",
   "metadata": {},
   "source": [
    "## Normalizing Data Sets"
   ]
  },
  {
   "cell_type": "code",
   "execution_count": 137,
   "metadata": {},
   "outputs": [],
   "source": [
    "#use sklearn preprocessing of numpy arrays\n",
    "#so remember to convert to numpy arrays!"
   ]
  },
  {
   "cell_type": "code",
   "execution_count": null,
   "metadata": {},
   "outputs": [],
   "source": []
  },
  {
   "cell_type": "code",
   "execution_count": null,
   "metadata": {},
   "outputs": [],
   "source": []
  },
  {
   "cell_type": "code",
   "execution_count": null,
   "metadata": {},
   "outputs": [],
   "source": []
  },
  {
   "cell_type": "markdown",
   "metadata": {},
   "source": [
    "## Feature Engineering"
   ]
  },
  {
   "cell_type": "code",
   "execution_count": null,
   "metadata": {},
   "outputs": [],
   "source": []
  },
  {
   "cell_type": "code",
   "execution_count": null,
   "metadata": {},
   "outputs": [],
   "source": []
  },
  {
   "cell_type": "code",
   "execution_count": null,
   "metadata": {},
   "outputs": [],
   "source": []
  }
 ],
 "metadata": {
  "kernelspec": {
   "display_name": "Python 3",
   "language": "python",
   "name": "python3"
  },
  "language_info": {
   "codemirror_mode": {
    "name": "ipython",
    "version": 3
   },
   "file_extension": ".py",
   "mimetype": "text/x-python",
   "name": "python",
   "nbconvert_exporter": "python",
   "pygments_lexer": "ipython3",
   "version": "3.6.2"
  }
 },
 "nbformat": 4,
 "nbformat_minor": 2
}
