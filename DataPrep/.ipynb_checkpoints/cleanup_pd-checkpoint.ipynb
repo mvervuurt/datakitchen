{
 "cells": [
  {
   "cell_type": "code",
   "execution_count": 1,
   "metadata": {
    "collapsed": true
   },
   "outputs": [],
   "source": [
    "# replace '?' characters with nana"
   ]
  },
  {
   "cell_type": "code",
   "execution_count": 6,
   "metadata": {},
   "outputs": [],
   "source": [
    "## Cell 3\n",
    "import pandas as pd\n",
    "import numpy as np\n",
    "\n",
    "def cleanup(frame):\n",
    "    cols = ['price', 'bore', 'stroke', 'horsepower', 'peak-rpm']\n",
    "## Convert the '?' to a nan\n",
    "    for column in cols:\n",
    "        frame.loc[frame[column] == '?', column] = np.nan\n",
    "## Coerce colums to numeric\n",
    "    for col in cols:\n",
    "        frame[col] = pd.to_numeric(frame[col])\n",
    "## Drop rows with missing values    \n",
    "    frame.dropna(axis = 0, inplace = True)\n",
    "    print('dimensions = ' + str(frame.shape)) # print dimensions of the data frame\n",
    "    print(frame.dtypes) # print the data types of the columns"
   ]
  },
  {
   "cell_type": "code",
   "execution_count": null,
   "metadata": {
    "collapsed": true
   },
   "outputs": [],
   "source": []
  }
 ],
 "metadata": {
  "kernelspec": {
   "display_name": "Python 3",
   "language": "python",
   "name": "python3"
  },
  "language_info": {
   "codemirror_mode": {
    "name": "ipython",
    "version": 3
   },
   "file_extension": ".py",
   "mimetype": "text/x-python",
   "name": "python",
   "nbconvert_exporter": "python",
   "pygments_lexer": "ipython3",
   "version": "3.6.2"
  }
 },
 "nbformat": 4,
 "nbformat_minor": 2
}
