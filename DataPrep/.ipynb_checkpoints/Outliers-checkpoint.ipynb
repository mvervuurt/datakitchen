{
 "cells": [
  {
   "cell_type": "code",
   "execution_count": null,
   "metadata": {
    "collapsed": true
   },
   "outputs": [],
   "source": [
    "def id_outlier(df):\n",
    "    ## Create a vector of 0 of length equal to the number of rows\n",
    "    temp = [0] * df.shape[0]\n",
    "    ## test each outlier condition and mark with a 1 as required\n",
    "    for i, x in enumerate(df['enginesize']):\n",
    "        if (x > 190): temp[i] = 1 \n",
    "    for i, x in enumerate(df['weight']):\n",
    "        if (x > 3500): temp[i] = 1 \n",
    "    for i, x in enumerate(df['citympg']):\n",
    "        if (x > 40): temp[i] = 1      \n",
    "    df['outlier'] = temp # append a column to the data frame\n",
    "    return df\n",
    "\n",
    "def auto_scatter_outlier(df, plot_cols):\n",
    "    import matplotlib.pyplot as plt\n",
    "    outlier = [0,0,1,1] # Vector of outlier indicators\n",
    "    fuel = ['gas','diesel','gas','diesel']  # vector of fuel types\n",
    "    color = ['DarkBlue','DarkBlue','Red','Red'] # vector of color choices for plot\n",
    "    marker = ['x','o','o','x'] # vector of shape choices for plot\n",
    "    for col in plot_cols: # loop over the columns\n",
    "        fig = plt.figure(figsize=(6, 6))\n",
    "        ax = fig.gca()\n",
    "        ## Loop over the zip of the four vectors an subset the data and\n",
    "        ## create the plot using the aesthetics provided\n",
    "        for o, f, c, m in zip(outlier, fuel, color, marker):\n",
    "            temp = df.ix[(df['outlier'] == o) & (df['fueltype'] == f)]           \n",
    "            if temp.shape[0] > 0:                    \n",
    "                temp.plot(kind = 'scatter', x = col, y = 'lnprice' , \n",
    "                           ax = ax, color = c, marker = m)                                 \n",
    "        ax.set_title('Scatter plot of lnprice vs. ' + col)\n",
    "        fig.savefig('scatter_' + col + '.png')\n",
    "    return plot_cols      \n",
    "\n",
    "def azureml_main(df): \n",
    "    import matplotlib\n",
    "    matplotlib.use('agg')\n",
    "    ## Define the plot columns\n",
    "    plot_cols = [\"weight\",\n",
    "               \"enginesize\",\n",
    "               \"citympg\"]\n",
    "    df = id_outlier(df)  # mark outliers       \n",
    "    auto_scatter_outlier(df, plot_cols) # create plots\n",
    "    df = df[df.outlier == 1] # filter for outliers\n",
    "    return df\n"
   ]
  }
 ],
 "metadata": {
  "kernelspec": {
   "display_name": "Python 3",
   "language": "python",
   "name": "python3"
  },
  "language_info": {
   "codemirror_mode": {
    "name": "ipython",
    "version": 3
   },
   "file_extension": ".py",
   "mimetype": "text/x-python",
   "name": "python",
   "nbconvert_exporter": "python",
   "pygments_lexer": "ipython3",
   "version": "3.6.2"
  }
 },
 "nbformat": 4,
 "nbformat_minor": 2
}
