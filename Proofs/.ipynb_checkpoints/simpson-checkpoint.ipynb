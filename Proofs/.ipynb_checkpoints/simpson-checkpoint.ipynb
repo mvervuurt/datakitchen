{
 "cells": [
  {
   "cell_type": "markdown",
   "metadata": {},
   "source": [
    "# Simpson's paradox using Kidney stone treatment"
   ]
  },
  {
   "cell_type": "markdown",
   "metadata": {},
   "source": [
    "https://en.wikipedia.org/wiki/Simpson%27s_paradox"
   ]
  },
  {
   "cell_type": "code",
   "execution_count": 50,
   "metadata": {
    "collapsed": true
   },
   "outputs": [],
   "source": [
    "#Treatment A\n",
    "small_stones_group1 = 81/87\n",
    "large_stones_group3 = 192/263\n",
    "#Treatment B\n",
    "small_stones_group2 = 234/270\n",
    "large_stones_group4 = 55/80"
   ]
  },
  {
   "cell_type": "code",
   "execution_count": 55,
   "metadata": {},
   "outputs": [],
   "source": [
    "#total_a = 81*263/87*263 + 192*87/263*87\n",
    "#total_b = 234*80/270*80 + 55*270/80*270\n",
    "# total_a = 81/87 + 192/263\n",
    "# total_b = 234/270 + 55/80\n",
    "total_a = (81+192) / (87+263)\n",
    "total_b = (234+55) / (80+270)"
   ]
  },
  {
   "cell_type": "code",
   "execution_count": 56,
   "metadata": {},
   "outputs": [
    {
     "name": "stdout",
     "output_type": "stream",
     "text": [
      "0.78 0.8257142857142857\n"
     ]
    }
   ],
   "source": [
    "print(total_a, total_b)"
   ]
  },
  {
   "cell_type": "code",
   "execution_count": null,
   "metadata": {
    "collapsed": true
   },
   "outputs": [],
   "source": []
  }
 ],
 "metadata": {
  "kernelspec": {
   "display_name": "Python 3",
   "language": "python",
   "name": "python3"
  },
  "language_info": {
   "codemirror_mode": {
    "name": "ipython",
    "version": 3
   },
   "file_extension": ".py",
   "mimetype": "text/x-python",
   "name": "python",
   "nbconvert_exporter": "python",
   "pygments_lexer": "ipython3",
   "version": "3.6.2"
  }
 },
 "nbformat": 4,
 "nbformat_minor": 2
}
