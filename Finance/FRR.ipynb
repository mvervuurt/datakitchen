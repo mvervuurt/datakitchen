{
 "cells": [
  {
   "cell_type": "markdown",
   "metadata": {},
   "source": [
    "# Questions\n",
    "* counterparty credit risk vs credit risk?\n",
    "* unexpected loss in probability distribution?\n",
    "* wat are bonds?\n",
    "* wat is spread?"
   ]
  },
  {
   "cell_type": "markdown",
   "metadata": {},
   "source": [
    "# Financial Risk and Regulation Summary\n",
    "\n",
    "__Five C's of credit__\n",
    "\n",
    "Capital, Capicity, Conditions, Collateral, and Character\n",
    "\n",
    "__input credit risk model:__\n",
    "* PD - probability of default - The likelihood that the borrower will fail to make full and timely repayment of its financial obligations.\n",
    "* EAD - the exposure at default - The expected value of the loan at the time of default.\n",
    "* LGD - the loss given default - The amount of loss if there is a default, expressed as percentage of the EAD\n",
    "* RR - recovery rate - The proportion of the EAD the bank recovers\n",
    "* D - Duration - The duration to default\n",
    "* S - The spread - The spread for pricing-linked obligations\n",
    "* Special considerations for guaranteed debt\n",
    "\n",
    "Expected loss = (1-PD)*0 + PD * LGD * EAD = PD * LGD * EAD\n",
    "\n",
    "Unexpected loss represents the minimum loss level for a given confidence level a.\n",
    "UL(a) is the maximum loss a bank will suffer a% of the time.\n",
    "\n",
    "__Default risk = Credit Risk__\n",
    "\n",
    "The potential for loss due to a failure of a borrower to meet its contractual obligation to repay a debt in accordance with the agreed terms.\n",
    "\n",
    "__Market risk vs Credit Risk__\n",
    "\n",
    "Market risk is the potential loss due to changes in market prices or values"
   ]
  },
  {
   "cell_type": "code",
   "execution_count": null,
   "metadata": {},
   "outputs": [],
   "source": []
  }
 ],
 "metadata": {
  "hide_input": false,
  "kernelspec": {
   "display_name": "Python 3",
   "language": "python",
   "name": "python3"
  },
  "language_info": {
   "codemirror_mode": {
    "name": "ipython",
    "version": 3
   },
   "file_extension": ".py",
   "mimetype": "text/x-python",
   "name": "python",
   "nbconvert_exporter": "python",
   "pygments_lexer": "ipython3",
   "version": "3.6.6"
  }
 },
 "nbformat": 4,
 "nbformat_minor": 2
}
