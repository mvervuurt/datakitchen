{
 "cells": [
  {
   "cell_type": "markdown",
   "metadata": {},
   "source": [
    "# Twitter & Text Analytics Demo"
   ]
  },
  {
   "cell_type": "code",
   "execution_count": 1458,
   "metadata": {},
   "outputs": [
    {
     "name": "stdout",
     "output_type": "stream",
     "text": [
      "[nltk_data] Downloading package stopwords to /Users/Nx/nltk_data...\n",
      "[nltk_data]   Package stopwords is already up-to-date!\n"
     ]
    }
   ],
   "source": [
    "import re\n",
    "import nltk\n",
    "import string\n",
    "import gensim\n",
    "import operator\n",
    "import matplotlib\n",
    "import collections\n",
    "import numpy as np\n",
    "import pandas as pd\n",
    "import seaborn as sns\n",
    "from pprint import pprint\n",
    "from collections import Counter\n",
    "from nltk.corpus import stopwords\n",
    "from gensim import corpora, models\n",
    "from collections import OrderedDict\n",
    "from cassandra.cluster import Cluster\n",
    "from nltk.tokenize import TweetTokenizer\n",
    "from nltk.stem.snowball import SnowballStemmer\n",
    "from gensim.models.tfidfmodel import TfidfModel\n",
    "from sklearn.decomposition import NMF, LatentDirichletAllocation\n",
    "from nltk.cluster import KMeansClusterer, GAAClusterer, cosine_distance\n",
    "from sklearn.cluster import AgglomerativeClustering, KMeans, SpectralClustering\n",
    "from sklearn.feature_extraction.text import CountVectorizer, TfidfVectorizer\n",
    "\n",
    "nltk.download('stopwords')\n",
    "sns.set_style('whitegrid')\n",
    "matplotlib.style.use('ggplot')\n",
    "\n",
    "%matplotlib inline"
   ]
  },
  {
   "cell_type": "code",
   "execution_count": 1459,
   "metadata": {},
   "outputs": [],
   "source": [
    "def to_TF(tweets):\n",
    "    import pandas as pd\n",
    "    import nltk\n",
    "    tweets = [w for l in tweets for w in l]\n",
    "\n",
    "    ## Compute the frequency distribution of the words as a dictionary\n",
    "    fdist = nltk.FreqDist(tweets) \n",
    "    ## Convert the dictionary to a dataframe contaning the words and\n",
    "    ## counts indexed by the words, and then take the transpose.\n",
    "    count_frame = pd.DataFrame(fdist, index =[0]).T\n",
    "    count_frame.columns = ['Count']\n",
    "    return(count_frame.sort_values('Count', ascending = False))"
   ]
  },
  {
   "cell_type": "code",
   "execution_count": 1460,
   "metadata": {},
   "outputs": [],
   "source": [
    "def wf_bar(wf):\n",
    "    import matplotlib.pyplot as plt\n",
    "    ## Barplot of the most fequent words.   \n",
    "    fig = plt.figure(figsize=(12, 9))\n",
    "    ax = fig.gca()\n",
    "    ax.invert_yaxis()\n",
    "    wf['Count'][:30].plot(kind = 'barh', ax = ax)\n",
    "    ax.set_title('Frequency of the most common words')\n",
    "    ax.set_ylabel('Word')\n",
    "    ax.set_xlabel('Frequency of word')\n",
    "    ax.invert_yaxis()\n",
    "    plt.show()\n",
    "    return 'Done'"
   ]
  },
  {
   "cell_type": "markdown",
   "metadata": {},
   "source": [
    "# Query de data zoals gewenst en op grote scaal"
   ]
  },
  {
   "cell_type": "code",
   "execution_count": 1461,
   "metadata": {},
   "outputs": [
    {
     "name": "stderr",
     "output_type": "stream",
     "text": [
      "/Users/Nx/anaconda/envs/py3env/lib/python3.6/site-packages/ipykernel_launcher.py:1: DeprecationWarning: The 'warn' method is deprecated, use 'warning' instead\n",
      "  \"\"\"Entry point for launching an IPython kernel.\n"
     ]
    }
   ],
   "source": [
    "cluster = Cluster(['localhost'], port=32769)\n",
    "session = cluster.connect('twitter')"
   ]
  },
  {
   "cell_type": "code",
   "execution_count": 1462,
   "metadata": {},
   "outputs": [],
   "source": [
    "query = 'SELECT * FROM twitter.rawtweets'\n",
    "df = pd.DataFrame(list(session.execute(query)))"
   ]
  },
  {
   "cell_type": "markdown",
   "metadata": {},
   "source": [
    "# Verschoon de Twitter data"
   ]
  },
  {
   "cell_type": "code",
   "execution_count": 1463,
   "metadata": {},
   "outputs": [],
   "source": [
    "ttb = str.maketrans({ch : None for ch in string.punctuation})\n",
    "stop_dutch_words = stopwords.words('dutch')\n",
    "stop_dutch_words.extend(['rt'])"
   ]
  },
  {
   "cell_type": "code",
   "execution_count": 1464,
   "metadata": {},
   "outputs": [],
   "source": [
    "df.tweet = df.tweet.str.lower()\n",
    "df.tweet = df.tweet.str.translate(ttb)\n",
    "\n",
    "tknzr = TweetTokenizer()\n",
    "df['tweettokens'] = df.tweet.apply(lambda tw : tknzr.tokenize(tw))\n",
    "\n",
    "df['stoptweets'] = df.tweettokens.apply(lambda tw: [w for w in tw if ((w.lower() not in stop_dutch_words) \n",
    "                                                                      and (len(w) > 1) \n",
    "                                                                      and ('http' not in w.lower())\n",
    "                                                                      and ('we' not in w.lower())\n",
    "                                                                      and ('wij' not in w.lower())\n",
    "                                                                      and ('on' not in w.lower())\n",
    "                                                                      and ('jij' not in w.lower())\n",
    "                                                                      and ('my' not in w.lower())\n",
    "                                                                      and ('via' not in w.lower())\n",
    "                                                                      and ('this' not in w.lower())\n",
    "                                                                      and ('for' not in w.lower()))])\n",
    "\n",
    "stemmer = SnowballStemmer(\"dutch\")\n",
    "df['cleantweets'] = df.stoptweets.apply(lambda tw: [stemmer.stem(w) for w in tw])"
   ]
  },
  {
   "cell_type": "markdown",
   "metadata": {},
   "source": [
    "# Visualiseer de Twitter & Text Data"
   ]
  },
  {
   "cell_type": "code",
   "execution_count": 1466,
   "metadata": {},
   "outputs": [
    {
     "data": {
      "image/png": "[encoded data removed]",
      "text/plain": [
       "<matplotlib.figure.Figure at 0x1a6417ab70>"
      ]
     },
     "metadata": {},
     "output_type": "display_data"
    },
    {
     "data": {
      "text/plain": [
       "'Done'"
      ]
     },
     "execution_count": 1466,
     "metadata": {},
     "output_type": "execute_result"
    }
   ],
   "source": [
    " wf_bar(to_TF(df.cleantweets))"
   ]
  },
  {
   "cell_type": "markdown",
   "metadata": {},
   "source": [
    "# Analyseer en Classificeer de Tweets\n",
    "We proberen automatisch de onderwerpen van de Tweets te herleiden en tweets te classificeren per onderwerp."
   ]
  },
  {
   "cell_type": "code",
   "execution_count": 1468,
   "metadata": {},
   "outputs": [],
   "source": [
    "def process_text(text, stem=False):\n",
    "    \"\"\" Tokenize text and stem words removing punctuation \"\"\"\n",
    "    sp = {ch : None for ch in string.punctuation}\n",
    "    ttb = str.maketrans(sp)\n",
    "    text = text.translate(ttb)\n",
    "    tknzr = TweetTokenizer()\n",
    "    tokens = tknzr.tokenize(text)\n",
    " \n",
    "    if stem:\n",
    "        stemmer = SnowballStemmer(\"dutch\")\n",
    "        tokens = [stemmer.stem(t) for t in tokens if len(t) > 1]\n",
    " \n",
    "    return tokens"
   ]
  },
  {
   "cell_type": "code",
   "execution_count": 1469,
   "metadata": {},
   "outputs": [],
   "source": [
    " def cluster_texts(texts, clusters=3):\n",
    "    \"\"\" Transform texts to Tf-Idf coordinates and cluster texts using K-Means \"\"\"\n",
    "    tw_stopwords = stopwords.words('dutch')\n",
    "    tw_stopwords.extend(['rt'])\n",
    "    vectorizer = TfidfVectorizer(tokenizer=process_text,\n",
    "                                 stop_words=stopwords.words('dutch'),\n",
    "                                 strip_accents='unicode',\n",
    "                                 max_df=0.5,\n",
    "                                 min_df=0.1,\n",
    "                                 lowercase=True)\n",
    " \n",
    "    tfidf_model = vectorizer.fit_transform(texts)\n",
    "#     cl_model = KMeans(init='k-means++', n_clusters=clusters, n_jobs=-1)\n",
    "    cl_model = SpectralClustering(n_clusters=clusters, n_jobs=-1)\n",
    "    cl_model.fit(tfidf_model)\n",
    "    tw_clusters = cl_model.fit_predict(tfidf_model)\n",
    " \n",
    "    clustering = collections.defaultdict(list)\n",
    " \n",
    "    for idx, label in enumerate(cl_model.labels_):\n",
    "        clustering[label].append(idx)\n",
    " \n",
    "    return (clustering, tw_clusters)"
   ]
  },
  {
   "cell_type": "code",
   "execution_count": 1470,
   "metadata": {},
   "outputs": [
    {
     "name": "stdout",
     "output_type": "stream",
     "text": [
      "0 rt dkyona weten we al waar die oorbellen anouk vandaan komen tvoh dtv 😍\n",
      "2 falloutboy btstwt sisijswnajnsnw this is amazing\n",
      "2 arbeiten  oldenburg alexandersfeld httpstcojwfwhtlquc\n",
      "2 rtl7darts we zitten er klaar voor httpstcoqda1oiv6qt\n",
      "2 nu lijkt gordongaattrouwen net op widm met al die hints over de vlinder lol\n",
      "0 rt fdnieuws winnaar van de fdgazellen oryx de prijs voor de indrukwekkendste groeiprestatie is messagebird… \n",
      "2 iamestellejanse gewerkt ja\n",
      "2 jpaternotte man maak je toch niet zo druk\n",
      "2 wil je op een laagdrempelige manier met brugklassers in gesprek over verliefd zijn pesten en sexting gebruik dan… httpstcoxgvcbcii1z\n"
     ]
    }
   ],
   "source": [
    "(clusters, tw_clusters) = cluster_texts(df.loc[:,'tweet'], 7)\n",
    "# pprint.pprint(dict(clusters))\n",
    "# clusters\n",
    "for idx in range(1,10):\n",
    "    print(tw_clusters[idx], df.loc[idx,'tweet'])"
   ]
  },
  {
   "cell_type": "code",
   "execution_count": 1471,
   "metadata": {},
   "outputs": [],
   "source": [
    "dictionary = corpora.Dictionary(df.stoptweets.tolist())\n",
    "corpus = [dictionary.doc2bow(tw) for tw in df.stoptweets.tolist()]"
   ]
  },
  {
   "cell_type": "code",
   "execution_count": 1472,
   "metadata": {},
   "outputs": [],
   "source": [
    "ldamodel = gensim.models.ldamodel.LdaModel(corpus, num_topics=80, id2word = dictionary, passes=20)"
   ]
  },
  {
   "cell_type": "code",
   "execution_count": 1473,
   "metadata": {},
   "outputs": [
    {
     "name": "stdout",
     "output_type": "stream",
     "text": [
      "[(0, '0.021*\"18\" + 0.020*\"zin\" + 0.018*\"jaar\"'),\n",
      " (1, '0.027*\"moeten\" + 0.023*\"mn\" + 0.020*\"gemaakt\"'),\n",
      " (2, '0.052*\"heel\" + 0.037*\"nee\" + 0.024*\"goede\"'),\n",
      " (3, '0.017*\"kerst\" + 0.016*\"verandering\" + 0.016*\"kom\"'),\n",
      " (4, '0.031*\"maakt\" + 0.029*\"wilde\" + 0.025*\"fvdemocratie\"'),\n",
      " (5, '0.012*\"to\" + 0.012*\"the\" + 0.011*\"snape\"'),\n",
      " (6, '0.075*\"leuk\" + 0.074*\"vind\" + 0.070*\"goed\"'),\n",
      " (7, '0.028*\"nos\" + 0.020*\"ging\" + 0.020*\"examen\"'),\n",
      " (8, '0.042*\"haha\" + 0.033*\"nieuws\" + 0.032*\"open\"'),\n",
      " (9, '0.023*\"zoek\" + 0.020*\"finale\" + 0.019*\"soundos\"'),\n",
      " (10, '0.026*\"beetje\" + 0.016*\"mede\" + 0.015*\"moeder\"'),\n",
      " (11, '0.034*\"lekker\" + 0.017*\"loop\" + 0.016*\"slot\"'),\n",
      " (12, '0.104*\"ajax\" + 0.047*\"echt\" + 0.038*\"graag\"'),\n",
      " (13, '0.034*\"doe\" + 0.021*\"leuke\" + 0.020*\"paar\"'),\n",
      " (14, '0.037*\"denk\" + 0.032*\"kijk\" + 0.016*\"alle\"'),\n",
      " (15, '0.022*\"steracteur\" + 0.018*\"kerstmarkt\" + 0.017*\"nederlandse\"'),\n",
      " (16, '0.034*\"doet\" + 0.033*\"even\" + 0.018*\"eindelijk\"'),\n",
      " (17, '0.047*\"alleen\" + 0.030*\"klopt\" + 0.027*\"kijken\"'),\n",
      " (18, '0.034*\"grote\" + 0.021*\"30\" + 0.019*\"2017\"'),\n",
      " (19, '0.021*\"hahaha\" + 0.013*\"how\" + 0.013*\"nos\"'),\n",
      " (20, '0.034*\"laat\" + 0.017*\"vrienden\" + 0.016*\"domme\"'),\n",
      " (21, '0.027*\"lees\" + 0.016*\"geworden\" + 0.016*\"ok\"'),\n",
      " (22, '0.016*\"zoals\" + 0.014*\"water\" + 0.014*\"fout\"'),\n",
      " (23, '0.051*\"staat\" + 0.040*\"eerste\" + 0.023*\"binnen\"'),\n",
      " (24, '0.032*\"oh\" + 0.017*\"volg\" + 0.015*\"live\"'),\n",
      " (25, '0.046*\"tussen\" + 0.038*\"hard\" + 0.032*\"foto\"'),\n",
      " (26, '0.040*\"mooie\" + 0.023*\"8p\" + 0.014*\"bekijk\"'),\n",
      " (27, '0.077*\"mooi\" + 0.016*\"ter\" + 0.014*\"belangrijk\"'),\n",
      " (28, '0.045*\"bent\" + 0.018*\"antwoord\" + 0.016*\"boos\"'),\n",
      " (29, '0.031*\"hoor\" + 0.028*\"mee\" + 0.022*\"politiek\"'),\n",
      " (30, '0.031*\"joostniemoller\" + 0.026*\"zie\" + 0.023*\"respect\"'),\n",
      " (31, '0.025*\"lief\" + 0.020*\"loopt\" + 0.015*\"mama\"'),\n",
      " (32, '0.020*\"slapen\" + 0.017*\"eten\" + 0.014*\"bang\"'),\n",
      " (33, '0.032*\"ajaexc\" + 0.023*\"21\" + 0.012*\"brengen\"'),\n",
      " (34, '0.019*\"laten\" + 0.015*\"motie\" + 0.012*\"enige\"'),\n",
      " (35, '0.019*\"bah\" + 0.017*\"disney\" + 0.016*\"sneeuw\"'),\n",
      " (36, '0.042*\"kinderen\" + 0.028*\"geef\" + 0.024*\"zeker\"'),\n",
      " (37, '0.038*\"nou\" + 0.019*\"spreken\" + 0.019*\"littlemix\"'),\n",
      " (38, '0.026*\"elkaar\" + 0.019*\"raad\" + 0.018*\"snel\"'),\n",
      " (39, '0.029*\"vol\" + 0.013*\"zojuist\" + 0.012*\"jaar\"'),\n",
      " (40, '0.061*\"omg\" + 0.029*\"vinden\" + 0.024*\"13\"'),\n",
      " (41, '0.026*\"hè\" + 0.017*\"straat\" + 0.016*\"yes\"'),\n",
      " (42, '0.038*\"willen\" + 0.021*\"graag\" + 0.015*\"mocht\"'),\n",
      " (43, '0.020*\"16\" + 0.019*\"kamer\" + 0.017*\"zaterdag\"'),\n",
      " (44, '0.032*\"2017\" + 0.030*\"ooit\" + 0.018*\"rajbaddhan\"'),\n",
      " (45, '0.026*\"joods\" + 0.024*\"soms\" + 0.021*\"restaurant\"'),\n",
      " (46, '0.033*\"dag\" + 0.024*\"nieuw\" + 0.021*\"vvd\"'),\n",
      " (47, '0.038*\"terug\" + 0.027*\"shell\" + 0.019*\"bijna\"'),\n",
      " (48, '0.028*\"geven\" + 0.021*\"meneer\" + 0.017*\"ster\"'),\n",
      " (49, '0.021*\"zitten\" + 0.019*\"drugs\" + 0.019*\"war\"'),\n",
      " (50, '0.054*\"nooit\" + 0.025*\"auto\" + 0.019*\"sommige\"'),\n",
      " (51, '0.024*\"gaat\" + 0.020*\"rtl\" + 0.019*\"rogier\"'),\n",
      " (52, '0.023*\"jaren\" + 0.019*\"12\" + 0.016*\"hahahaha\"'),\n",
      " (53, '0.031*\"video\" + 0.019*\"advocaat\" + 0.016*\"toegevoegd\"'),\n",
      " (54, '0.043*\"waarom\" + 0.036*\"mensen\" + 0.023*\"mogen\"'),\n",
      " (55, '0.047*\"keer\" + 0.018*\"dank\" + 0.016*\"seizoen\"'),\n",
      " (56, '0.110*\"jaar\" + 0.023*\"volgend\" + 0.017*\"gelijk\"'),\n",
      " (57, '0.017*\"a1\" + 0.017*\"plan\" + 0.017*\"wa\"'),\n",
      " (58, '0.048*\"top\" + 0.020*\"telegraaf\" + 0.020*\"team\"'),\n",
      " (59, '0.024*\"laatste\" + 0.017*\"cdavandaag\" + 0.016*\"zit\"'),\n",
      " (60, '0.022*\"partij\" + 0.019*\"03\" + 0.015*\"feb\"'),\n",
      " (61, '0.024*\"samen\" + 0.021*\"iedereen\" + 0.012*\"project\"'),\n",
      " (62, '0.031*\"zeg\" + 0.023*\"jangajentaan\" + 0.020*\"at\"'),\n",
      " (63, '0.053*\"ech\" + 0.024*\"2018\" + 0.021*\"jouw\"'),\n",
      " (64, '0.023*\"afgelopen\" + 0.019*\"last\" + 0.019*\"he\"'),\n",
      " (65, '0.024*\"hebt\" + 0.018*\"probleem\" + 0.014*\"blijkbaar\"'),\n",
      " (66, '0.094*\"star\" + 0.080*\"wars\" + 0.010*\"komt\"'),\n",
      " (67, '0.026*\"vraag\" + 0.022*\"naam\" + 0.017*\"bestaat\"'),\n",
      " (68, '0.089*\"gaat\" + 0.023*\"fijn\" + 0.020*\"zegt\"'),\n",
      " (69, '0.025*\"leven\" + 0.021*\"eindhoven\" + 0.015*\"hot\"'),\n",
      " (70, '0.052*\"best\" + 0.032*\"tijd\" + 0.032*\"amsterdam\"'),\n",
      " (71, '0.035*\"volgens\" + 0.019*\"kaart\" + 0.013*\"nee\"'),\n",
      " (72, '0.025*\"vacature\" + 0.020*\"krijg\" + 0.015*\"manier\"'),\n",
      " (73, '0.053*\"af\" + 0.020*\"prachtig\" + 0.017*\"kaj\"'),\n",
      " (74, '0.021*\"rutte\" + 0.020*\"mensen\" + 0.018*\"gaan\"'),\n",
      " (75, '0.033*\"erg\" + 0.022*\"baudet\" + 0.019*\"thierrybaudet\"'),\n",
      " (76, '0.043*\"mag\" + 0.028*\"komt\" + 0.022*\"collega\"'),\n",
      " (77, '0.033*\"krijgen\" + 0.017*\"net\" + 0.015*\"nl\"'),\n",
      " (78, '0.026*\"ander\" + 0.022*\"gelukkig\" + 0.021*\"vrouw\"'),\n",
      " (79, '0.050*\"waar\" + 0.020*\"heerlijk\" + 0.018*\"the\"')]\n"
     ]
    }
   ],
   "source": [
    "pprint(ldamodel.print_topics(num_topics=80, num_words=3))"
   ]
  },
  {
   "cell_type": "code",
   "execution_count": 1474,
   "metadata": {},
   "outputs": [],
   "source": [
    "lda_corpus = ldamodel[corpus]"
   ]
  },
  {
   "cell_type": "code",
   "execution_count": 1475,
   "metadata": {},
   "outputs": [
    {
     "data": {
      "text/plain": [
       "([(53, 0.87656249999999958)],\n",
       " ['video',\n",
       "  'toegevoegd',\n",
       "  'youtubeafspeellijst',\n",
       "  '23f4beyct',\n",
       "  'angel',\n",
       "  'alanis',\n",
       "  'tube'])"
      ]
     },
     "execution_count": 1475,
     "metadata": {},
     "output_type": "execute_result"
    }
   ],
   "source": [
    "lda_corpus[0], df.stoptweets[0]"
   ]
  },
  {
   "cell_type": "code",
   "execution_count": 1476,
   "metadata": {},
   "outputs": [
    {
     "name": "stdout",
     "output_type": "stream",
     "text": [
      "get_document_topics [(53, 0.87656249999999958)]\n"
     ]
    }
   ],
   "source": [
    "bow = dictionary.doc2bow(df.stoptweets[0])\n",
    "print(\"get_document_topics\", ldamodel.get_document_topics(bow))"
   ]
  },
  {
   "cell_type": "code",
   "execution_count": 1477,
   "metadata": {},
   "outputs": [
    {
     "name": "stdout",
     "output_type": "stream",
     "text": [
      "[(0, 0.29217062390921394), (1, 0.3299233647922937), (2, 0.33831928824936935), (3, 0.435908707731573), (4, 0.34824955801614743), (5, 0.435908707731573), (6, 0.435908707731573)]\n"
     ]
    }
   ],
   "source": [
    "tfidf = TfidfModel(corpus)\n",
    "corpus_tfidf = tfidf[corpus]\n",
    "print(tfidf[corpus[0]])"
   ]
  },
  {
   "cell_type": "code",
   "execution_count": 1478,
   "metadata": {},
   "outputs": [
    {
     "ename": "NameError",
     "evalue": "name 'corpus_vectors' is not defined",
     "output_type": "error",
     "traceback": [
      "\u001b[0;31m---------------------------------------------------------------------------\u001b[0m",
      "\u001b[0;31mNameError\u001b[0m                                 Traceback (most recent call last)",
      "\u001b[0;32m<ipython-input-1478-9cd6723a173e>\u001b[0m in \u001b[0;36m<module>\u001b[0;34m()\u001b[0m\n\u001b[1;32m      1\u001b[0m \u001b[0mclusterer\u001b[0m \u001b[0;34m=\u001b[0m \u001b[0mKMeansClusterer\u001b[0m\u001b[0;34m(\u001b[0m\u001b[0;36m7\u001b[0m\u001b[0;34m,\u001b[0m \u001b[0mcosine_distance\u001b[0m\u001b[0;34m)\u001b[0m\u001b[0;34m\u001b[0m\u001b[0m\n\u001b[0;32m----> 2\u001b[0;31m \u001b[0mclusterer\u001b[0m\u001b[0;34m.\u001b[0m\u001b[0mcluster\u001b[0m\u001b[0;34m(\u001b[0m\u001b[0mcorpus_vectors\u001b[0m\u001b[0;34m,\u001b[0m \u001b[0;32mTrue\u001b[0m\u001b[0;34m)\u001b[0m\u001b[0;34m\u001b[0m\u001b[0m\n\u001b[0m\u001b[1;32m      3\u001b[0m \u001b[0mprint\u001b[0m\u001b[0;34m(\u001b[0m\u001b[0mclusterer\u001b[0m\u001b[0;34m.\u001b[0m\u001b[0mclassify\u001b[0m\u001b[0;34m(\u001b[0m\u001b[0marray\u001b[0m\u001b[0;34m(\u001b[0m\u001b[0;34m[\u001b[0m\u001b[0;36m3\u001b[0m\u001b[0;34m,\u001b[0m \u001b[0;36m3\u001b[0m\u001b[0;34m]\u001b[0m\u001b[0;34m)\u001b[0m\u001b[0;34m)\u001b[0m\u001b[0;34m)\u001b[0m\u001b[0;34m\u001b[0m\u001b[0m\n",
      "\u001b[0;31mNameError\u001b[0m: name 'corpus_vectors' is not defined"
     ]
    }
   ],
   "source": [
    "clusterer = KMeansClusterer(7, cosine_distance) \n",
    "clusterer.cluster(corpus_vectors, True)\n",
    "print(clusterer.classify(array([3, 3])))"
   ]
  }
 ],
 "metadata": {
  "kernelspec": {
   "display_name": "Python 3",
   "language": "python",
   "name": "python3"
  },
  "language_info": {
   "codemirror_mode": {
    "name": "ipython",
    "version": 3
   },
   "file_extension": ".py",
   "mimetype": "text/x-python",
   "name": "python",
   "nbconvert_exporter": "python",
   "pygments_lexer": "ipython3",
   "version": "3.6.3"
  }
 },
 "nbformat": 4,
 "nbformat_minor": 2
}
