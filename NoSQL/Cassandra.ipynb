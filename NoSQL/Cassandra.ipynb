{
 "cells": [
  {
   "cell_type": "code",
   "execution_count": 489,
   "metadata": {},
   "outputs": [
    {
     "name": "stderr",
     "output_type": "stream",
     "text": [
      "/Users/Nx/anaconda/envs/py3env/lib/python3.6/site-packages/ipykernel_launcher.py:2: DeprecationWarning: The 'warn' method is deprecated, use 'warning' instead\n",
      "  \n"
     ]
    }
   ],
   "source": [
    "from cassandra.cluster import Cluster\n",
    "cluster = Cluster(['localhost'],port=32769)"
   ]
  },
  {
   "cell_type": "code",
   "execution_count": 490,
   "metadata": {},
   "outputs": [
    {
     "data": {
      "text/plain": [
       "<cassandra.cluster.Session at 0x1a25463710>"
      ]
     },
     "execution_count": 490,
     "metadata": {},
     "output_type": "execute_result"
    }
   ],
   "source": [
    "session = cluster.connect()\n",
    "session"
   ]
  },
  {
   "cell_type": "code",
   "execution_count": 491,
   "metadata": {},
   "outputs": [],
   "source": [
    "session.set_keyspace('twitter')"
   ]
  },
  {
   "cell_type": "code",
   "execution_count": 492,
   "metadata": {},
   "outputs": [],
   "source": [
    "rows = session.execute('SELECT * FROM twitter.rawtweets')"
   ]
  },
  {
   "cell_type": "code",
   "execution_count": 493,
   "metadata": {},
   "outputs": [
    {
     "name": "stdout",
     "output_type": "stream",
     "text": [
      "[nltk_data] Downloading package stopwords to /Users/Nx/nltk_data...\n",
      "[nltk_data]   Package stopwords is already up-to-date!\n"
     ]
    },
    {
     "data": {
      "text/plain": [
       "True"
      ]
     },
     "execution_count": 493,
     "metadata": {},
     "output_type": "execute_result"
    }
   ],
   "source": [
    "import pandas as pd\n",
    "import numpy as np\n",
    "import string\n",
    "import re\n",
    "import nltk\n",
    "import seaborn as sns\n",
    "from nltk.tokenize import TweetTokenizer\n",
    "from nltk.corpus import stopwords\n",
    "from nltk.stem.snowball import SnowballStemmer\n",
    "nltk.download('stopwords')"
   ]
  },
  {
   "cell_type": "code",
   "execution_count": 494,
   "metadata": {},
   "outputs": [],
   "source": [
    "def to_TF(tweets):\n",
    "    import pandas as pd\n",
    "    import nltk\n",
    "    tweets = [w for l in tweets for w in l]\n",
    "\n",
    "    ## Compute the frequency distribution of the words as a dictionary\n",
    "    fdist = nltk.FreqDist(tweets) \n",
    "    ## Convert the dictionary to a dataframe contaning the words and\n",
    "    ## counts indexed by the words, and then take the transpose.\n",
    "    count_frame = pd.DataFrame(fdist, index =[0]).T\n",
    "    count_frame.columns = ['Count']\n",
    "    return(count_frame.sort_values('Count', ascending = False))"
   ]
  },
  {
   "cell_type": "code",
   "execution_count": 495,
   "metadata": {},
   "outputs": [],
   "source": [
    "def wf_bar(wf):\n",
    "    import matplotlib.pyplot as plt\n",
    "    ## Barplot of the most fequent words.   \n",
    "    fig = plt.figure(figsize=(12, 9))\n",
    "    ax = fig.gca()\n",
    "    ax.invert_yaxis()\n",
    "    wf['Count'][:30].plot(kind = 'barh', ax = ax)\n",
    "    ax.set_title('Frequency of the most common words')\n",
    "    ax.set_ylabel('Word')\n",
    "    ax.set_xlabel('Frequency of word')\n",
    "    ax.invert_yaxis()\n",
    "    plt.show()\n",
    "    return 'Done'"
   ]
  },
  {
   "cell_type": "code",
   "execution_count": 496,
   "metadata": {},
   "outputs": [],
   "source": [
    "query = 'SELECT * FROM twitter.rawtweets lIMIT 100000'\n",
    "df = pd.DataFrame(list(session.execute(query)))"
   ]
  },
  {
   "cell_type": "code",
   "execution_count": 497,
   "metadata": {},
   "outputs": [],
   "source": [
    "sp = {ch : None for ch in string.punctuation}\n",
    "ttb = str.maketrans(sp)\n",
    "# ttb"
   ]
  },
  {
   "cell_type": "code",
   "execution_count": 498,
   "metadata": {},
   "outputs": [],
   "source": [
    "stop_dutch_words = stopwords.words('dutch')"
   ]
  },
  {
   "cell_type": "code",
   "execution_count": 499,
   "metadata": {},
   "outputs": [],
   "source": [
    "df.tweet = df.tweet.str.lower()\n",
    "df.tweet = df.tweet.str.translate(ttb)\n",
    "\n",
    "tknzr = TweetTokenizer()\n",
    "df.tweet = df.tweet.apply(lambda tw : tknzr.tokenize(tw))\n",
    "\n",
    "stop_dutch_words = stopwords.words('dutch')\n",
    "stop_dutch_words.extend(['rt','...'])\n",
    "df.tweet = df.tweet.apply(lambda tw: [w for w in tw if (w.lower() not in stop_dutch_words) and (len(w) > 1)])\n",
    "\n",
    "stemmer = SnowballStemmer(\"dutch\")\n",
    "df['cleantweets'] = df.tweet.apply(lambda tw: [stemmer.stem(w) for w in tw if 'http' not in w.lower()])"
   ]
  },
  {
   "cell_type": "code",
   "execution_count": 500,
   "metadata": {},
   "outputs": [
    {
     "data": {
      "text/html": [
       "<div>\n",
       "<style scoped>\n",
       "    .dataframe tbody tr th:only-of-type {\n",
       "        vertical-align: middle;\n",
       "    }\n",
       "\n",
       "    .dataframe tbody tr th {\n",
       "        vertical-align: top;\n",
       "    }\n",
       "\n",
       "    .dataframe thead th {\n",
       "        text-align: right;\n",
       "    }\n",
       "</style>\n",
       "<table border=\"1\" class=\"dataframe\">\n",
       "  <thead>\n",
       "    <tr style=\"text-align: right;\">\n",
       "      <th></th>\n",
       "      <th>user</th>\n",
       "      <th>creationdate</th>\n",
       "      <th>geolocation</th>\n",
       "      <th>tweet</th>\n",
       "      <th>cleantweets</th>\n",
       "    </tr>\n",
       "  </thead>\n",
       "  <tbody>\n",
       "    <tr>\n",
       "      <th>0</th>\n",
       "      <td>Blauhelm</td>\n",
       "      <td>2017-12-14T13:58:44+0100</td>\n",
       "      <td>GeoLocation{latitude=53.18048534, longitude=8....</td>\n",
       "      <td>[arbeiten, oldenburg, alexandersfeld, httpstco...</td>\n",
       "      <td>[arbeit, oldenburg, alexandersfeld]</td>\n",
       "    </tr>\n",
       "    <tr>\n",
       "      <th>1</th>\n",
       "      <td>RabiaatRechts</td>\n",
       "      <td>2017-12-14T13:28:56+0100</td>\n",
       "      <td></td>\n",
       "      <td>[jpaternotte, cthijm, mensen, zoiets, opstelle...</td>\n",
       "      <td>[jpaternot, cthijm, mens, zoiet, opstell, zull...</td>\n",
       "    </tr>\n",
       "    <tr>\n",
       "      <th>2</th>\n",
       "      <td>Ambtenaar 2.0</td>\n",
       "      <td>2017-12-14T13:36:00+0100</td>\n",
       "      <td></td>\n",
       "      <td>[carmennolten, nieuwe, blog, online, platformo...</td>\n",
       "      <td>[carmennolt, nieuw, blog, onlin, platformo, ta...</td>\n",
       "    </tr>\n",
       "    <tr>\n",
       "      <th>3</th>\n",
       "      <td>PRINT</td>\n",
       "      <td>2017-12-14T13:17:00+0100</td>\n",
       "      <td></td>\n",
       "      <td>[patrickloonstra, patrick, even, mailen, pauli...</td>\n",
       "      <td>[patrickloonstra, patrick, even, mail, paulina...</td>\n",
       "    </tr>\n",
       "    <tr>\n",
       "      <th>4</th>\n",
       "      <td>Trea Alers</td>\n",
       "      <td>2017-12-14T14:19:19+0100</td>\n",
       "      <td></td>\n",
       "      <td>[ligt, jaaroverzichten, lijken, ieder, jaar, v...</td>\n",
       "      <td>[ligt, jaaroverzicht, lijk, ieder, jar, vroege...</td>\n",
       "    </tr>\n",
       "  </tbody>\n",
       "</table>\n",
       "</div>"
      ],
      "text/plain": [
       "            user              creationdate  \\\n",
       "0       Blauhelm  2017-12-14T13:58:44+0100   \n",
       "1  RabiaatRechts  2017-12-14T13:28:56+0100   \n",
       "2  Ambtenaar 2.0  2017-12-14T13:36:00+0100   \n",
       "3          PRINT  2017-12-14T13:17:00+0100   \n",
       "4     Trea Alers  2017-12-14T14:19:19+0100   \n",
       "\n",
       "                                         geolocation  \\\n",
       "0  GeoLocation{latitude=53.18048534, longitude=8....   \n",
       "1                                                      \n",
       "2                                                      \n",
       "3                                                      \n",
       "4                                                      \n",
       "\n",
       "                                               tweet  \\\n",
       "0  [arbeiten, oldenburg, alexandersfeld, httpstco...   \n",
       "1  [jpaternotte, cthijm, mensen, zoiets, opstelle...   \n",
       "2  [carmennolten, nieuwe, blog, online, platformo...   \n",
       "3  [patrickloonstra, patrick, even, mailen, pauli...   \n",
       "4  [ligt, jaaroverzichten, lijken, ieder, jaar, v...   \n",
       "\n",
       "                                         cleantweets  \n",
       "0                [arbeit, oldenburg, alexandersfeld]  \n",
       "1  [jpaternot, cthijm, mens, zoiet, opstell, zull...  \n",
       "2  [carmennolt, nieuw, blog, onlin, platformo, ta...  \n",
       "3  [patrickloonstra, patrick, even, mail, paulina...  \n",
       "4  [ligt, jaaroverzicht, lijk, ieder, jar, vroege...  "
      ]
     },
     "execution_count": 500,
     "metadata": {},
     "output_type": "execute_result"
    }
   ],
   "source": [
    "df.head()"
   ]
  },
  {
   "cell_type": "code",
   "execution_count": 501,
   "metadata": {},
   "outputs": [
    {
     "data": {
      "image/png": "[encoded data removed]",
      "text/plain": [
       "<matplotlib.figure.Figure at 0x1a24fd0160>"
      ]
     },
     "metadata": {},
     "output_type": "display_data"
    },
    {
     "data": {
      "text/plain": [
       "'Done'"
      ]
     },
     "execution_count": 501,
     "metadata": {},
     "output_type": "execute_result"
    }
   ],
   "source": [
    " wf_bar(to_TF(df.tweet))"
   ]
  },
  {
   "cell_type": "code",
   "execution_count": 502,
   "metadata": {},
   "outputs": [
    {
     "data": {
      "image/png": "[encoded data removed]",
      "text/plain": [
       "<matplotlib.figure.Figure at 0x1a25a249b0>"
      ]
     },
     "metadata": {},
     "output_type": "display_data"
    },
    {
     "data": {
      "text/plain": [
       "'Done'"
      ]
     },
     "execution_count": 502,
     "metadata": {},
     "output_type": "execute_result"
    }
   ],
   "source": [
    " wf_bar(to_TF(df.cleantweets))"
   ]
  },
  {
   "cell_type": "code",
   "execution_count": null,
   "metadata": {},
   "outputs": [],
   "source": []
  }
 ],
 "metadata": {
  "kernelspec": {
   "display_name": "Python 3",
   "language": "python",
   "name": "python3"
  },
  "language_info": {
   "codemirror_mode": {
    "name": "ipython",
    "version": 3
   },
   "file_extension": ".py",
   "mimetype": "text/x-python",
   "name": "python",
   "nbconvert_exporter": "python",
   "pygments_lexer": "ipython3",
   "version": "3.6.3"
  }
 },
 "nbformat": 4,
 "nbformat_minor": 2
}
