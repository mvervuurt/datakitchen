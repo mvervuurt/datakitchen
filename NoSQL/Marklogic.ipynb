{
 "cells": [
  {
   "cell_type": "markdown",
   "metadata": {},
   "source": [
    "# Koppeling en Verschonen van AAH Beleggingshypotheken met NNK Beleggingsfondsen"
   ]
  },
  {
   "cell_type": "code",
   "execution_count": 1,
   "metadata": {
    "hide_input": true
   },
   "outputs": [],
   "source": [
    "import re\n",
    "import bs4\n",
    "import time\n",
    "import plyfile\n",
    "import html5lib\n",
    "import multiprocessing\n",
    "import itertools\n",
    "\n",
    "import numpy as np\n",
    "import pandas as pd\n",
    "\n",
    "import seaborn as sns\n",
    "from scipy import misc\n",
    "import scipy.io.wavfile as wavfile\n",
    "\n",
    "import scipy\n",
    "from math import sqrt\n",
    "from scipy import stats\n",
    "from pprint import pprint\n",
    "from sklearn import tree\n",
    "from sklearn.svm import SVC\n",
    "from sklearn import manifold\n",
    "from tempfile import mkdtemp\n",
    "from textwrap import wrap\n",
    "from matplotlib import cm as cm\n",
    "\n",
    "import requests\n",
    "from requests import auth\n",
    "\n",
    "import sklearn.metrics as metrics\n",
    "from pandas.plotting import scatter_matrix\n",
    "from scipy.stats import randint as sp_randint\n",
    "from sklearn.pipeline import TransformerMixin\n",
    "from sklearn.metrics.scorer import make_scorer\n",
    "from sklearn.pipeline import Pipeline\n",
    "from sklearn.decomposition import PCA\n",
    "from sklearn.datasets import load_iris\n",
    "from sklearn.pipeline import make_pipeline\n",
    "from sklearn.preprocessing import Binarizer\n",
    "from sklearn.naive_bayes import MultinomialNB\n",
    "from sklearn.tree import DecisionTreeRegressor, DecisionTreeClassifier\n",
    "from sklearn.neighbors import KNeighborsClassifier\n",
    "from sklearn.feature_selection import RFECV, SelectFromModel, f_regression, SelectKBest\n",
    "from sklearn.ensemble import RandomForestClassifier, AdaBoostRegressor, AdaBoostClassifier\n",
    "from sklearn.dummy import DummyClassifier, DummyRegressor\n",
    "from sklearn.cluster import AgglomerativeClustering, KMeans\n",
    "from sklearn.feature_extraction.text import CountVectorizer\n",
    "from sklearn.linear_model import LinearRegression, LassoCV, RidgeCV, Lasso, Ridge\n",
    "from sklearn.preprocessing import MaxAbsScaler, MinMaxScaler, Normalizer, RobustScaler, StandardScaler\n",
    "from sklearn.metrics import recall_score, accuracy_score, confusion_matrix, roc_curve, roc_auc_score, mean_squared_error, accuracy_score\n",
    "from sklearn.model_selection import train_test_split, GridSearchCV, RandomizedSearchCV, cross_val_score, cross_validate, cross_val_predict, KFold, ShuffleSplit, StratifiedShuffleSplit\n",
    "\n",
    "import matplotlib\n",
    "import matplotlib.pyplot as plt\n",
    "from matplotlib import cm as cm\n",
    "from mpl_toolkits.mplot3d import Axes3D\n",
    "from pandas.plotting import parallel_coordinates, andrews_curves\n",
    "\n",
    "%matplotlib inline\n",
    "matplotlib.style.use('ggplot')\n",
    "\n",
    "pd.set_option('display.max_columns', None)"
   ]
  },
  {
   "cell_type": "markdown",
   "metadata": {},
   "source": [
    "## Connectie maken met Marklogic"
   ]
  },
  {
   "cell_type": "code",
   "execution_count": 3,
   "metadata": {},
   "outputs": [
    {
     "name": "stdout",
     "output_type": "stream",
     "text": [
      "{'host-default-list': {'meta': {'uri': '/manage/v2/hosts', 'current-time': '2018-02-08T11:35:19.914608+01:00', 'elapsed-time': {'units': 'sec', 'value': 0.845043}}, 'list-items': {'list-count': {'units': 'quantity', 'value': 1}, 'list-item': [{'uriref': '/manage/v2/hosts/macbook-pro-4.local', 'roleref': 'bootstrap', 'idref': '1796058674909374555', 'nameref': 'macbook-pro-4.local'}]}, 'related-views': {'related-view': [{'view-type': 'root', 'view-name': 'default', 'view-uri': '/manage/v2'}, {'view-type': 'list', 'view-name': 'metrics', 'view-uri': '/manage/v2/hosts?view=metrics'}, {'view-type': 'list', 'view-name': 'properties-schema', 'view-uri': '/manage/v2/hosts?view=properties-schema'}, {'view-type': 'list', 'view-name': 'schema', 'view-uri': '/manage/v2/hosts?view=schema'}, {'view-type': 'list', 'view-name': 'status', 'view-uri': '/manage/v2/hosts?view=status'}, {'view-type': 'list', 'view-name': 'health', 'view-uri': '/manage/v2?view=health&health-resource=host'}, {'view-type': 'list', 'view-name': 'docs', 'view-uri': 'http://docs.marklogic.com/REST/management/hosts'}]}}}\n"
     ]
    }
   ],
   "source": [
    "me = auth.HTTPDigestAuth(\"admin\", \"admin\")\n",
    "resp = requests.get(\"http://127.0.0.1:8002/manage/v2/hosts?format=json\", auth=me)\n",
    "print(resp.json())"
   ]
  },
  {
   "cell_type": "markdown",
   "metadata": {},
   "source": [
    "## Documenten opvoeren en opvragen in Marklogic"
   ]
  },
  {
   "cell_type": "code",
   "execution_count": 4,
   "metadata": {},
   "outputs": [
    {
     "data": {
      "text/plain": [
       "{'belegging': 'NNK', 'hypotheek': 'ABN-AMRO'}"
      ]
     },
     "execution_count": 4,
     "metadata": {},
     "output_type": "execute_result"
    }
   ],
   "source": [
    "obj = {'hypotheek':'ABN-AMRO', 'belegging':'NNK'};\n",
    "obj"
   ]
  },
  {
   "cell_type": "code",
   "execution_count": 6,
   "metadata": {},
   "outputs": [
    {
     "data": {
      "text/plain": [
       "'<one><child>The noble Brutus has told Caesar was ambitious</child></one>'"
      ]
     },
     "execution_count": 6,
     "metadata": {},
     "output_type": "execute_result"
    }
   ],
   "source": [
    "one = '<one><child>The noble Brutus has told Caesar was ambitious</child></one>'\n",
    "one"
   ]
  },
  {
   "cell_type": "code",
   "execution_count": 5,
   "metadata": {},
   "outputs": [
    {
     "data": {
      "text/plain": [
       "{'two': {'child': 'I come to bury Caesar, not to praise him.'}}"
      ]
     },
     "execution_count": 5,
     "metadata": {},
     "output_type": "execute_result"
    }
   ],
   "source": [
    "two = {\n",
    "  \"two\": {\n",
    "    \"child\": \"I come to bury Caesar, not to praise him.\"\n",
    "  }\n",
    "}\n",
    "two"
   ]
  },
  {
   "cell_type": "code",
   "execution_count": 10,
   "metadata": {},
   "outputs": [
    {
     "data": {
      "text/plain": [
       "<Response [400]>"
      ]
     },
     "execution_count": 10,
     "metadata": {},
     "output_type": "execute_result"
    }
   ],
   "source": [
    "requests.post('http://localhost:8000/LATEST/documents?uri=/xml/one.xml', data = one, auth=me)"
   ]
  },
  {
   "cell_type": "code",
   "execution_count": 11,
   "metadata": {},
   "outputs": [
    {
     "data": {
      "text/plain": [
       "<Response [400]>"
      ]
     },
     "execution_count": 11,
     "metadata": {},
     "output_type": "execute_result"
    }
   ],
   "source": [
    "requests.post('http://localhost:8000/LATEST/documents?uri=/json/two.json', data = two, auth=me)"
   ]
  },
  {
   "cell_type": "code",
   "execution_count": 29,
   "metadata": {},
   "outputs": [],
   "source": [
    "headers = {'Accept' : 'application/json'}"
   ]
  },
  {
   "cell_type": "code",
   "execution_count": 38,
   "metadata": {},
   "outputs": [],
   "source": [
    "r_json = requests.get('http://localhost:8000/LATEST/search?q=caesar', headers=headers, auth=me)"
   ]
  },
  {
   "cell_type": "code",
   "execution_count": 40,
   "metadata": {},
   "outputs": [
    {
     "data": {
      "text/plain": [
       "{'metrics': {'query-resolution-time': 'PT0.001951S',\n",
       "  'snippet-resolution-time': 'PT0.000582S',\n",
       "  'total-time': 'PT0.003212S'},\n",
       " 'page-length': 10,\n",
       " 'qtext': 'caesar',\n",
       " 'results': [{'confidence': 0,\n",
       "   'fitness': 0.2357023,\n",
       "   'format': 'xml',\n",
       "   'href': '/v1/documents?uri=%2Fxml%2Fone.xml',\n",
       "   'index': 1,\n",
       "   'matches': [{'match-text': ['The noble Brutus has told ',\n",
       "      {'highlight': 'Caesar'},\n",
       "      ' was ambitious'],\n",
       "     'path': 'fn:doc(\"/xml/one.xml\")/one/child'}],\n",
       "   'mimetype': 'application/xml',\n",
       "   'path': 'fn:doc(\"/xml/one.xml\")',\n",
       "   'score': 2048,\n",
       "   'uri': '/xml/one.xml'}],\n",
       " 'snippet-format': 'snippet',\n",
       " 'start': 1,\n",
       " 'total': 1}"
      ]
     },
     "execution_count": 40,
     "metadata": {},
     "output_type": "execute_result"
    }
   ],
   "source": [
    "r_json.json()"
   ]
  },
  {
   "cell_type": "code",
   "execution_count": 47,
   "metadata": {},
   "outputs": [],
   "source": [
    "r_doc = requests.get('http://localhost:8000/LATEST/documents?uri=/xml/one.xml', headers=headers, auth=me)"
   ]
  },
  {
   "cell_type": "code",
   "execution_count": 48,
   "metadata": {},
   "outputs": [
    {
     "data": {
      "text/plain": [
       "'<?xml version=\"1.0\" encoding=\"UTF-8\"?>\\n<one><child>The noble Brutus has told Caesar was ambitious</child></one>\\n'"
      ]
     },
     "execution_count": 48,
     "metadata": {},
     "output_type": "execute_result"
    }
   ],
   "source": [
    "r_doc.text"
   ]
  },
  {
   "cell_type": "code",
   "execution_count": null,
   "metadata": {},
   "outputs": [],
   "source": []
  }
 ],
 "metadata": {
  "kernelspec": {
   "display_name": "Python 3",
   "language": "python",
   "name": "python3"
  },
  "language_info": {
   "codemirror_mode": {
    "name": "ipython",
    "version": 3
   },
   "file_extension": ".py",
   "mimetype": "text/x-python",
   "name": "python",
   "nbconvert_exporter": "python",
   "pygments_lexer": "ipython3",
   "version": "3.6.3"
  }
 },
 "nbformat": 4,
 "nbformat_minor": 2
}
