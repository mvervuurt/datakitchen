{
 "cells": [
  {
   "cell_type": "markdown",
   "metadata": {},
   "source": [
    "# CRISP-M"
   ]
  },
  {
   "cell_type": "markdown",
   "metadata": {},
   "source": [
    "## Understand Business\n",
    "* important questions to ask...\n",
    "* What business problems can be solved with data driven approach?\n",
    "  * SQL & BI - Descriptive statistics\n",
    "  * Statistics \n",
    "    ** Inferential statistics\n",
    "    ** Hypothesis testing\n",
    "  * ML\n",
    "    * Classification\n",
    "    * Regression\n",
    "    * Clustering\n",
    "\n",
    "## Understand Data\n",
    "* Look for metadata of the data\n",
    "* Talk to business about meaning of data\n",
    "* Important questions to ask...\n",
    "* Look at data distribution:\n",
    "* Check data types\n",
    "* Histogram\n",
    "  * Barchart\n",
    "  * Boxplot\n",
    "  * Violinplot\n",
    "  * Kernel Density\n",
    "  * Scatterplot matrix\n",
    "\n",
    "## Prepare and Clean Data\n",
    "* Deal with missing values\n",
    "* check and remove repeated values\n",
    "* check and potentially remove outliers (real outliers or measurement errors?)\n",
    "* It may make sense to group categorical values in order to create less categories\n",
    "* Convert String features to categorical features\n",
    "* are labels imbalanced?\n",
    "  * correct for imbalance with C parameter?\n",
    "  * correct for imbalance by manipulating data and adding extra labels?\n",
    "* Scale numeric values (normalize or standardize)\n",
    "  * min-max scaling\n",
    "  * z-score scaling\n",
    "* Create indicator values (beware of columns with too many categorical values)\n",
    "* Check curse of dimensionality (data should grow exponentially with number of features)\n",
    "* Create feature vectors\n",
    "* Split training and test data set\n",
    "* Dimensionality Reduction (to reduce many features to less features that can be possibly visualized)\n",
    "* Encode variables (especially categorical variables)\n",
    "* Check data types and quality after transformation\n",
    "* get everything the right data type\n",
    "\n",
    "### Data Collection\n",
    "* How was data collected? In order to understand bias, measurement errors, input errors, etc.\n",
    "* Avoid curse of dimensionality (by gathering more samples than features): some ML Algorithms do not work properly because of the curse of dimensionality\n",
    "* Check data types and quality\n",
    "\n",
    "## Model\n",
    "* Cross validation\n",
    "* Regularize\n",
    "\n",
    "## Evaluate\n",
    "* Train. Score. Evaluate\n",
    "* Confusion matrix (TPR. TNR. etc)\n",
    "* Misclassification Error or Accuracy\n",
    "* Precision, Recall, F1-score\n",
    "* AUROC\n",
    "\n",
    "## Deploy"
   ]
  },
  {
   "cell_type": "markdown",
   "metadata": {},
   "source": [
    "# Design Thinking for Data Science"
   ]
  },
  {
   "cell_type": "code",
   "execution_count": null,
   "metadata": {
    "collapsed": true
   },
   "outputs": [],
   "source": []
  }
 ],
 "metadata": {
  "kernelspec": {
   "display_name": "Python 3",
   "language": "python",
   "name": "python3"
  },
  "language_info": {
   "codemirror_mode": {
    "name": "ipython",
    "version": 3
   },
   "file_extension": ".py",
   "mimetype": "text/x-python",
   "name": "python",
   "nbconvert_exporter": "python",
   "pygments_lexer": "ipython3",
   "version": "3.6.2"
  }
 },
 "nbformat": 4,
 "nbformat_minor": 2
}
