{
 "cells": [
  {
   "cell_type": "markdown",
   "metadata": {},
   "source": [
    "# CRISP-M"
   ]
  },
  {
   "cell_type": "markdown",
   "metadata": {},
   "source": [
    "## Understand Business\n",
    "* important questions to ask...\n",
    "\n",
    "## Understand Data\n",
    "* Look for metadata of the data\n",
    "* Talk to business about meaning of data\n",
    "* Important questions to ask...\n",
    "* Look at data distribution:\n",
    "* Histogram\n",
    "  * Barchart\n",
    "  * Boxplot\n",
    "  * Violinplot\n",
    "  * Kernel Density\n",
    "  * Scatterplot matrix\n",
    "\n",
    "## Prepare and Clean Data\n",
    "* Deal with missing values\n",
    "* check and remove repeated values\n",
    "* check and potentially remove outliers (real outliers or measurement errors?)\n",
    "* It may make sense to group categorical values in order to create less categories\n",
    "* Convert String features to categorical features\n",
    "* Perform statistical data transformations\n",
    "* are labels imbalanced?\n",
    "  * correct for imbalance with C parameter?\n",
    "  * correct for imbalance by manipulating data and adding extra labels?\n",
    "* Scale numeric values (normalize or standardize)\n",
    "  * min-max scaling\n",
    "  * z-score scaling\n",
    "* Create indicator values (beware of columns with too many categorical values)\n",
    "* Check curse of dimensionality (data should grow exponentially with number of features)\n",
    "* Create feature vectors\n",
    "* Split training and test data set\n",
    "\n",
    "\n",
    "\n",
    "Data Quality\n",
    "* Check coverage (e.g., whether all possible values are represented)\n",
    "* Check keys\n",
    "* Verify that the meanings of attributes and contained values fit together\n",
    "* Identify missing attributes and blank fields\n",
    "* Establish the meaning of missing data\n",
    "* Check for attributes with different values that have similar meanings (e.g., low fat, diet)\n",
    "* Check spelling and format of values (e.g., same value but sometimes beginning with a lower-case\n",
    "letter, sometimes with an upper-case letter)\n",
    "* Check for deviations, and decide whether a deviation is “noise” or may indicate an interesting phenomenon\n",
    "* Check for plausibility of values, (e.g., all fields having the same or nearly the same values)\n",
    "\n",
    "\n",
    "Data Selection\n",
    "* Collect appropriate additional data (from different sources—in-house as well as externally) Perform significance and correlation tests to decide if fields should be included\n",
    "* Reconsider Data Selection Criteria (See Task 2.1) in light of experiences of data quality and data exploration (i.e., may wish include/exclude other sets of data)\n",
    "* Reconsider Data Selection Criteria (See Task 2.1) in light of experience of modeling (i.e., model assessment may show that other datasets are needed)\n",
    "* Select different data subsets (e.g., different attributes, only data which meet certain conditions)\n",
    "\n",
    "* Consider the use of sampling techniques (e.g., A quick solution may involve splitting test and training datasets or reducing the size of the test dataset, if the tool cannot handle the full dataset. It may also be useful to have weighted samples to give different importance to different attributes or different values of the same attribute.)\n",
    "* Document the rationale for inclusion/exclusion\n",
    "* Check available techniques for sampling data\n",
    "\n",
    "\n",
    "## Model\n",
    "\n",
    "* Describe any characteristics of the current model that may be useful for the future\n",
    "* Record parameter settings used to produce the model\n",
    "* Give a detailed description of the model and any special features\n",
    "* For rule-based models, list the rules produced, plus any assessment of per-rule or overall model\n",
    "accuracy and coverage\n",
    "* For opaque models, list any technical information about the model (such as neural network topology)\n",
    "and any behavioral descriptions produced by the modeling process (such as accuracy or sensitivity)\n",
    "* Describe the model’s behavior and interpretation\n",
    "* State conclusions regarding patterns in the data (if any); sometimes the model reveals important facts\n",
    "about the data without a separate assessment process (e.g., that the output or conclusion is duplicated in one of the inputs)\n",
    "\n",
    "\n",
    "## Evaluate\n",
    "* Cross validation\n",
    "\n",
    "\n",
    "* Train. Score. Evaluate\n",
    "* Confusion matrix (TPR. TNR. etc)\n",
    "* Misclassification Error or Accuracy\n",
    "* Precision, Recall, F1-score\n",
    "* AUROC\n",
    "\n",
    "## Deploy"
   ]
  },
  {
   "cell_type": "markdown",
   "metadata": {},
   "source": [
    "# Design Thinking for Data Science"
   ]
  },
  {
   "cell_type": "code",
   "execution_count": null,
   "metadata": {
    "collapsed": true
   },
   "outputs": [],
   "source": []
  }
 ],
 "metadata": {
  "kernelspec": {
   "display_name": "Python 3",
   "language": "python",
   "name": "python3"
  },
  "language_info": {
   "codemirror_mode": {
    "name": "ipython",
    "version": 3
   },
   "file_extension": ".py",
   "mimetype": "text/x-python",
   "name": "python",
   "nbconvert_exporter": "python",
   "pygments_lexer": "ipython3",
   "version": "3.6.3"
  }
 },
 "nbformat": 4,
 "nbformat_minor": 2
}
