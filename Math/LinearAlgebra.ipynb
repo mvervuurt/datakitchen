{
 "cells": [
  {
   "cell_type": "markdown",
   "metadata": {},
   "source": [
    "# Linear Algebra"
   ]
  },
  {
   "cell_type": "code",
   "execution_count": 2,
   "metadata": {},
   "outputs": [],
   "source": [
    "import numpy as np"
   ]
  },
  {
   "cell_type": "markdown",
   "metadata": {},
   "source": [
    "** Vectors ** <br>\n",
    "Column or row vectors.\n",
    "\n",
    "$\\overrightarrow{v} = \\begin{bmatrix}\n",
    "  x_{1} \\\\\n",
    "  x_{2} \\\\\n",
    "  x_{3} \\\\\n",
    "\\end{bmatrix}$"
   ]
  },
  {
   "cell_type": "markdown",
   "metadata": {},
   "source": [
    "**Real coordinate space** <br>\n",
    "${\\rm I\\!R}^2$ Two dimensional real coordinate space: all possible real valued tuples. <br>\n",
    "${\\rm I\\!R}^3$ Three dimensional real coordinate space. <br>\n",
    "${\\rm I\\!R}^n$ n dimensional real coordinate space. <br>\n",
    "Tuples are ordered. <br>\n",
    "\n",
    "$\\overrightarrow{v} \\in {\\rm I\\!R}^3$\n",
    "\n",
    "** modulus size of vector **\n",
    "$||r||^2 =\\sum_{i}r_{i}^2$ \n",
    "\n",
    "** dot product of vectors **\n",
    "$r.s = \\sum_{i}r_{i}  s_{i}$\n",
    "\n",
    "** scalar projection of vector s onto r **\n",
    "  $\\frac{r.s}{||r||}$\n",
    "\n",
    "** vector projection of vector s onto r **\n",
    "  $r.\\frac{r.s}{r.r}$\n",
    "  \n",
    "** cosine rule and dot product ** <br>\n",
    "$c^2 = a^2 + b^2 - 2ab \\cos{\\theta}$ <br>\n",
    "$s.r = |r| |s|\\cos\\theta $\n",
    "\n",
    "<br>\n",
    "$A^{-1} A = A A^{-1} = I$\n",
    "<br>\n",
    "$Ar=s <=> A^{-1}Ar=A^{-1}s <=> r=A^{-1}s$"
   ]
  },
  {
   "cell_type": "markdown",
   "metadata": {},
   "source": [
    "** Gaussian / Normal distribution **"
   ]
  },
  {
   "cell_type": "markdown",
   "metadata": {},
   "source": [
    "** Sum of Squared Residuals ** <br>\n",
    "SSR(**p**) = $|f - g_{p}$|"
   ]
  },
  {
   "cell_type": "code",
   "execution_count": 3,
   "metadata": {},
   "outputs": [
    {
     "data": {
      "text/plain": [
       "0.0"
      ]
     },
     "execution_count": 3,
     "metadata": {},
     "output_type": "execute_result"
    }
   ],
   "source": [
    "#compute determinant using numpy\n",
    "np.linalg.det([[1,2],[1,2]])"
   ]
  },
  {
   "cell_type": "markdown",
   "metadata": {},
   "source": [
    "# Matrices"
   ]
  },
  {
   "cell_type": "markdown",
   "metadata": {},
   "source": [
    "A matrix is called singular if it has no inverse or its determinant is zero."
   ]
  },
  {
   "cell_type": "markdown",
   "metadata": {},
   "source": [
    "Reduce a matrix to **echelon form**."
   ]
  },
  {
   "cell_type": "markdown",
   "metadata": {},
   "source": [
    "Einstein Summation Convention: $C_{ik} = a_{ij}b_{jk}$"
   ]
  },
  {
   "cell_type": "markdown",
   "metadata": {},
   "source": [
    "changing basis: $Mbearsworld_{targetbasis} * V_{bearsworld} = V_{targetbasis}$ <br>\n",
    "inverse changing basis: $Mbearsworld_{targetbasis}^{-1} * V_{targetbasis} = V_{bearsworld}$ <br>\n",
    "When the basis are orthonormal the vector projection can be used instead."
   ]
  },
  {
   "cell_type": "markdown",
   "metadata": {},
   "source": [
    "Matrix Transformation: <br>\n",
    "$B^{-1} R B$ <br>\n",
    "$r'=A_{ij}r_{j}$ (einstein notation)<br>\n",
    "$R'_{ia}=A_{ij}R_{ja}$ (einstein notation)"
   ]
  },
  {
   "cell_type": "code",
   "execution_count": 7,
   "metadata": {},
   "outputs": [
    {
     "data": {
      "text/plain": [
       "array([[ 8.  ,  0.  , -3.  , 11.  ],\n",
       "       [ 1.75, -4.75,  1.  , -5.  ]])"
      ]
     },
     "execution_count": 7,
     "metadata": {},
     "output_type": "execute_result"
    }
   ],
   "source": [
    "# numpy matrix multiplication\n",
    "A = np.array([[1,0,1/3],[0,1,-1/4]])\n",
    "R = np.array([[5,-1,-3,7],[4,-4,1,-2],[9,3,0,12]])\n",
    "np.matmul(A,R)"
   ]
  },
  {
   "cell_type": "code",
   "execution_count": null,
   "metadata": {},
   "outputs": [],
   "source": []
  }
 ],
 "metadata": {
  "kernelspec": {
   "display_name": "Python 3",
   "language": "python",
   "name": "python3"
  },
  "language_info": {
   "codemirror_mode": {
    "name": "ipython",
    "version": 3
   },
   "file_extension": ".py",
   "mimetype": "text/x-python",
   "name": "python",
   "nbconvert_exporter": "python",
   "pygments_lexer": "ipython3",
   "version": "3.6.5"
  }
 },
 "nbformat": 4,
 "nbformat_minor": 2
}
