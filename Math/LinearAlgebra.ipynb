{
 "cells": [
  {
   "cell_type": "markdown",
   "metadata": {},
   "source": [
    "# Linear Algebra"
   ]
  },
  {
   "cell_type": "code",
   "execution_count": 47,
   "metadata": {},
   "outputs": [],
   "source": [
    "import numpy as np\n",
    "import math\n",
    "import numpy.linalg as la\n",
    "from numpy.linalg import norm, inv\n",
    "from numpy import transpose\n",
    "verySmallNumber = 1e-14 # That's 1×10⁻¹⁴ = 0.00000000000001"
   ]
  },
  {
   "cell_type": "markdown",
   "metadata": {},
   "source": [
    "** Vectors ** <br>\n",
    "Column or row vectors.\n",
    "\n",
    "$\\overrightarrow{v} = \\begin{bmatrix}\n",
    "  x_{1} \\\\\n",
    "  x_{2} \\\\\n",
    "  x_{3} \\\\\n",
    "\\end{bmatrix}$"
   ]
  },
  {
   "cell_type": "markdown",
   "metadata": {},
   "source": [
    "**Real coordinate space** <br>\n",
    "${\\rm I\\!R}^2$ Two dimensional real coordinate space: all possible real valued tuples. <br>\n",
    "${\\rm I\\!R}^3$ Three dimensional real coordinate space. <br>\n",
    "${\\rm I\\!R}^n$ n dimensional real coordinate space. <br>\n",
    "Tuples are ordered. <br>\n",
    "\n",
    "$\\overrightarrow{v} \\in {\\rm I\\!R}^3$\n",
    "\n",
    "** modulus size of vector **\n",
    "$||r||^2 =\\sum_{i}r_{i}^2$ \n",
    "\n",
    "** dot product of vectors **\n",
    "$r.s = \\sum_{i}r_{i}  s_{i}$\n",
    "\n",
    "** scalar projection of vector s onto r **\n",
    "  $\\frac{r.s}{||r||}$\n",
    "\n",
    "** vector projection of vector s onto r **\n",
    "  $r.\\frac{r.s}{r.r}$\n",
    "  \n",
    "** cosine rule and dot product ** <br>\n",
    "$c^2 = a^2 + b^2 - 2ab \\cos{\\theta}$ <br>\n",
    "$s.r = |r| |s|\\cos\\theta $"
   ]
  },
  {
   "cell_type": "markdown",
   "metadata": {},
   "source": [
    "** Gaussian / Normal distribution **"
   ]
  },
  {
   "cell_type": "markdown",
   "metadata": {},
   "source": [
    "** Sum of Squared Residuals ** <br>\n",
    "SSR(**p**) = $|f - g_{p}$|"
   ]
  },
  {
   "cell_type": "markdown",
   "metadata": {},
   "source": [
    "__Determinant__<br>\n",
    "Determinant is the scale of the space is what the determinant is. By dividing by the determinant, we're normalizing the space back to its original size.<br>\n",
    "$ A = \n",
    "\\begin{vmatrix}\n",
    "a & b \\\\\n",
    "c & d \\\\\n",
    "\\end{vmatrix}\n",
    "$ then $Det(A) = ad - cd$"
   ]
  },
  {
   "cell_type": "code",
   "execution_count": 8,
   "metadata": {},
   "outputs": [
    {
     "data": {
      "text/plain": [
       "0.0"
      ]
     },
     "execution_count": 8,
     "metadata": {},
     "output_type": "execute_result"
    }
   ],
   "source": [
    "#compute determinant using numpy\n",
    "np.linalg.det([[1,2],[1,2]])"
   ]
  },
  {
   "cell_type": "markdown",
   "metadata": {},
   "source": [
    "Linear independance basis vector set $v = \\{v_{1},v_{2}...v_{n}\\}$ by checking that determinant isn't zero or $\\neq 0$. Linear dependant then determinant is zero or = 0."
   ]
  },
  {
   "cell_type": "markdown",
   "metadata": {},
   "source": [
    "# Matrices\n",
    "** matrix inverse **\n",
    "<br>\n",
    "$A^{-1} A = A A^{-1} = I$\n",
    "<br>\n",
    "$Ar=s <=> A^{-1}Ar=A^{-1}s <=> r=A^{-1}s$"
   ]
  },
  {
   "cell_type": "markdown",
   "metadata": {},
   "source": [
    "A matrix is called singular if it has no inverse or its determinant is zero."
   ]
  },
  {
   "cell_type": "markdown",
   "metadata": {},
   "source": [
    "Reduce a matrix to **echelon form**."
   ]
  },
  {
   "cell_type": "markdown",
   "metadata": {},
   "source": [
    "Einstein Summation Convention: $C_{ik} = a_{ij}b_{jk}$"
   ]
  },
  {
   "cell_type": "markdown",
   "metadata": {},
   "source": [
    "changing basis: $Mbearsworld_{targetbasis} * V_{bearsworld} = V_{targetbasis}$ <br>\n",
    "$\\>\\>\\> or \\space [M_{bearsworld}]_{targetbasis} * [V]_{bearsworld} = [V]_{targetbasis}$<br><br>\n",
    "inverse changing basis: $Mbearsworld_{targetbasis}^{-1} * V_{targetbasis} = V_{bearsworld}$ <br>\n",
    "When the basis are orthonormal the vector projection can be used instead."
   ]
  },
  {
   "cell_type": "markdown",
   "metadata": {},
   "source": [
    "__Matrix Transformation__: <br>\n",
    "$B^{-1} R B$ <br>\n",
    "$r'=A_{ij}r_{j}$ (einstein notation)<br>\n",
    "$R'_{ia}=A_{ij}R_{ja}$ (einstein notation) <br>\n",
    "$r' = E T_{E} E^{-1} r$ E is orthonormal with $E^{T} = E^{-1}$"
   ]
  },
  {
   "cell_type": "code",
   "execution_count": 7,
   "metadata": {},
   "outputs": [
    {
     "data": {
      "text/plain": [
       "array([[ 8.  ,  0.  , -3.  , 11.  ],\n",
       "       [ 1.75, -4.75,  1.  , -5.  ]])"
      ]
     },
     "execution_count": 7,
     "metadata": {},
     "output_type": "execute_result"
    }
   ],
   "source": [
    "# numpy matrix multiplication\n",
    "A = np.array([[1,0,1/3],[0,1,-1/4]])\n",
    "R = np.array([[5,-1,-3,7],[4,-4,1,-2],[9,3,0,12]])\n",
    "np.matmul(A,R)"
   ]
  },
  {
   "cell_type": "markdown",
   "metadata": {},
   "source": [
    "When is A orthogonal $A^{T} = A^{-1} <=> A^{T}A=A^{-1}A=I$ <br>\n",
    "columns or rows of A are orthonormal. $a_{i} . a_{j} = 0 \\space when \\space i \\neq j$ <br>\n",
    "$ |A| = ± 1 $ <br> <br>\n",
    "Most convenient basis vector set: orthonormal basis vector set."
   ]
  },
  {
   "cell_type": "markdown",
   "metadata": {},
   "source": [
    "# Eigen Values / Vectors\n",
    "Finding characteric properties of a matrix transformation:\n",
    "* eigen vectors their direction did not change only their scale\n",
    "* eigen vectors laying on the same span after transformation\n",
    "<br>\n",
    "$Ax = \\lambda x$ <br>\n",
    "$(A-\\lambda I)x = 0$ <=> $det(A-\\lambda I)=0$ <br>\n",
    "$A = \\begin{vmatrix}\n",
    "a & b \\\\\n",
    "c & d\n",
    "\\end{vmatrix}$ then det($\\begin{vmatrix}\n",
    "a & b \\\\\n",
    "c & d\n",
    "\\end{vmatrix}$ - $\\begin{vmatrix}\n",
    "\\lambda & 0 \\\\\n",
    "0 & \\lambda\n",
    "\\end{vmatrix}$) = $\\lambda^2 - (a+d) \\lambda + ad - bc = 0$ <br>\n",
    "The eigen values are the solution the equation above!"
   ]
  },
  {
   "cell_type": "code",
   "execution_count": 29,
   "metadata": {},
   "outputs": [
    {
     "data": {
      "text/plain": [
       "array([4., 1.])"
      ]
     },
     "execution_count": 29,
     "metadata": {},
     "output_type": "execute_result"
    }
   ],
   "source": [
    "#numpy eigen values\n",
    "la.eigvals(np.array([[1,0],[-1,4]]))"
   ]
  },
  {
   "cell_type": "markdown",
   "metadata": {},
   "source": [
    "# Eigen Basis\n",
    "Diagonal matrices make things a lot easier when raising a matrix to certain power: \n",
    "$ T^n = \n",
    "\\begin{vmatrix}\n",
    "a^{n} & 0 & 0 \\\\\n",
    "0 & b^{n} & 0 \\\\\n",
    "0 & 0 & c^{n}\n",
    "\\end{vmatrix}\n",
    "$ <br>\n",
    "\n",
    "$ A =\n",
    "\\begin{vmatrix}\n",
    "2 & 0 \\\\\n",
    "0 & 2\n",
    "\\end{vmatrix}\n",
    "$ \n",
    "$\\space then \\space\n",
    "A^{3} = \n",
    "\\begin{vmatrix}\n",
    "8 & 0 \\\\\n",
    "0 & 8\n",
    "\\end{vmatrix}\n",
    "$"
   ]
  },
  {
   "cell_type": "markdown",
   "metadata": {},
   "source": [
    "Change to eigen basis; if column of our transformed matrix simply represents the new location of the transformed unit vectors. \n",
    "\n",
    "$ C = \n",
    "\\begin{vmatrix}\n",
    "x_{1} & x_{2} & x_{3} \\\\\n",
    ". & . & . \\\\\n",
    ". & . & .\n",
    "\\end{vmatrix}\n",
    "$ with $x_{1}, x_{2} \\space and \\space x_{3}$ being eigen vectors.\n",
    "\n",
    "$ D = \n",
    "\\begin{vmatrix}\n",
    "\\lambda_{1} & 0 & 0 \\\\\n",
    "0 & \\lambda_{2} & 0 \\\\\n",
    "0 & 0 & \\lambda_{3}\n",
    "\\end{vmatrix}\n",
    "$ with $\\lambda_{1}, \\lambda_{1} \\space and \\space \\lambda_{3}$ being eigen values."
   ]
  },
  {
   "cell_type": "markdown",
   "metadata": {},
   "source": [
    "With matrix transformation T find corresponding eigenbasis C en diagonal matrix with eigen values D, then the following holds:\n",
    "\n",
    "$T = CDC^{-1}$ <br>\n",
    "$D = C^{-1}TC$ <br>\n",
    "$T^n = CD^{n}C^{-1}$"
   ]
  },
  {
   "cell_type": "markdown",
   "metadata": {},
   "source": [
    "# Page Rank\n",
    "Vector r stores all ranks of internet pages: what's your rank, do you link to page A and how many outgoing links do you have in total. L is the link matrix. j to n are web pages. Rank of A is the sum of all the ranks of web pages linking to it weighted by specific link probability taken from matrix L.<br><br>\n",
    "$r_{A} = \\sum_{j=1}^n L_{A.j}r_{j}$ <br>\n",
    "This effectively searching for eigen values: <br>\n",
    "$r^{i+1} = Lr^{i}$ repeat using power method until converges! (simple formula) $<=> \\lambda r = Lr \\space with \\space \\lambda = 1 \\space <=> r = Lr$ <br>\n",
    "$r^{i+1} = d(Lr^{i}) + \\frac{1-d}{n}$ repeat using power method until converges! <br>"
   ]
  },
  {
   "cell_type": "markdown",
   "metadata": {},
   "source": [
    "# Numpy Code"
   ]
  },
  {
   "cell_type": "code",
   "execution_count": 28,
   "metadata": {},
   "outputs": [],
   "source": [
    "# Our function will go through the matrix replacing each row in order turning it into echelon form.\n",
    "# If at any point it fails because it can't put a 1 in the leading diagonal,\n",
    "# we will return the value True, otherwise, we will return False.\n",
    "# There is no need to edit this function.\n",
    "def isSingular(A) :\n",
    "    B = np.array(A, dtype=np.float_) # Make B as a copy of A, since we're going to alter it's values.\n",
    "    try:\n",
    "        fixRowZero(B)\n",
    "        fixRowOne(B)\n",
    "        fixRowTwo(B)\n",
    "        fixRowThree(B)\n",
    "    except MatrixIsSingular:\n",
    "        return True\n",
    "    return False\n",
    "\n",
    "# This next line defines our error flag. For when things go wrong if the matrix is singular.\n",
    "# There is no need to edit this line.\n",
    "class MatrixIsSingular(Exception): pass\n",
    "\n",
    "# For Row Zero, all we require is the first element is equal to 1.\n",
    "# We'll divide the row by the value of A[0, 0].\n",
    "# This will get us in trouble though if A[0, 0] equals 0, so first we'll test for that,\n",
    "# and if this is true, we'll add one of the lower rows to the first one before the division.\n",
    "# We'll repeat the test going down each lower row until we can do the division.\n",
    "# There is no need to edit this function.\n",
    "def fixRowZero(A) :\n",
    "    if A[0,0] == 0 :\n",
    "        A[0] = A[0] + A[1]\n",
    "    if A[0,0] == 0 :\n",
    "        A[0] = A[0] + A[2]\n",
    "    if A[0,0] == 0 :\n",
    "        A[0] = A[0] + A[3]\n",
    "    if A[0,0] == 0 :\n",
    "        raise MatrixIsSingular()\n",
    "    A[0] = A[0] / A[0,0]\n",
    "    return A\n",
    "\n",
    "# First we'll set the sub-diagonal elements to zero, i.e. A[1,0].\n",
    "# Next we want the diagonal element to be equal to one.\n",
    "# We'll divide the row by the value of A[1, 1].\n",
    "# Again, we need to test if this is zero.\n",
    "# If so, we'll add a lower row and repeat setting the sub-diagonal elements to zero.\n",
    "# There is no need to edit this function.\n",
    "def fixRowOne(A) :\n",
    "    A[1] = A[1] - A[1,0] * A[0]\n",
    "    if A[1,1] == 0 :\n",
    "        A[1] = A[1] + A[2]\n",
    "        A[1] = A[1] - A[1,0] * A[0]\n",
    "    if A[1,1] == 0 :\n",
    "        A[1] = A[1] + A[3]\n",
    "        A[1] = A[1] - A[1,0] * A[0]\n",
    "    if A[1,1] == 0 :\n",
    "        raise MatrixIsSingular()\n",
    "    A[1] = A[1] / A[1,1]\n",
    "    return A\n",
    "\n",
    "# This is the first function that you should complete.\n",
    "# Follow the instructions inside the function at each comment.\n",
    "def fixRowTwo(A) :\n",
    "    # Insert code below to set the sub-diagonal elements of row two to zero (there are two of them).\n",
    "    A[2] = A[2] - A[2,0] * A[0]\n",
    "    A[2] = A[2] - A[2,1] * A[1]\n",
    "    # Next we'll test that the diagonal element is not zero.\n",
    "    if A[2,2] == 0 :\n",
    "        # Insert code below that adds a lower row to row 2.\n",
    "        A[2] = A[2] + A[3]\n",
    "        # Now repeat your code which sets the sub-diagonal elements to zero.\n",
    "        A[2] = A[2] - A[2,0] * A[0]\n",
    "        A[2] = A[2] - A[2,1] * A[1]\n",
    "    if A[2,2] == 0 :\n",
    "        raise MatrixIsSingular()\n",
    "    # Finally set the diagonal element to one by dividing the whole row by that element.\n",
    "    A[2] = A[2] / A[2,2]\n",
    "    return A\n",
    "\n",
    "# You should also complete this function\n",
    "# Follow the instructions inside the function at each comment.\n",
    "def fixRowThree(A) :\n",
    "    # Insert code below to set the sub-diagonal elements of row three to zero.\n",
    "    A[3] = A[3] - A[3,0] * A[0]\n",
    "    A[3] = A[3] - A[3,1] * A[1]\n",
    "    A[3] = A[3] - A[3,2] * A[2]\n",
    "    # Complete the if statement to test if the diagonal element is zero.\n",
    "    if A[3,3] == 0:\n",
    "        raise MatrixIsSingular()\n",
    "    # Transform the row to set the diagonal element to one.\n",
    "    A[3] = A[3] / A[3,3]\n",
    "    return A"
   ]
  },
  {
   "cell_type": "code",
   "execution_count": 12,
   "metadata": {},
   "outputs": [],
   "source": [
    "def gsBasis4(A) :\n",
    "    B = np.array(A, dtype=np.float_) # Make B as a copy of A, since we're going to alter it's values.\n",
    "    # The zeroth column is easy, since it has no other vectors to make it normal to.\n",
    "    # All that needs to be done is to normalise it. I.e. divide by its modulus, or norm.\n",
    "    B[:, 0] = B[:, 0] / la.norm(B[:, 0])\n",
    "    # For the first column, we need to subtract any overlap with our new zeroth vector.\n",
    "    B[:, 1] = B[:, 1] - B[:, 1] @ B[:, 0] * B[:, 0]\n",
    "    # If there's anything left after that subtraction, then B[:, 1] is linearly independant of B[:, 0]\n",
    "    # If this is the case, we can normalise it. Otherwise we'll set that vector to zero.\n",
    "    if la.norm(B[:, 1]) > verySmallNumber :\n",
    "        B[:, 1] = B[:, 1] / la.norm(B[:, 1])\n",
    "    else :\n",
    "        B[:, 1] = np.zeros_like(B[:, 1])\n",
    "    # Now we need to repeat the process for column 2.\n",
    "    # Insert two lines of code, the first to subtract the overlap with the zeroth vector,\n",
    "    # and the second to subtract the overlap with the first.\n",
    "    B[:,2] = B[:,2] - B[:,2] @ B[:,0] * B[:,0]\n",
    "    B[:,2] = B[:,2] - B[:,2] @ B[:,1] * B[:,1]\n",
    "    # Again we'll need to normalise our new vector.\n",
    "    # Copy and adapt the normalisation fragment from above to column 2.\n",
    "    if la.norm(B[:,2]) > verySmallNumber:\n",
    "        B[:,2] = B[:,2] / la.norm(B[:,2])\n",
    "    else:\n",
    "        B[:,2] = np.zeros_like(B[:,2])\n",
    "    # Finally, column three:\n",
    "    # Insert code to subtract the overlap with the first three vectors.\n",
    "    B[:,3] = B[:,3] - B[:,3] @ B[:,0] * B[:,0]\n",
    "    B[:,3] = B[:,3] - B[:,3] @ B[:,1] * B[:,1]\n",
    "    B[:,3] = B[:,3] - B[:,3] @ B[:,2] * B[:,2]\n",
    "    # Now normalise if possible\n",
    "    if la.norm(B[:,3]) > verySmallNumber:\n",
    "        B[:,3] = B[:,3] / la.norm(B[:,3])\n",
    "    else:\n",
    "        B[:,3] = np.zeros_like(B[:,3])\n",
    "    # Finally, we return the result:\n",
    "    return B\n",
    "\n",
    "# The second part of this exercise will generalise the procedure.\n",
    "# Previously, we could only have four vectors, and there was a lot of repeating in the code.\n",
    "# We'll use a for-loop here to iterate the process for each vector.\n",
    "def gsBasis(A) :\n",
    "    B = np.array(A, dtype=np.float_) # Make B as a copy of A, since we're going to alter it's values.\n",
    "    # Loop over all vectors, starting with zero, label them with i\n",
    "    for i in range(B.shape[1]) :\n",
    "        # Inside that loop, loop over all previous vectors, j, to subtract.\n",
    "        for j in range(i) :\n",
    "            # Complete the code to subtract the overlap with previous vectors.\n",
    "            # you'll need the current vector B[:, i] and a previous vector B[:, j]\n",
    "            B[:, i] = B[:,i] - B[:,i] @ B[:,j] * B[:,j]\n",
    "        # Next insert code to do the normalisation test for B[:, i]\n",
    "        if la.norm(B[:,i]) > verySmallNumber:\n",
    "            B[:,i] = B[:,i] / la.norm(B[:,i])\n",
    "        else:\n",
    "            B[:,i] = np.zeros_like(B[:,i])\n",
    "    # Finally, we return the result:\n",
    "    return B\n",
    "\n",
    "# This function uses the Gram-schmidt process to calculate the dimension\n",
    "# spanned by a list of vectors.\n",
    "# Since each vector is normalised to one, or is zero,\n",
    "# the sum of all the norms will be the dimension.\n",
    "def dimensions(A) :\n",
    "    return np.sum(la.norm(gsBasis(A), axis=0))"
   ]
  },
  {
   "cell_type": "code",
   "execution_count": 30,
   "metadata": {},
   "outputs": [],
   "source": [
    "def build_reflection_matrix(bearBasis) : # The parameter bearBasis is a 2×2 matrix that is passed to the function.\n",
    "    # Use the gsBasis function on bearBasis to get the mirror's orthonormal basis.\n",
    "    E = gsBasis(bearBasis)\n",
    "    # Write a matrix in component form that perform's the mirror's reflection in the mirror's basis.\n",
    "    # Recall, the mirror operates by negating the last component of a vector.\n",
    "    # Replace a,b,c,d with appropriate values\n",
    "    TE = np.array([[1, 0],\n",
    "                   [0, -1]])\n",
    "    # Combine the matrices E and TE to produce your transformation matrix.\n",
    "    T = E @ TE @ transpose(E)\n",
    "    # Finally, we return the result. There is no need to change this line.\n",
    "    return T"
   ]
  },
  {
   "cell_type": "code",
   "execution_count": 132,
   "metadata": {},
   "outputs": [
    {
     "data": {
      "text/plain": [
       "array([[ 1.86602540e+00,  5.55111512e-17],\n",
       "       [-9.71445147e-17,  1.33974596e-01]])"
      ]
     },
     "execution_count": 132,
     "metadata": {},
     "output_type": "execute_result"
    }
   ],
   "source": [
    "T = np.array([[3/2,-1],[-1/2,1/2]])\n",
    "C = np.array([[-1-math.sqrt(3),-1+math.sqrt(3)],[1,1]])\n",
    "D = inv(C) @ T @ C\n",
    "D"
   ]
  },
  {
   "cell_type": "code",
   "execution_count": 78,
   "metadata": {},
   "outputs": [
    {
     "data": {
      "text/plain": [
       "array([[ 2.75, -2.  ],\n",
       "       [-1.  ,  0.75]])"
      ]
     },
     "execution_count": 78,
     "metadata": {},
     "output_type": "execute_result"
    }
   ],
   "source": [
    "T2 = C @ D @ D @ inv(C)\n",
    "T2"
   ]
  },
  {
   "cell_type": "code",
   "execution_count": 42,
   "metadata": {},
   "outputs": [
    {
     "data": {
      "text/plain": [
       "array([[ 1.,  0.],\n",
       "       [ 2., -1.]])"
      ]
     },
     "execution_count": 42,
     "metadata": {},
     "output_type": "execute_result"
    }
   ],
   "source": [
    "C = np.array([[1,0],[1,1]])\n",
    "D = np.array([[1,0],[0,-1]])\n",
    "T5 = C @ D @ D @ D @ D @ D @ inv(C)\n",
    "T5"
   ]
  },
  {
   "cell_type": "code",
   "execution_count": 56,
   "metadata": {},
   "outputs": [],
   "source": [
    "def page_rank(linkMatrix, d):    \n",
    "    import numpy.linalg as la\n",
    "    n = linkMatrix.shape[0]\n",
    "    M = d * linkMatrix + (1-d)/n * np.ones([n,n])\n",
    "    r = 100 * np.ones(n) / n\n",
    "    lastR = r\n",
    "    r = M @ r\n",
    "    i = 0\n",
    "    while la.norm(lastR - r) > 0.01:\n",
    "        lastR = r\n",
    "        r = M @ r\n",
    "        i += 1\n",
    "    return r"
   ]
  },
  {
   "cell_type": "code",
   "execution_count": 82,
   "metadata": {},
   "outputs": [
    {
     "data": {
      "text/plain": [
       "(array([1.8660254, 0.1339746]), array([[ 0.9390708 ,  0.59069049],\n",
       "        [-0.34372377,  0.80689822]]))"
      ]
     },
     "execution_count": 82,
     "metadata": {},
     "output_type": "execute_result"
    }
   ],
   "source": [
    "A = np.array([[3/2, -1],[-1/2,1/2]])\n",
    "la.eig(A)"
   ]
  },
  {
   "cell_type": "code",
   "execution_count": 129,
   "metadata": {},
   "outputs": [
    {
     "data": {
      "text/plain": [
       "array([[-5.85410197],\n",
       "       [ 2.11803399]])"
      ]
     },
     "execution_count": 129,
     "metadata": {},
     "output_type": "execute_result"
    }
   ],
   "source": [
    "C = np.array([[-1-math.sqrt(5)],[1]])\n",
    "A @ C"
   ]
  }
 ],
 "metadata": {
  "kernelspec": {
   "display_name": "Python 3",
   "language": "python",
   "name": "python3"
  },
  "language_info": {
   "codemirror_mode": {
    "name": "ipython",
    "version": 3
   },
   "file_extension": ".py",
   "mimetype": "text/x-python",
   "name": "python",
   "nbconvert_exporter": "python",
   "pygments_lexer": "ipython3",
   "version": "3.6.5"
  }
 },
 "nbformat": 4,
 "nbformat_minor": 2
}
