{
 "cells": [
  {
   "cell_type": "markdown",
   "metadata": {},
   "source": [
    "# Linear Algebra"
   ]
  },
  {
   "cell_type": "markdown",
   "metadata": {},
   "source": [
    "** Vectors ** <br>\n",
    "Column or row vectors.\n",
    "\n",
    "$\\overrightarrow{v} = \\begin{bmatrix}\n",
    "  x_{1} \\\\\n",
    "  x_{2} \\\\\n",
    "  x_{3} \\\\\n",
    "\\end{bmatrix}$"
   ]
  },
  {
   "cell_type": "markdown",
   "metadata": {},
   "source": [
    "**Real coordinate space** <br>\n",
    "${\\rm I\\!R}^2$ Two dimensional real coordinate space: all possible real valued tuples. <br>\n",
    "${\\rm I\\!R}^3$ Three dimensional real coordinate space. <br>\n",
    "${\\rm I\\!R}^n$ n dimensional real coordinate space. <br>\n",
    "Tuples are ordered. <br>\n",
    "\n",
    "$\\overrightarrow{v} \\in {\\rm I\\!R}^3$"
   ]
  },
  {
   "cell_type": "code",
   "execution_count": null,
   "metadata": {},
   "outputs": [],
   "source": []
  }
 ],
 "metadata": {
  "kernelspec": {
   "display_name": "Python 3",
   "language": "python",
   "name": "python3"
  },
  "language_info": {
   "codemirror_mode": {
    "name": "ipython",
    "version": 3
   },
   "file_extension": ".py",
   "mimetype": "text/x-python",
   "name": "python",
   "nbconvert_exporter": "python",
   "pygments_lexer": "ipython3",
   "version": "3.6.2"
  }
 },
 "nbformat": 4,
 "nbformat_minor": 2
}
