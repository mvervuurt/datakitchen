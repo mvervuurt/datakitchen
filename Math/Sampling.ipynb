{
 "cells": [
  {
   "cell_type": "code",
   "execution_count": 123,
   "metadata": {},
   "outputs": [],
   "source": [
    "import numpy as np\n",
    "import pandas as pd\n",
    "import pprint as pp\n",
    "import matplotlib\n",
    "\n",
    "%matplotlib inline"
   ]
  },
  {
   "cell_type": "code",
   "execution_count": 109,
   "metadata": {},
   "outputs": [],
   "source": [
    "# sample size and total population size\n",
    "n = 25\n",
    "h = 200\n",
    "N = 1000"
   ]
  },
  {
   "cell_type": "code",
   "execution_count": 110,
   "metadata": {},
   "outputs": [],
   "source": [
    "s1 = np.random.randint(1,200,h)\n",
    "s2 = np.random.randint(200,400,h)\n",
    "s3 = np.random.randint(400,600,h)\n",
    "s4 = np.random.randint(600,800,h)\n",
    "s5 = np.random.randint(800,1000,h)\n",
    "s = np.concatenate((s1,s2,s3,s4,s5))\n",
    "pmean = np.mean(s)"
   ]
  },
  {
   "cell_type": "code",
   "execution_count": 111,
   "metadata": {},
   "outputs": [
    {
     "name": "stdout",
     "output_type": "stream",
     "text": [
      "'population mean: 498.531'\n"
     ]
    }
   ],
   "source": [
    "pp.pprint('population mean: {}'.format(pmean))"
   ]
  },
  {
   "cell_type": "code",
   "execution_count": 112,
   "metadata": {},
   "outputs": [
    {
     "name": "stdout",
     "output_type": "stream",
     "text": [
      "'simple random sample mean: 535.28'\n"
     ]
    }
   ],
   "source": [
    "sample = np.random.choice(s,n)\n",
    "srsmean = np.mean(sample)\n",
    "pp.pprint('simple random sample mean: {}'.format(srsmean))"
   ]
  },
  {
   "cell_type": "code",
   "execution_count": 113,
   "metadata": {},
   "outputs": [
    {
     "name": "stdout",
     "output_type": "stream",
     "text": [
      "'Proportional allocation: 5'\n",
      "'stratified random sampling mean: 508.76'\n"
     ]
    }
   ],
   "source": [
    "w_h = h / N \n",
    "p_alloc = int(n*(h/N))\n",
    "\n",
    "s1_mean = np.mean(np.random.choice(s1,p_alloc))\n",
    "s2_mean = np.mean(np.random.choice(s2,p_alloc))\n",
    "s3_mean = np.mean(np.random.choice(s3,p_alloc))\n",
    "s4_mean = np.mean(np.random.choice(s4,p_alloc))\n",
    "s5_mean = np.mean(np.random.choice(s5,p_alloc))\n",
    "\n",
    "ssmean = w_h * s1_mean + w_h * s2_mean + w_h * s3_mean + w_h * s4_mean + w_h * s5_mean\n",
    "pp.pprint('Proportional allocation: {}'.format(p_alloc))\n",
    "pp.pprint('stratified random sampling mean: {}'.format(ssmean))"
   ]
  },
  {
   "cell_type": "code",
   "execution_count": 114,
   "metadata": {},
   "outputs": [
    {
     "name": "stdout",
     "output_type": "stream",
     "text": [
      "'simple random sample mean difference pop. mean: -36.74899999999997'\n",
      "'stratified random sample mean difference pop. mean: -10.228999999999985'\n"
     ]
    }
   ],
   "source": [
    "pp.pprint('simple random sample mean difference pop. mean: {}'.format(pmean - srsmean))\n",
    "pp.pprint('stratified random sample mean difference pop. mean: {}'.format(pmean - ssmean))"
   ]
  },
  {
   "cell_type": "code",
   "execution_count": null,
   "metadata": {},
   "outputs": [],
   "source": []
  },
  {
   "cell_type": "code",
   "execution_count": 116,
   "metadata": {},
   "outputs": [],
   "source": [
    "def simulation(repeat = 1000):\n",
    "    sim_results = []\n",
    "    for i in range(0,1000,1):\n",
    "        s1 = np.random.randint(1,200,h)\n",
    "        s2 = np.random.randint(200,400,h)\n",
    "        s3 = np.random.randint(400,600,h)\n",
    "        s4 = np.random.randint(600,800,h)\n",
    "        s5 = np.random.randint(800,1000,h)\n",
    "        s = np.concatenate((s1,s2,s3,s4,s5))\n",
    "        pmean = np.mean(s)\n",
    "        \n",
    "        sample = np.random.choice(s,n)\n",
    "        srsmean = np.mean(sample)\n",
    "        \n",
    "        w_h = h / N \n",
    "        p_alloc = int(n*(h/N))\n",
    "        s1_mean = np.mean(np.random.choice(s1,p_alloc))\n",
    "        s2_mean = np.mean(np.random.choice(s2,p_alloc))\n",
    "        s3_mean = np.mean(np.random.choice(s3,p_alloc))\n",
    "        s4_mean = np.mean(np.random.choice(s4,p_alloc))\n",
    "        s5_mean = np.mean(np.random.choice(s5,p_alloc))\n",
    "        ssmean = w_h * s1_mean + w_h * s2_mean + w_h * s3_mean + w_h * s4_mean + w_h * s5_mean\n",
    "        sim_results.append((abs(pmean - srsmean), abs(pmean - ssmean)))\n",
    "    return sim_results"
   ]
  },
  {
   "cell_type": "code",
   "execution_count": 117,
   "metadata": {},
   "outputs": [],
   "source": [
    "s_r = simulation()"
   ]
  },
  {
   "cell_type": "code",
   "execution_count": 125,
   "metadata": {},
   "outputs": [
    {
     "data": {
      "text/plain": [
       "<matplotlib.axes._subplots.AxesSubplot at 0x10e34b978>"
      ]
     },
     "execution_count": 125,
     "metadata": {},
     "output_type": "execute_result"
    },
    {
     "data": {
      "image/png": "[encoded data removed]",
      "text/plain": [
       "<Figure size 432x288 with 1 Axes>"
      ]
     },
     "metadata": {},
     "output_type": "display_data"
    }
   ],
   "source": [
    "pd.DataFrame(s_r, columns=['diff_srsmean', 'diff_ssmean']).plot.box()"
   ]
  },
  {
   "cell_type": "code",
   "execution_count": null,
   "metadata": {},
   "outputs": [],
   "source": []
  }
 ],
 "metadata": {
  "kernelspec": {
   "display_name": "Python 3",
   "language": "python",
   "name": "python3"
  },
  "language_info": {
   "codemirror_mode": {
    "name": "ipython",
    "version": 3
   },
   "file_extension": ".py",
   "mimetype": "text/x-python",
   "name": "python",
   "nbconvert_exporter": "python",
   "pygments_lexer": "ipython3",
   "version": "3.6.5"
  }
 },
 "nbformat": 4,
 "nbformat_minor": 2
}
